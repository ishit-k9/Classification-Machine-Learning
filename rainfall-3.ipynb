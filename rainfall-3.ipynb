{
 "cells": [
  {
   "cell_type": "markdown",
   "id": "ceb021c3",
   "metadata": {
    "id": "MzGVx_TMhSI9",
    "papermill": {
     "duration": 0.018022,
     "end_time": "2025-03-30T12:01:09.144780",
     "exception": false,
     "start_time": "2025-03-30T12:01:09.126758",
     "status": "completed"
    },
    "tags": []
   },
   "source": [
    "# **Import Libraries**"
   ]
  },
  {
   "cell_type": "code",
   "execution_count": 1,
   "id": "e91a1ef9",
   "metadata": {
    "execution": {
     "iopub.execute_input": "2025-03-30T12:01:09.181567Z",
     "iopub.status.busy": "2025-03-30T12:01:09.181220Z",
     "iopub.status.idle": "2025-03-30T12:01:13.564051Z",
     "shell.execute_reply": "2025-03-30T12:01:13.562876Z"
    },
    "executionInfo": {
     "elapsed": 60,
     "status": "ok",
     "timestamp": 1743261371666,
     "user": {
      "displayName": "Ishit Gehlot",
      "userId": "01473306695467736694"
     },
     "user_tz": -330
    },
    "id": "6137cASPB_m1",
    "papermill": {
     "duration": 4.401974,
     "end_time": "2025-03-30T12:01:13.566357",
     "exception": false,
     "start_time": "2025-03-30T12:01:09.164383",
     "status": "completed"
    },
    "tags": []
   },
   "outputs": [],
   "source": [
    "import numpy as np\n",
    "import pandas as pd\n",
    "import matplotlib.pyplot as plt\n",
    "import seaborn as sns\n",
    "from scipy.stats import shapiro, ttest_1samp\n",
    "from sklearn.model_selection import train_test_split, cross_val_score\n",
    "from sklearn.preprocessing import MinMaxScaler, StandardScaler\n",
    "from sklearn.linear_model import LogisticRegression\n",
    "from sklearn.tree import DecisionTreeClassifier\n",
    "from sklearn.ensemble import RandomForestClassifier, GradientBoostingClassifier, VotingClassifier, StackingClassifier\n",
    "from sklearn.svm import SVC\n",
    "from sklearn.metrics import roc_auc_score\n",
    "import xgboost as xgb\n",
    "from imblearn.over_sampling import SMOTE"
   ]
  },
  {
   "cell_type": "code",
   "execution_count": 2,
   "id": "f5c35568",
   "metadata": {
    "execution": {
     "iopub.execute_input": "2025-03-30T12:01:13.600639Z",
     "iopub.status.busy": "2025-03-30T12:01:13.600076Z",
     "iopub.status.idle": "2025-03-30T12:01:13.634935Z",
     "shell.execute_reply": "2025-03-30T12:01:13.633756Z"
    },
    "executionInfo": {
     "elapsed": 237,
     "status": "ok",
     "timestamp": 1743261371974,
     "user": {
      "displayName": "Ishit Gehlot",
      "userId": "01473306695467736694"
     },
     "user_tz": -330
    },
    "id": "4j7suE25Cu19",
    "papermill": {
     "duration": 0.054506,
     "end_time": "2025-03-30T12:01:13.636840",
     "exception": false,
     "start_time": "2025-03-30T12:01:13.582334",
     "status": "completed"
    },
    "tags": []
   },
   "outputs": [],
   "source": [
    "train = pd.read_csv('/kaggle/input/playground-series-s5e3/train.csv')\n",
    "test = pd.read_csv('/kaggle/input/playground-series-s5e3/test.csv')\n",
    "submission = pd.read_csv('/kaggle/input/playground-series-s5e3/sample_submission.csv')"
   ]
  },
  {
   "cell_type": "code",
   "execution_count": 3,
   "id": "ad96f9cb",
   "metadata": {
    "execution": {
     "iopub.execute_input": "2025-03-30T12:01:13.670489Z",
     "iopub.status.busy": "2025-03-30T12:01:13.670098Z",
     "iopub.status.idle": "2025-03-30T12:01:13.703800Z",
     "shell.execute_reply": "2025-03-30T12:01:13.702716Z"
    },
    "executionInfo": {
     "elapsed": 183,
     "status": "ok",
     "timestamp": 1743261372108,
     "user": {
      "displayName": "Ishit Gehlot",
      "userId": "01473306695467736694"
     },
     "user_tz": -330
    },
    "id": "1OKmB9vRDA1w",
    "outputId": "0ee351ce-96e6-4bfe-f728-3d77571903d5",
    "papermill": {
     "duration": 0.052734,
     "end_time": "2025-03-30T12:01:13.705653",
     "exception": false,
     "start_time": "2025-03-30T12:01:13.652919",
     "status": "completed"
    },
    "tags": []
   },
   "outputs": [
    {
     "data": {
      "text/html": [
       "<div>\n",
       "<style scoped>\n",
       "    .dataframe tbody tr th:only-of-type {\n",
       "        vertical-align: middle;\n",
       "    }\n",
       "\n",
       "    .dataframe tbody tr th {\n",
       "        vertical-align: top;\n",
       "    }\n",
       "\n",
       "    .dataframe thead th {\n",
       "        text-align: right;\n",
       "    }\n",
       "</style>\n",
       "<table border=\"1\" class=\"dataframe\">\n",
       "  <thead>\n",
       "    <tr style=\"text-align: right;\">\n",
       "      <th></th>\n",
       "      <th>id</th>\n",
       "      <th>day</th>\n",
       "      <th>pressure</th>\n",
       "      <th>maxtemp</th>\n",
       "      <th>temparature</th>\n",
       "      <th>mintemp</th>\n",
       "      <th>dewpoint</th>\n",
       "      <th>humidity</th>\n",
       "      <th>cloud</th>\n",
       "      <th>sunshine</th>\n",
       "      <th>winddirection</th>\n",
       "      <th>windspeed</th>\n",
       "      <th>rainfall</th>\n",
       "    </tr>\n",
       "  </thead>\n",
       "  <tbody>\n",
       "    <tr>\n",
       "      <th>0</th>\n",
       "      <td>0</td>\n",
       "      <td>1</td>\n",
       "      <td>1017.4</td>\n",
       "      <td>21.2</td>\n",
       "      <td>20.6</td>\n",
       "      <td>19.9</td>\n",
       "      <td>19.4</td>\n",
       "      <td>87.0</td>\n",
       "      <td>88.0</td>\n",
       "      <td>1.1</td>\n",
       "      <td>60.0</td>\n",
       "      <td>17.2</td>\n",
       "      <td>1</td>\n",
       "    </tr>\n",
       "    <tr>\n",
       "      <th>1</th>\n",
       "      <td>1</td>\n",
       "      <td>2</td>\n",
       "      <td>1019.5</td>\n",
       "      <td>16.2</td>\n",
       "      <td>16.9</td>\n",
       "      <td>15.8</td>\n",
       "      <td>15.4</td>\n",
       "      <td>95.0</td>\n",
       "      <td>91.0</td>\n",
       "      <td>0.0</td>\n",
       "      <td>50.0</td>\n",
       "      <td>21.9</td>\n",
       "      <td>1</td>\n",
       "    </tr>\n",
       "    <tr>\n",
       "      <th>2</th>\n",
       "      <td>2</td>\n",
       "      <td>3</td>\n",
       "      <td>1024.1</td>\n",
       "      <td>19.4</td>\n",
       "      <td>16.1</td>\n",
       "      <td>14.6</td>\n",
       "      <td>9.3</td>\n",
       "      <td>75.0</td>\n",
       "      <td>47.0</td>\n",
       "      <td>8.3</td>\n",
       "      <td>70.0</td>\n",
       "      <td>18.1</td>\n",
       "      <td>1</td>\n",
       "    </tr>\n",
       "    <tr>\n",
       "      <th>3</th>\n",
       "      <td>3</td>\n",
       "      <td>4</td>\n",
       "      <td>1013.4</td>\n",
       "      <td>18.1</td>\n",
       "      <td>17.8</td>\n",
       "      <td>16.9</td>\n",
       "      <td>16.8</td>\n",
       "      <td>95.0</td>\n",
       "      <td>95.0</td>\n",
       "      <td>0.0</td>\n",
       "      <td>60.0</td>\n",
       "      <td>35.6</td>\n",
       "      <td>1</td>\n",
       "    </tr>\n",
       "    <tr>\n",
       "      <th>4</th>\n",
       "      <td>4</td>\n",
       "      <td>5</td>\n",
       "      <td>1021.8</td>\n",
       "      <td>21.3</td>\n",
       "      <td>18.4</td>\n",
       "      <td>15.2</td>\n",
       "      <td>9.6</td>\n",
       "      <td>52.0</td>\n",
       "      <td>45.0</td>\n",
       "      <td>3.6</td>\n",
       "      <td>40.0</td>\n",
       "      <td>24.8</td>\n",
       "      <td>0</td>\n",
       "    </tr>\n",
       "  </tbody>\n",
       "</table>\n",
       "</div>"
      ],
      "text/plain": [
       "   id  day  pressure  maxtemp  temparature  mintemp  dewpoint  humidity  \\\n",
       "0   0    1    1017.4     21.2         20.6     19.9      19.4      87.0   \n",
       "1   1    2    1019.5     16.2         16.9     15.8      15.4      95.0   \n",
       "2   2    3    1024.1     19.4         16.1     14.6       9.3      75.0   \n",
       "3   3    4    1013.4     18.1         17.8     16.9      16.8      95.0   \n",
       "4   4    5    1021.8     21.3         18.4     15.2       9.6      52.0   \n",
       "\n",
       "   cloud  sunshine  winddirection  windspeed  rainfall  \n",
       "0   88.0       1.1           60.0       17.2         1  \n",
       "1   91.0       0.0           50.0       21.9         1  \n",
       "2   47.0       8.3           70.0       18.1         1  \n",
       "3   95.0       0.0           60.0       35.6         1  \n",
       "4   45.0       3.6           40.0       24.8         0  "
      ]
     },
     "execution_count": 3,
     "metadata": {},
     "output_type": "execute_result"
    }
   ],
   "source": [
    "train.head()"
   ]
  },
  {
   "cell_type": "code",
   "execution_count": 4,
   "id": "c488f2bb",
   "metadata": {
    "execution": {
     "iopub.execute_input": "2025-03-30T12:01:13.740131Z",
     "iopub.status.busy": "2025-03-30T12:01:13.739720Z",
     "iopub.status.idle": "2025-03-30T12:01:13.767440Z",
     "shell.execute_reply": "2025-03-30T12:01:13.766083Z"
    },
    "executionInfo": {
     "elapsed": 108,
     "status": "ok",
     "timestamp": 1743261372328,
     "user": {
      "displayName": "Ishit Gehlot",
      "userId": "01473306695467736694"
     },
     "user_tz": -330
    },
    "id": "zMf79al_FBUR",
    "outputId": "dfc6c6f9-00b7-4ab6-8780-4932d7235ce7",
    "papermill": {
     "duration": 0.047528,
     "end_time": "2025-03-30T12:01:13.769496",
     "exception": false,
     "start_time": "2025-03-30T12:01:13.721968",
     "status": "completed"
    },
    "tags": []
   },
   "outputs": [
    {
     "name": "stdout",
     "output_type": "stream",
     "text": [
      "<class 'pandas.core.frame.DataFrame'>\n",
      "RangeIndex: 2190 entries, 0 to 2189\n",
      "Data columns (total 13 columns):\n",
      " #   Column         Non-Null Count  Dtype  \n",
      "---  ------         --------------  -----  \n",
      " 0   id             2190 non-null   int64  \n",
      " 1   day            2190 non-null   int64  \n",
      " 2   pressure       2190 non-null   float64\n",
      " 3   maxtemp        2190 non-null   float64\n",
      " 4   temparature    2190 non-null   float64\n",
      " 5   mintemp        2190 non-null   float64\n",
      " 6   dewpoint       2190 non-null   float64\n",
      " 7   humidity       2190 non-null   float64\n",
      " 8   cloud          2190 non-null   float64\n",
      " 9   sunshine       2190 non-null   float64\n",
      " 10  winddirection  2190 non-null   float64\n",
      " 11  windspeed      2190 non-null   float64\n",
      " 12  rainfall       2190 non-null   int64  \n",
      "dtypes: float64(10), int64(3)\n",
      "memory usage: 222.5 KB\n"
     ]
    }
   ],
   "source": [
    "train.info()"
   ]
  },
  {
   "cell_type": "code",
   "execution_count": 5,
   "id": "e3c88e39",
   "metadata": {
    "execution": {
     "iopub.execute_input": "2025-03-30T12:01:13.804626Z",
     "iopub.status.busy": "2025-03-30T12:01:13.804237Z",
     "iopub.status.idle": "2025-03-30T12:01:13.812269Z",
     "shell.execute_reply": "2025-03-30T12:01:13.811287Z"
    },
    "executionInfo": {
     "elapsed": 23,
     "status": "ok",
     "timestamp": 1743261372332,
     "user": {
      "displayName": "Ishit Gehlot",
      "userId": "01473306695467736694"
     },
     "user_tz": -330
    },
    "id": "oXgwqGGLFDx6",
    "outputId": "2d5c8f05-9225-45ce-d1c6-adc14b9c6272",
    "papermill": {
     "duration": 0.027173,
     "end_time": "2025-03-30T12:01:13.814095",
     "exception": false,
     "start_time": "2025-03-30T12:01:13.786922",
     "status": "completed"
    },
    "tags": []
   },
   "outputs": [
    {
     "data": {
      "text/plain": [
       "id               0\n",
       "day              0\n",
       "pressure         0\n",
       "maxtemp          0\n",
       "temparature      0\n",
       "mintemp          0\n",
       "dewpoint         0\n",
       "humidity         0\n",
       "cloud            0\n",
       "sunshine         0\n",
       "winddirection    0\n",
       "windspeed        0\n",
       "rainfall         0\n",
       "dtype: int64"
      ]
     },
     "execution_count": 5,
     "metadata": {},
     "output_type": "execute_result"
    }
   ],
   "source": [
    "train.isnull().sum()"
   ]
  },
  {
   "cell_type": "code",
   "execution_count": 6,
   "id": "6395c9a9",
   "metadata": {
    "execution": {
     "iopub.execute_input": "2025-03-30T12:01:13.851347Z",
     "iopub.status.busy": "2025-03-30T12:01:13.850927Z",
     "iopub.status.idle": "2025-03-30T12:01:13.903853Z",
     "shell.execute_reply": "2025-03-30T12:01:13.902419Z"
    },
    "executionInfo": {
     "elapsed": 114,
     "status": "ok",
     "timestamp": 1743261372435,
     "user": {
      "displayName": "Ishit Gehlot",
      "userId": "01473306695467736694"
     },
     "user_tz": -330
    },
    "id": "DspnH9cKFLL3",
    "outputId": "53f9be5f-a862-41c9-ec4d-9a63ea5367ba",
    "papermill": {
     "duration": 0.074742,
     "end_time": "2025-03-30T12:01:13.905834",
     "exception": false,
     "start_time": "2025-03-30T12:01:13.831092",
     "status": "completed"
    },
    "tags": []
   },
   "outputs": [
    {
     "data": {
      "text/html": [
       "<div>\n",
       "<style scoped>\n",
       "    .dataframe tbody tr th:only-of-type {\n",
       "        vertical-align: middle;\n",
       "    }\n",
       "\n",
       "    .dataframe tbody tr th {\n",
       "        vertical-align: top;\n",
       "    }\n",
       "\n",
       "    .dataframe thead th {\n",
       "        text-align: right;\n",
       "    }\n",
       "</style>\n",
       "<table border=\"1\" class=\"dataframe\">\n",
       "  <thead>\n",
       "    <tr style=\"text-align: right;\">\n",
       "      <th></th>\n",
       "      <th>id</th>\n",
       "      <th>day</th>\n",
       "      <th>pressure</th>\n",
       "      <th>maxtemp</th>\n",
       "      <th>temparature</th>\n",
       "      <th>mintemp</th>\n",
       "      <th>dewpoint</th>\n",
       "      <th>humidity</th>\n",
       "      <th>cloud</th>\n",
       "      <th>sunshine</th>\n",
       "      <th>winddirection</th>\n",
       "      <th>windspeed</th>\n",
       "      <th>rainfall</th>\n",
       "    </tr>\n",
       "  </thead>\n",
       "  <tbody>\n",
       "    <tr>\n",
       "      <th>count</th>\n",
       "      <td>2190.000000</td>\n",
       "      <td>2190.000000</td>\n",
       "      <td>2190.000000</td>\n",
       "      <td>2190.000000</td>\n",
       "      <td>2190.000000</td>\n",
       "      <td>2190.000000</td>\n",
       "      <td>2190.000000</td>\n",
       "      <td>2190.000000</td>\n",
       "      <td>2190.000000</td>\n",
       "      <td>2190.000000</td>\n",
       "      <td>2190.000000</td>\n",
       "      <td>2190.000000</td>\n",
       "      <td>2190.000000</td>\n",
       "    </tr>\n",
       "    <tr>\n",
       "      <th>mean</th>\n",
       "      <td>1094.500000</td>\n",
       "      <td>179.948402</td>\n",
       "      <td>1013.602146</td>\n",
       "      <td>26.365799</td>\n",
       "      <td>23.953059</td>\n",
       "      <td>22.170091</td>\n",
       "      <td>20.454566</td>\n",
       "      <td>82.036530</td>\n",
       "      <td>75.721918</td>\n",
       "      <td>3.744429</td>\n",
       "      <td>104.863151</td>\n",
       "      <td>21.804703</td>\n",
       "      <td>0.753425</td>\n",
       "    </tr>\n",
       "    <tr>\n",
       "      <th>std</th>\n",
       "      <td>632.342866</td>\n",
       "      <td>105.203592</td>\n",
       "      <td>5.655366</td>\n",
       "      <td>5.654330</td>\n",
       "      <td>5.222410</td>\n",
       "      <td>5.059120</td>\n",
       "      <td>5.288406</td>\n",
       "      <td>7.800654</td>\n",
       "      <td>18.026498</td>\n",
       "      <td>3.626327</td>\n",
       "      <td>80.002416</td>\n",
       "      <td>9.898659</td>\n",
       "      <td>0.431116</td>\n",
       "    </tr>\n",
       "    <tr>\n",
       "      <th>min</th>\n",
       "      <td>0.000000</td>\n",
       "      <td>1.000000</td>\n",
       "      <td>999.000000</td>\n",
       "      <td>10.400000</td>\n",
       "      <td>7.400000</td>\n",
       "      <td>4.000000</td>\n",
       "      <td>-0.300000</td>\n",
       "      <td>39.000000</td>\n",
       "      <td>2.000000</td>\n",
       "      <td>0.000000</td>\n",
       "      <td>10.000000</td>\n",
       "      <td>4.400000</td>\n",
       "      <td>0.000000</td>\n",
       "    </tr>\n",
       "    <tr>\n",
       "      <th>25%</th>\n",
       "      <td>547.250000</td>\n",
       "      <td>89.000000</td>\n",
       "      <td>1008.600000</td>\n",
       "      <td>21.300000</td>\n",
       "      <td>19.300000</td>\n",
       "      <td>17.700000</td>\n",
       "      <td>16.800000</td>\n",
       "      <td>77.000000</td>\n",
       "      <td>69.000000</td>\n",
       "      <td>0.400000</td>\n",
       "      <td>40.000000</td>\n",
       "      <td>14.125000</td>\n",
       "      <td>1.000000</td>\n",
       "    </tr>\n",
       "    <tr>\n",
       "      <th>50%</th>\n",
       "      <td>1094.500000</td>\n",
       "      <td>178.500000</td>\n",
       "      <td>1013.000000</td>\n",
       "      <td>27.800000</td>\n",
       "      <td>25.500000</td>\n",
       "      <td>23.850000</td>\n",
       "      <td>22.150000</td>\n",
       "      <td>82.000000</td>\n",
       "      <td>83.000000</td>\n",
       "      <td>2.400000</td>\n",
       "      <td>70.000000</td>\n",
       "      <td>20.500000</td>\n",
       "      <td>1.000000</td>\n",
       "    </tr>\n",
       "    <tr>\n",
       "      <th>75%</th>\n",
       "      <td>1641.750000</td>\n",
       "      <td>270.000000</td>\n",
       "      <td>1017.775000</td>\n",
       "      <td>31.200000</td>\n",
       "      <td>28.400000</td>\n",
       "      <td>26.400000</td>\n",
       "      <td>25.000000</td>\n",
       "      <td>88.000000</td>\n",
       "      <td>88.000000</td>\n",
       "      <td>6.800000</td>\n",
       "      <td>200.000000</td>\n",
       "      <td>27.900000</td>\n",
       "      <td>1.000000</td>\n",
       "    </tr>\n",
       "    <tr>\n",
       "      <th>max</th>\n",
       "      <td>2189.000000</td>\n",
       "      <td>365.000000</td>\n",
       "      <td>1034.600000</td>\n",
       "      <td>36.000000</td>\n",
       "      <td>31.500000</td>\n",
       "      <td>29.800000</td>\n",
       "      <td>26.700000</td>\n",
       "      <td>98.000000</td>\n",
       "      <td>100.000000</td>\n",
       "      <td>12.100000</td>\n",
       "      <td>300.000000</td>\n",
       "      <td>59.500000</td>\n",
       "      <td>1.000000</td>\n",
       "    </tr>\n",
       "  </tbody>\n",
       "</table>\n",
       "</div>"
      ],
      "text/plain": [
       "                id          day     pressure      maxtemp  temparature  \\\n",
       "count  2190.000000  2190.000000  2190.000000  2190.000000  2190.000000   \n",
       "mean   1094.500000   179.948402  1013.602146    26.365799    23.953059   \n",
       "std     632.342866   105.203592     5.655366     5.654330     5.222410   \n",
       "min       0.000000     1.000000   999.000000    10.400000     7.400000   \n",
       "25%     547.250000    89.000000  1008.600000    21.300000    19.300000   \n",
       "50%    1094.500000   178.500000  1013.000000    27.800000    25.500000   \n",
       "75%    1641.750000   270.000000  1017.775000    31.200000    28.400000   \n",
       "max    2189.000000   365.000000  1034.600000    36.000000    31.500000   \n",
       "\n",
       "           mintemp     dewpoint     humidity        cloud     sunshine  \\\n",
       "count  2190.000000  2190.000000  2190.000000  2190.000000  2190.000000   \n",
       "mean     22.170091    20.454566    82.036530    75.721918     3.744429   \n",
       "std       5.059120     5.288406     7.800654    18.026498     3.626327   \n",
       "min       4.000000    -0.300000    39.000000     2.000000     0.000000   \n",
       "25%      17.700000    16.800000    77.000000    69.000000     0.400000   \n",
       "50%      23.850000    22.150000    82.000000    83.000000     2.400000   \n",
       "75%      26.400000    25.000000    88.000000    88.000000     6.800000   \n",
       "max      29.800000    26.700000    98.000000   100.000000    12.100000   \n",
       "\n",
       "       winddirection    windspeed     rainfall  \n",
       "count    2190.000000  2190.000000  2190.000000  \n",
       "mean      104.863151    21.804703     0.753425  \n",
       "std        80.002416     9.898659     0.431116  \n",
       "min        10.000000     4.400000     0.000000  \n",
       "25%        40.000000    14.125000     1.000000  \n",
       "50%        70.000000    20.500000     1.000000  \n",
       "75%       200.000000    27.900000     1.000000  \n",
       "max       300.000000    59.500000     1.000000  "
      ]
     },
     "execution_count": 6,
     "metadata": {},
     "output_type": "execute_result"
    }
   ],
   "source": [
    "train.describe()"
   ]
  },
  {
   "cell_type": "code",
   "execution_count": 7,
   "id": "42b09e79",
   "metadata": {
    "execution": {
     "iopub.execute_input": "2025-03-30T12:01:13.953690Z",
     "iopub.status.busy": "2025-03-30T12:01:13.953306Z",
     "iopub.status.idle": "2025-03-30T12:01:13.957855Z",
     "shell.execute_reply": "2025-03-30T12:01:13.956749Z"
    },
    "executionInfo": {
     "elapsed": 10,
     "status": "ok",
     "timestamp": 1743261372451,
     "user": {
      "displayName": "Ishit Gehlot",
      "userId": "01473306695467736694"
     },
     "user_tz": -330
    },
    "id": "tVF5YQcFRsn4",
    "papermill": {
     "duration": 0.031663,
     "end_time": "2025-03-30T12:01:13.959564",
     "exception": false,
     "start_time": "2025-03-30T12:01:13.927901",
     "status": "completed"
    },
    "tags": []
   },
   "outputs": [],
   "source": [
    "cols = ['pressure', 'maxtemp', 'temparature', 'mintemp',\n",
    "       'dewpoint', 'humidity', 'cloud', 'sunshine', 'winddirection',\n",
    "       'windspeed']"
   ]
  },
  {
   "cell_type": "markdown",
   "id": "62cbdc96",
   "metadata": {
    "id": "XAIYN3cehfVH",
    "papermill": {
     "duration": 0.016825,
     "end_time": "2025-03-30T12:01:13.993300",
     "exception": false,
     "start_time": "2025-03-30T12:01:13.976475",
     "status": "completed"
    },
    "tags": []
   },
   "source": [
    "# **Graphical Representations of Data**"
   ]
  },
  {
   "cell_type": "code",
   "execution_count": 8,
   "id": "19bd0b98",
   "metadata": {
    "execution": {
     "iopub.execute_input": "2025-03-30T12:01:14.037119Z",
     "iopub.status.busy": "2025-03-30T12:01:14.035706Z",
     "iopub.status.idle": "2025-03-30T12:01:16.669112Z",
     "shell.execute_reply": "2025-03-30T12:01:16.667840Z"
    },
    "executionInfo": {
     "elapsed": 2682,
     "status": "ok",
     "timestamp": 1743261375139,
     "user": {
      "displayName": "Ishit Gehlot",
      "userId": "01473306695467736694"
     },
     "user_tz": -330
    },
    "id": "eiJ454K8FUTL",
    "outputId": "14e01be7-8968-4b19-c8da-63107fa2857f",
    "papermill": {
     "duration": 2.658983,
     "end_time": "2025-03-30T12:01:16.672661",
     "exception": false,
     "start_time": "2025-03-30T12:01:14.013678",
     "status": "completed"
    },
    "tags": []
   },
   "outputs": [
    {
     "name": "stderr",
     "output_type": "stream",
     "text": [
      "/usr/local/lib/python3.10/dist-packages/seaborn/_oldcore.py:1119: FutureWarning: use_inf_as_na option is deprecated and will be removed in a future version. Convert inf values to NaN before operating instead.\n",
      "  with pd.option_context('mode.use_inf_as_na', True):\n",
      "/usr/local/lib/python3.10/dist-packages/seaborn/_oldcore.py:1119: FutureWarning: use_inf_as_na option is deprecated and will be removed in a future version. Convert inf values to NaN before operating instead.\n",
      "  with pd.option_context('mode.use_inf_as_na', True):\n",
      "/usr/local/lib/python3.10/dist-packages/seaborn/_oldcore.py:1119: FutureWarning: use_inf_as_na option is deprecated and will be removed in a future version. Convert inf values to NaN before operating instead.\n",
      "  with pd.option_context('mode.use_inf_as_na', True):\n",
      "/usr/local/lib/python3.10/dist-packages/seaborn/_oldcore.py:1119: FutureWarning: use_inf_as_na option is deprecated and will be removed in a future version. Convert inf values to NaN before operating instead.\n",
      "  with pd.option_context('mode.use_inf_as_na', True):\n",
      "/usr/local/lib/python3.10/dist-packages/seaborn/_oldcore.py:1119: FutureWarning: use_inf_as_na option is deprecated and will be removed in a future version. Convert inf values to NaN before operating instead.\n",
      "  with pd.option_context('mode.use_inf_as_na', True):\n",
      "/usr/local/lib/python3.10/dist-packages/seaborn/_oldcore.py:1119: FutureWarning: use_inf_as_na option is deprecated and will be removed in a future version. Convert inf values to NaN before operating instead.\n",
      "  with pd.option_context('mode.use_inf_as_na', True):\n",
      "/usr/local/lib/python3.10/dist-packages/seaborn/_oldcore.py:1119: FutureWarning: use_inf_as_na option is deprecated and will be removed in a future version. Convert inf values to NaN before operating instead.\n",
      "  with pd.option_context('mode.use_inf_as_na', True):\n",
      "/usr/local/lib/python3.10/dist-packages/seaborn/_oldcore.py:1119: FutureWarning: use_inf_as_na option is deprecated and will be removed in a future version. Convert inf values to NaN before operating instead.\n",
      "  with pd.option_context('mode.use_inf_as_na', True):\n",
      "/usr/local/lib/python3.10/dist-packages/seaborn/_oldcore.py:1119: FutureWarning: use_inf_as_na option is deprecated and will be removed in a future version. Convert inf values to NaN before operating instead.\n",
      "  with pd.option_context('mode.use_inf_as_na', True):\n",
      "/usr/local/lib/python3.10/dist-packages/seaborn/_oldcore.py:1119: FutureWarning: use_inf_as_na option is deprecated and will be removed in a future version. Convert inf values to NaN before operating instead.\n",
      "  with pd.option_context('mode.use_inf_as_na', True):\n"
     ]
    },
    {
     "data": {
      "image/png": "[encoded data removed]",
      "text/plain": [
       "<Figure size 1500x1200 with 10 Axes>"
      ]
     },
     "metadata": {},
     "output_type": "display_data"
    }
   ],
   "source": [
    "plt.figure(figsize = (15,12))\n",
    "for i in list(enumerate(cols)):\n",
    "  plt.subplot(3,4, i[0]+1)\n",
    "  sns.histplot(data = train, x = i[1], kde = True)"
   ]
  },
  {
   "cell_type": "code",
   "execution_count": 9,
   "id": "ba9d388d",
   "metadata": {
    "execution": {
     "iopub.execute_input": "2025-03-30T12:01:16.715444Z",
     "iopub.status.busy": "2025-03-30T12:01:16.715076Z",
     "iopub.status.idle": "2025-03-30T12:01:20.127289Z",
     "shell.execute_reply": "2025-03-30T12:01:20.125824Z"
    },
    "executionInfo": {
     "elapsed": 6179,
     "status": "ok",
     "timestamp": 1743261381325,
     "user": {
      "displayName": "Ishit Gehlot",
      "userId": "01473306695467736694"
     },
     "user_tz": -330
    },
    "id": "7iRPSS1dTRIp",
    "outputId": "c82d3f96-a364-46b4-9830-537f14e6a092",
    "papermill": {
     "duration": 3.436837,
     "end_time": "2025-03-30T12:01:20.130461",
     "exception": false,
     "start_time": "2025-03-30T12:01:16.693624",
     "status": "completed"
    },
    "tags": []
   },
   "outputs": [
    {
     "name": "stderr",
     "output_type": "stream",
     "text": [
      "/usr/local/lib/python3.10/dist-packages/seaborn/_oldcore.py:1119: FutureWarning: use_inf_as_na option is deprecated and will be removed in a future version. Convert inf values to NaN before operating instead.\n",
      "  with pd.option_context('mode.use_inf_as_na', True):\n",
      "/usr/local/lib/python3.10/dist-packages/seaborn/_oldcore.py:1075: FutureWarning: When grouping with a length-1 list-like, you will need to pass a length-1 tuple to get_group in a future version of pandas. Pass `(name,)` instead of `name` to silence this warning.\n",
      "  data_subset = grouped_data.get_group(pd_key)\n",
      "/usr/local/lib/python3.10/dist-packages/seaborn/_oldcore.py:1075: FutureWarning: When grouping with a length-1 list-like, you will need to pass a length-1 tuple to get_group in a future version of pandas. Pass `(name,)` instead of `name` to silence this warning.\n",
      "  data_subset = grouped_data.get_group(pd_key)\n",
      "/usr/local/lib/python3.10/dist-packages/seaborn/_oldcore.py:1119: FutureWarning: use_inf_as_na option is deprecated and will be removed in a future version. Convert inf values to NaN before operating instead.\n",
      "  with pd.option_context('mode.use_inf_as_na', True):\n",
      "/usr/local/lib/python3.10/dist-packages/seaborn/_oldcore.py:1075: FutureWarning: When grouping with a length-1 list-like, you will need to pass a length-1 tuple to get_group in a future version of pandas. Pass `(name,)` instead of `name` to silence this warning.\n",
      "  data_subset = grouped_data.get_group(pd_key)\n",
      "/usr/local/lib/python3.10/dist-packages/seaborn/_oldcore.py:1075: FutureWarning: When grouping with a length-1 list-like, you will need to pass a length-1 tuple to get_group in a future version of pandas. Pass `(name,)` instead of `name` to silence this warning.\n",
      "  data_subset = grouped_data.get_group(pd_key)\n",
      "/usr/local/lib/python3.10/dist-packages/seaborn/_oldcore.py:1119: FutureWarning: use_inf_as_na option is deprecated and will be removed in a future version. Convert inf values to NaN before operating instead.\n",
      "  with pd.option_context('mode.use_inf_as_na', True):\n",
      "/usr/local/lib/python3.10/dist-packages/seaborn/_oldcore.py:1075: FutureWarning: When grouping with a length-1 list-like, you will need to pass a length-1 tuple to get_group in a future version of pandas. Pass `(name,)` instead of `name` to silence this warning.\n",
      "  data_subset = grouped_data.get_group(pd_key)\n",
      "/usr/local/lib/python3.10/dist-packages/seaborn/_oldcore.py:1075: FutureWarning: When grouping with a length-1 list-like, you will need to pass a length-1 tuple to get_group in a future version of pandas. Pass `(name,)` instead of `name` to silence this warning.\n",
      "  data_subset = grouped_data.get_group(pd_key)\n",
      "/usr/local/lib/python3.10/dist-packages/seaborn/_oldcore.py:1119: FutureWarning: use_inf_as_na option is deprecated and will be removed in a future version. Convert inf values to NaN before operating instead.\n",
      "  with pd.option_context('mode.use_inf_as_na', True):\n",
      "/usr/local/lib/python3.10/dist-packages/seaborn/_oldcore.py:1075: FutureWarning: When grouping with a length-1 list-like, you will need to pass a length-1 tuple to get_group in a future version of pandas. Pass `(name,)` instead of `name` to silence this warning.\n",
      "  data_subset = grouped_data.get_group(pd_key)\n",
      "/usr/local/lib/python3.10/dist-packages/seaborn/_oldcore.py:1075: FutureWarning: When grouping with a length-1 list-like, you will need to pass a length-1 tuple to get_group in a future version of pandas. Pass `(name,)` instead of `name` to silence this warning.\n",
      "  data_subset = grouped_data.get_group(pd_key)\n",
      "/usr/local/lib/python3.10/dist-packages/seaborn/_oldcore.py:1119: FutureWarning: use_inf_as_na option is deprecated and will be removed in a future version. Convert inf values to NaN before operating instead.\n",
      "  with pd.option_context('mode.use_inf_as_na', True):\n",
      "/usr/local/lib/python3.10/dist-packages/seaborn/_oldcore.py:1075: FutureWarning: When grouping with a length-1 list-like, you will need to pass a length-1 tuple to get_group in a future version of pandas. Pass `(name,)` instead of `name` to silence this warning.\n",
      "  data_subset = grouped_data.get_group(pd_key)\n",
      "/usr/local/lib/python3.10/dist-packages/seaborn/_oldcore.py:1075: FutureWarning: When grouping with a length-1 list-like, you will need to pass a length-1 tuple to get_group in a future version of pandas. Pass `(name,)` instead of `name` to silence this warning.\n",
      "  data_subset = grouped_data.get_group(pd_key)\n",
      "/usr/local/lib/python3.10/dist-packages/seaborn/_oldcore.py:1119: FutureWarning: use_inf_as_na option is deprecated and will be removed in a future version. Convert inf values to NaN before operating instead.\n",
      "  with pd.option_context('mode.use_inf_as_na', True):\n",
      "/usr/local/lib/python3.10/dist-packages/seaborn/_oldcore.py:1075: FutureWarning: When grouping with a length-1 list-like, you will need to pass a length-1 tuple to get_group in a future version of pandas. Pass `(name,)` instead of `name` to silence this warning.\n",
      "  data_subset = grouped_data.get_group(pd_key)\n",
      "/usr/local/lib/python3.10/dist-packages/seaborn/_oldcore.py:1075: FutureWarning: When grouping with a length-1 list-like, you will need to pass a length-1 tuple to get_group in a future version of pandas. Pass `(name,)` instead of `name` to silence this warning.\n",
      "  data_subset = grouped_data.get_group(pd_key)\n",
      "/usr/local/lib/python3.10/dist-packages/seaborn/_oldcore.py:1119: FutureWarning: use_inf_as_na option is deprecated and will be removed in a future version. Convert inf values to NaN before operating instead.\n",
      "  with pd.option_context('mode.use_inf_as_na', True):\n",
      "/usr/local/lib/python3.10/dist-packages/seaborn/_oldcore.py:1075: FutureWarning: When grouping with a length-1 list-like, you will need to pass a length-1 tuple to get_group in a future version of pandas. Pass `(name,)` instead of `name` to silence this warning.\n",
      "  data_subset = grouped_data.get_group(pd_key)\n",
      "/usr/local/lib/python3.10/dist-packages/seaborn/_oldcore.py:1075: FutureWarning: When grouping with a length-1 list-like, you will need to pass a length-1 tuple to get_group in a future version of pandas. Pass `(name,)` instead of `name` to silence this warning.\n",
      "  data_subset = grouped_data.get_group(pd_key)\n",
      "/usr/local/lib/python3.10/dist-packages/seaborn/_oldcore.py:1119: FutureWarning: use_inf_as_na option is deprecated and will be removed in a future version. Convert inf values to NaN before operating instead.\n",
      "  with pd.option_context('mode.use_inf_as_na', True):\n",
      "/usr/local/lib/python3.10/dist-packages/seaborn/_oldcore.py:1075: FutureWarning: When grouping with a length-1 list-like, you will need to pass a length-1 tuple to get_group in a future version of pandas. Pass `(name,)` instead of `name` to silence this warning.\n",
      "  data_subset = grouped_data.get_group(pd_key)\n",
      "/usr/local/lib/python3.10/dist-packages/seaborn/_oldcore.py:1075: FutureWarning: When grouping with a length-1 list-like, you will need to pass a length-1 tuple to get_group in a future version of pandas. Pass `(name,)` instead of `name` to silence this warning.\n",
      "  data_subset = grouped_data.get_group(pd_key)\n",
      "/usr/local/lib/python3.10/dist-packages/seaborn/_oldcore.py:1119: FutureWarning: use_inf_as_na option is deprecated and will be removed in a future version. Convert inf values to NaN before operating instead.\n",
      "  with pd.option_context('mode.use_inf_as_na', True):\n",
      "/usr/local/lib/python3.10/dist-packages/seaborn/_oldcore.py:1075: FutureWarning: When grouping with a length-1 list-like, you will need to pass a length-1 tuple to get_group in a future version of pandas. Pass `(name,)` instead of `name` to silence this warning.\n",
      "  data_subset = grouped_data.get_group(pd_key)\n",
      "/usr/local/lib/python3.10/dist-packages/seaborn/_oldcore.py:1075: FutureWarning: When grouping with a length-1 list-like, you will need to pass a length-1 tuple to get_group in a future version of pandas. Pass `(name,)` instead of `name` to silence this warning.\n",
      "  data_subset = grouped_data.get_group(pd_key)\n",
      "/usr/local/lib/python3.10/dist-packages/seaborn/_oldcore.py:1119: FutureWarning: use_inf_as_na option is deprecated and will be removed in a future version. Convert inf values to NaN before operating instead.\n",
      "  with pd.option_context('mode.use_inf_as_na', True):\n",
      "/usr/local/lib/python3.10/dist-packages/seaborn/_oldcore.py:1075: FutureWarning: When grouping with a length-1 list-like, you will need to pass a length-1 tuple to get_group in a future version of pandas. Pass `(name,)` instead of `name` to silence this warning.\n",
      "  data_subset = grouped_data.get_group(pd_key)\n",
      "/usr/local/lib/python3.10/dist-packages/seaborn/_oldcore.py:1075: FutureWarning: When grouping with a length-1 list-like, you will need to pass a length-1 tuple to get_group in a future version of pandas. Pass `(name,)` instead of `name` to silence this warning.\n",
      "  data_subset = grouped_data.get_group(pd_key)\n"
     ]
    },
    {
     "data": {
      "image/png": "[encoded data removed]",
      "text/plain": [
       "<Figure size 1400x1100 with 10 Axes>"
      ]
     },
     "metadata": {},
     "output_type": "display_data"
    }
   ],
   "source": [
    "plt.figure(figsize = (14,11))\n",
    "for i in enumerate(cols):\n",
    "  plt.subplot(3,4, i[0]+1)\n",
    "  sns.histplot(data = train, x = i[1], hue = 'rainfall', kde = True)"
   ]
  },
  {
   "cell_type": "code",
   "execution_count": 10,
   "id": "ff3997b5",
   "metadata": {
    "execution": {
     "iopub.execute_input": "2025-03-30T12:01:20.182466Z",
     "iopub.status.busy": "2025-03-30T12:01:20.181997Z",
     "iopub.status.idle": "2025-03-30T12:01:21.289837Z",
     "shell.execute_reply": "2025-03-30T12:01:21.288679Z"
    },
    "executionInfo": {
     "elapsed": 1406,
     "status": "ok",
     "timestamp": 1743261382741,
     "user": {
      "displayName": "Ishit Gehlot",
      "userId": "01473306695467736694"
     },
     "user_tz": -330
    },
    "id": "TvO8sq8dbSPz",
    "outputId": "033b012a-6c51-4013-b4bd-bd6d9f62a1e0",
    "papermill": {
     "duration": 1.135558,
     "end_time": "2025-03-30T12:01:21.291770",
     "exception": false,
     "start_time": "2025-03-30T12:01:20.156212",
     "status": "completed"
    },
    "tags": []
   },
   "outputs": [
    {
     "data": {
      "image/png": "[encoded data removed]",
      "text/plain": [
       "<Figure size 1200x1200 with 10 Axes>"
      ]
     },
     "metadata": {},
     "output_type": "display_data"
    }
   ],
   "source": [
    "plt.figure(figsize = (12,12))\n",
    "for i in enumerate(cols):\n",
    "  plt.subplot(4,3,i[0]+1)\n",
    "  sns.boxplot(data = train, x = i[1])"
   ]
  },
  {
   "cell_type": "markdown",
   "id": "aa204a91",
   "metadata": {
    "id": "wYnHoyNSdd7Q",
    "papermill": {
     "duration": 0.025523,
     "end_time": "2025-03-30T12:01:21.344103",
     "exception": false,
     "start_time": "2025-03-30T12:01:21.318580",
     "status": "completed"
    },
    "tags": []
   },
   "source": [
    "pressure. humidity, dewpoint, cloud, windspeed have outliers."
   ]
  },
  {
   "cell_type": "markdown",
   "id": "17b62b74",
   "metadata": {
    "id": "5CQxOcQ1hBHq",
    "papermill": {
     "duration": 0.025449,
     "end_time": "2025-03-30T12:01:21.395425",
     "exception": false,
     "start_time": "2025-03-30T12:01:21.369976",
     "status": "completed"
    },
    "tags": []
   },
   "source": [
    "## **Transforming 'day' into a 'Cyclical Feature'**"
   ]
  },
  {
   "cell_type": "code",
   "execution_count": 11,
   "id": "63c09df6",
   "metadata": {
    "execution": {
     "iopub.execute_input": "2025-03-30T12:01:21.450400Z",
     "iopub.status.busy": "2025-03-30T12:01:21.449964Z",
     "iopub.status.idle": "2025-03-30T12:01:21.464835Z",
     "shell.execute_reply": "2025-03-30T12:01:21.463915Z"
    },
    "executionInfo": {
     "elapsed": 140,
     "status": "ok",
     "timestamp": 1743261382888,
     "user": {
      "displayName": "Ishit Gehlot",
      "userId": "01473306695467736694"
     },
     "user_tz": -330
    },
    "id": "Mdsv4dbHhAfZ",
    "papermill": {
     "duration": 0.044693,
     "end_time": "2025-03-30T12:01:21.467010",
     "exception": false,
     "start_time": "2025-03-30T12:01:21.422317",
     "status": "completed"
    },
    "tags": []
   },
   "outputs": [],
   "source": [
    "train['sin_day'] = np.sin( (2 * np.pi * train['day']) / 365)\n",
    "train['cos_day'] = np.cos((2 * np.pi * train['day']) / 365)\n",
    "test['sin_day'] = np.sin( (2 * np.pi * test['day']) / 365)\n",
    "test['cos_day'] = np.cos((2 * np.pi * test['day']) / 365)"
   ]
  },
  {
   "cell_type": "code",
   "execution_count": 12,
   "id": "d2517ecf",
   "metadata": {
    "execution": {
     "iopub.execute_input": "2025-03-30T12:01:21.524592Z",
     "iopub.status.busy": "2025-03-30T12:01:21.524229Z",
     "iopub.status.idle": "2025-03-30T12:01:21.533320Z",
     "shell.execute_reply": "2025-03-30T12:01:21.532058Z"
    },
    "executionInfo": {
     "elapsed": 12,
     "status": "ok",
     "timestamp": 1743261382910,
     "user": {
      "displayName": "Ishit Gehlot",
      "userId": "01473306695467736694"
     },
     "user_tz": -330
    },
    "id": "DwvBe9Tej0ee",
    "papermill": {
     "duration": 0.039746,
     "end_time": "2025-03-30T12:01:21.535350",
     "exception": false,
     "start_time": "2025-03-30T12:01:21.495604",
     "status": "completed"
    },
    "tags": []
   },
   "outputs": [],
   "source": [
    "train.drop(columns='day', inplace = True)\n",
    "test.drop(columns='day', inplace = True)\n",
    "train.drop(columns='id', inplace = True)\n",
    "test.drop(columns='id', inplace = True)"
   ]
  },
  {
   "cell_type": "code",
   "execution_count": 13,
   "id": "54c5d990",
   "metadata": {
    "execution": {
     "iopub.execute_input": "2025-03-30T12:01:21.590966Z",
     "iopub.status.busy": "2025-03-30T12:01:21.590533Z",
     "iopub.status.idle": "2025-03-30T12:01:21.611881Z",
     "shell.execute_reply": "2025-03-30T12:01:21.610709Z"
    },
    "executionInfo": {
     "elapsed": 23,
     "status": "ok",
     "timestamp": 1743261382942,
     "user": {
      "displayName": "Ishit Gehlot",
      "userId": "01473306695467736694"
     },
     "user_tz": -330
    },
    "id": "xr68BAdYdsKh",
    "outputId": "9b0f3ca8-576f-4ec6-b22b-305c897bbdbc",
    "papermill": {
     "duration": 0.051604,
     "end_time": "2025-03-30T12:01:21.613807",
     "exception": false,
     "start_time": "2025-03-30T12:01:21.562203",
     "status": "completed"
    },
    "tags": []
   },
   "outputs": [
    {
     "data": {
      "text/html": [
       "<div>\n",
       "<style scoped>\n",
       "    .dataframe tbody tr th:only-of-type {\n",
       "        vertical-align: middle;\n",
       "    }\n",
       "\n",
       "    .dataframe tbody tr th {\n",
       "        vertical-align: top;\n",
       "    }\n",
       "\n",
       "    .dataframe thead th {\n",
       "        text-align: right;\n",
       "    }\n",
       "</style>\n",
       "<table border=\"1\" class=\"dataframe\">\n",
       "  <thead>\n",
       "    <tr style=\"text-align: right;\">\n",
       "      <th></th>\n",
       "      <th>pressure</th>\n",
       "      <th>maxtemp</th>\n",
       "      <th>temparature</th>\n",
       "      <th>mintemp</th>\n",
       "      <th>dewpoint</th>\n",
       "      <th>humidity</th>\n",
       "      <th>cloud</th>\n",
       "      <th>sunshine</th>\n",
       "      <th>winddirection</th>\n",
       "      <th>windspeed</th>\n",
       "      <th>rainfall</th>\n",
       "      <th>sin_day</th>\n",
       "      <th>cos_day</th>\n",
       "    </tr>\n",
       "  </thead>\n",
       "  <tbody>\n",
       "    <tr>\n",
       "      <th>0</th>\n",
       "      <td>1017.4</td>\n",
       "      <td>21.2</td>\n",
       "      <td>20.6</td>\n",
       "      <td>19.9</td>\n",
       "      <td>19.4</td>\n",
       "      <td>87.0</td>\n",
       "      <td>88.0</td>\n",
       "      <td>1.1</td>\n",
       "      <td>60.0</td>\n",
       "      <td>17.2</td>\n",
       "      <td>1</td>\n",
       "      <td>0.017213</td>\n",
       "      <td>0.999852</td>\n",
       "    </tr>\n",
       "    <tr>\n",
       "      <th>1</th>\n",
       "      <td>1019.5</td>\n",
       "      <td>16.2</td>\n",
       "      <td>16.9</td>\n",
       "      <td>15.8</td>\n",
       "      <td>15.4</td>\n",
       "      <td>95.0</td>\n",
       "      <td>91.0</td>\n",
       "      <td>0.0</td>\n",
       "      <td>50.0</td>\n",
       "      <td>21.9</td>\n",
       "      <td>1</td>\n",
       "      <td>0.034422</td>\n",
       "      <td>0.999407</td>\n",
       "    </tr>\n",
       "    <tr>\n",
       "      <th>2</th>\n",
       "      <td>1024.1</td>\n",
       "      <td>19.4</td>\n",
       "      <td>16.1</td>\n",
       "      <td>14.6</td>\n",
       "      <td>9.3</td>\n",
       "      <td>75.0</td>\n",
       "      <td>47.0</td>\n",
       "      <td>8.3</td>\n",
       "      <td>70.0</td>\n",
       "      <td>18.1</td>\n",
       "      <td>1</td>\n",
       "      <td>0.051620</td>\n",
       "      <td>0.998667</td>\n",
       "    </tr>\n",
       "    <tr>\n",
       "      <th>3</th>\n",
       "      <td>1013.4</td>\n",
       "      <td>18.1</td>\n",
       "      <td>17.8</td>\n",
       "      <td>16.9</td>\n",
       "      <td>16.8</td>\n",
       "      <td>95.0</td>\n",
       "      <td>95.0</td>\n",
       "      <td>0.0</td>\n",
       "      <td>60.0</td>\n",
       "      <td>35.6</td>\n",
       "      <td>1</td>\n",
       "      <td>0.068802</td>\n",
       "      <td>0.997630</td>\n",
       "    </tr>\n",
       "    <tr>\n",
       "      <th>4</th>\n",
       "      <td>1021.8</td>\n",
       "      <td>21.3</td>\n",
       "      <td>18.4</td>\n",
       "      <td>15.2</td>\n",
       "      <td>9.6</td>\n",
       "      <td>52.0</td>\n",
       "      <td>45.0</td>\n",
       "      <td>3.6</td>\n",
       "      <td>40.0</td>\n",
       "      <td>24.8</td>\n",
       "      <td>0</td>\n",
       "      <td>0.085965</td>\n",
       "      <td>0.996298</td>\n",
       "    </tr>\n",
       "  </tbody>\n",
       "</table>\n",
       "</div>"
      ],
      "text/plain": [
       "   pressure  maxtemp  temparature  mintemp  dewpoint  humidity  cloud  \\\n",
       "0    1017.4     21.2         20.6     19.9      19.4      87.0   88.0   \n",
       "1    1019.5     16.2         16.9     15.8      15.4      95.0   91.0   \n",
       "2    1024.1     19.4         16.1     14.6       9.3      75.0   47.0   \n",
       "3    1013.4     18.1         17.8     16.9      16.8      95.0   95.0   \n",
       "4    1021.8     21.3         18.4     15.2       9.6      52.0   45.0   \n",
       "\n",
       "   sunshine  winddirection  windspeed  rainfall   sin_day   cos_day  \n",
       "0       1.1           60.0       17.2         1  0.017213  0.999852  \n",
       "1       0.0           50.0       21.9         1  0.034422  0.999407  \n",
       "2       8.3           70.0       18.1         1  0.051620  0.998667  \n",
       "3       0.0           60.0       35.6         1  0.068802  0.997630  \n",
       "4       3.6           40.0       24.8         0  0.085965  0.996298  "
      ]
     },
     "execution_count": 13,
     "metadata": {},
     "output_type": "execute_result"
    }
   ],
   "source": [
    "train.head()"
   ]
  },
  {
   "cell_type": "markdown",
   "id": "ddd6aa4b",
   "metadata": {
    "id": "JBA1_tt4-PnD",
    "papermill": {
     "duration": 0.085425,
     "end_time": "2025-03-30T12:01:21.726778",
     "exception": false,
     "start_time": "2025-03-30T12:01:21.641353",
     "status": "completed"
    },
    "tags": []
   },
   "source": [
    "# **Feature Engineering**"
   ]
  },
  {
   "cell_type": "code",
   "execution_count": 14,
   "id": "ffa7c6bc",
   "metadata": {
    "execution": {
     "iopub.execute_input": "2025-03-30T12:01:21.782745Z",
     "iopub.status.busy": "2025-03-30T12:01:21.782353Z",
     "iopub.status.idle": "2025-03-30T12:01:21.794212Z",
     "shell.execute_reply": "2025-03-30T12:01:21.792917Z"
    },
    "executionInfo": {
     "elapsed": 133,
     "status": "ok",
     "timestamp": 1743261383081,
     "user": {
      "displayName": "Ishit Gehlot",
      "userId": "01473306695467736694"
     },
     "user_tz": -330
    },
    "id": "91vH1NlSkpIw",
    "outputId": "5958f5aa-c742-4ca3-d503-078536b9fb9f",
    "papermill": {
     "duration": 0.041821,
     "end_time": "2025-03-30T12:01:21.796037",
     "exception": false,
     "start_time": "2025-03-30T12:01:21.754216",
     "status": "completed"
    },
    "tags": []
   },
   "outputs": [
    {
     "name": "stdout",
     "output_type": "stream",
     "text": [
      "<class 'pandas.core.frame.DataFrame'>\n",
      "RangeIndex: 2190 entries, 0 to 2189\n",
      "Data columns (total 13 columns):\n",
      " #   Column         Non-Null Count  Dtype  \n",
      "---  ------         --------------  -----  \n",
      " 0   pressure       2190 non-null   float64\n",
      " 1   maxtemp        2190 non-null   float64\n",
      " 2   temparature    2190 non-null   float64\n",
      " 3   mintemp        2190 non-null   float64\n",
      " 4   dewpoint       2190 non-null   float64\n",
      " 5   humidity       2190 non-null   float64\n",
      " 6   cloud          2190 non-null   float64\n",
      " 7   sunshine       2190 non-null   float64\n",
      " 8   winddirection  2190 non-null   float64\n",
      " 9   windspeed      2190 non-null   float64\n",
      " 10  rainfall       2190 non-null   int64  \n",
      " 11  sin_day        2190 non-null   float64\n",
      " 12  cos_day        2190 non-null   float64\n",
      "dtypes: float64(12), int64(1)\n",
      "memory usage: 222.5 KB\n"
     ]
    }
   ],
   "source": [
    "train.info()"
   ]
  },
  {
   "cell_type": "code",
   "execution_count": 15,
   "id": "a2c0f0f2",
   "metadata": {
    "execution": {
     "iopub.execute_input": "2025-03-30T12:01:21.852373Z",
     "iopub.status.busy": "2025-03-30T12:01:21.852006Z",
     "iopub.status.idle": "2025-03-30T12:01:22.012503Z",
     "shell.execute_reply": "2025-03-30T12:01:22.011245Z"
    },
    "executionInfo": {
     "elapsed": 72,
     "status": "ok",
     "timestamp": 1743261383158,
     "user": {
      "displayName": "Ishit Gehlot",
      "userId": "01473306695467736694"
     },
     "user_tz": -330
    },
    "id": "c8qrh3Bt9-r-",
    "outputId": "54c9c3e1-105a-4f65-f047-d995adbf4470",
    "papermill": {
     "duration": 0.190341,
     "end_time": "2025-03-30T12:01:22.014307",
     "exception": false,
     "start_time": "2025-03-30T12:01:21.823966",
     "status": "completed"
    },
    "tags": []
   },
   "outputs": [
    {
     "data": {
      "text/plain": [
       "<Axes: xlabel='rainfall', ylabel='count'>"
      ]
     },
     "execution_count": 15,
     "metadata": {},
     "output_type": "execute_result"
    },
    {
     "data": {
      "image/png": "[encoded data removed]",
      "text/plain": [
       "<Figure size 640x480 with 1 Axes>"
      ]
     },
     "metadata": {},
     "output_type": "display_data"
    }
   ],
   "source": [
    "sns.countplot(x = train['rainfall'])"
   ]
  },
  {
   "cell_type": "markdown",
   "id": "1ed270be",
   "metadata": {
    "id": "lAyEA5UnDIGX",
    "papermill": {
     "duration": 0.026676,
     "end_time": "2025-03-30T12:01:22.067660",
     "exception": false,
     "start_time": "2025-03-30T12:01:22.040984",
     "status": "completed"
    },
    "tags": []
   },
   "source": [
    "**DATA IS IMBALANCED**"
   ]
  },
  {
   "cell_type": "code",
   "execution_count": 16,
   "id": "dbeb0edd",
   "metadata": {
    "execution": {
     "iopub.execute_input": "2025-03-30T12:01:22.124195Z",
     "iopub.status.busy": "2025-03-30T12:01:22.123774Z",
     "iopub.status.idle": "2025-03-30T12:01:22.131073Z",
     "shell.execute_reply": "2025-03-30T12:01:22.129664Z"
    },
    "executionInfo": {
     "elapsed": 102,
     "status": "ok",
     "timestamp": 1743261383256,
     "user": {
      "displayName": "Ishit Gehlot",
      "userId": "01473306695467736694"
     },
     "user_tz": -330
    },
    "id": "Lavzs-oTHGcT",
    "outputId": "bfe4045b-5651-44fb-ab45-c9a2dc9c4ea2",
    "papermill": {
     "duration": 0.03862,
     "end_time": "2025-03-30T12:01:22.133240",
     "exception": false,
     "start_time": "2025-03-30T12:01:22.094620",
     "status": "completed"
    },
    "tags": []
   },
   "outputs": [
    {
     "data": {
      "text/plain": [
       "Index(['pressure', 'maxtemp', 'temparature', 'mintemp', 'dewpoint', 'humidity',\n",
       "       'cloud', 'sunshine', 'winddirection', 'windspeed', 'rainfall',\n",
       "       'sin_day', 'cos_day'],\n",
       "      dtype='object')"
      ]
     },
     "execution_count": 16,
     "metadata": {},
     "output_type": "execute_result"
    }
   ],
   "source": [
    "train.columns"
   ]
  },
  {
   "cell_type": "markdown",
   "id": "af237520",
   "metadata": {
    "id": "4NZZAz8HI3pe",
    "papermill": {
     "duration": 0.026221,
     "end_time": "2025-03-30T12:01:22.188086",
     "exception": false,
     "start_time": "2025-03-30T12:01:22.161865",
     "status": "completed"
    },
    "tags": []
   },
   "source": [
    "Cloud * Humidity, if both are high, possible rain."
   ]
  },
  {
   "cell_type": "code",
   "execution_count": 17,
   "id": "7a976d60",
   "metadata": {
    "execution": {
     "iopub.execute_input": "2025-03-30T12:01:22.244264Z",
     "iopub.status.busy": "2025-03-30T12:01:22.243876Z",
     "iopub.status.idle": "2025-03-30T12:01:22.251203Z",
     "shell.execute_reply": "2025-03-30T12:01:22.250142Z"
    },
    "executionInfo": {
     "elapsed": 12,
     "status": "ok",
     "timestamp": 1743261383278,
     "user": {
      "displayName": "Ishit Gehlot",
      "userId": "01473306695467736694"
     },
     "user_tz": -330
    },
    "id": "0meZn4JHI2og",
    "papermill": {
     "duration": 0.036866,
     "end_time": "2025-03-30T12:01:22.252990",
     "exception": false,
     "start_time": "2025-03-30T12:01:22.216124",
     "status": "completed"
    },
    "tags": []
   },
   "outputs": [],
   "source": [
    "train['cloud_humid'] = train['cloud'] * train['humidity']\n",
    "test['cloud_humid'] = test['cloud'] * test['humidity']"
   ]
  },
  {
   "cell_type": "markdown",
   "id": "f26ae1eb",
   "metadata": {
    "id": "Zwk_kufgJOGH",
    "papermill": {
     "duration": 0.026438,
     "end_time": "2025-03-30T12:01:22.307824",
     "exception": false,
     "start_time": "2025-03-30T12:01:22.281386",
     "status": "completed"
    },
    "tags": []
   },
   "source": [
    "Dew point Depression"
   ]
  },
  {
   "cell_type": "code",
   "execution_count": 18,
   "id": "f78b9725",
   "metadata": {
    "execution": {
     "iopub.execute_input": "2025-03-30T12:01:22.362835Z",
     "iopub.status.busy": "2025-03-30T12:01:22.362428Z",
     "iopub.status.idle": "2025-03-30T12:01:22.368557Z",
     "shell.execute_reply": "2025-03-30T12:01:22.367410Z"
    },
    "executionInfo": {
     "elapsed": 9,
     "status": "ok",
     "timestamp": 1743261383298,
     "user": {
      "displayName": "Ishit Gehlot",
      "userId": "01473306695467736694"
     },
     "user_tz": -330
    },
    "id": "9grHxp01Kfo2",
    "papermill": {
     "duration": 0.0358,
     "end_time": "2025-03-30T12:01:22.370414",
     "exception": false,
     "start_time": "2025-03-30T12:01:22.334614",
     "status": "completed"
    },
    "tags": []
   },
   "outputs": [],
   "source": [
    "train['dew_pt_dep'] = train['temparature'] - train['dewpoint']\n",
    "test['dew_pt_dep'] = test['temparature'] - test['dewpoint']"
   ]
  },
  {
   "cell_type": "markdown",
   "id": "077c7788",
   "metadata": {
    "id": "B-Y7dlhqLl4Q",
    "papermill": {
     "duration": 0.027257,
     "end_time": "2025-03-30T12:01:22.424421",
     "exception": false,
     "start_time": "2025-03-30T12:01:22.397164",
     "status": "completed"
    },
    "tags": []
   },
   "source": [
    "temperature variation"
   ]
  },
  {
   "cell_type": "code",
   "execution_count": 19,
   "id": "8b54dfce",
   "metadata": {
    "execution": {
     "iopub.execute_input": "2025-03-30T12:01:22.480081Z",
     "iopub.status.busy": "2025-03-30T12:01:22.479658Z",
     "iopub.status.idle": "2025-03-30T12:01:22.486182Z",
     "shell.execute_reply": "2025-03-30T12:01:22.484911Z"
    },
    "executionInfo": {
     "elapsed": 8,
     "status": "ok",
     "timestamp": 1743261383314,
     "user": {
      "displayName": "Ishit Gehlot",
      "userId": "01473306695467736694"
     },
     "user_tz": -330
    },
    "id": "xgT-xy2VLoN2",
    "papermill": {
     "duration": 0.036167,
     "end_time": "2025-03-30T12:01:22.488085",
     "exception": false,
     "start_time": "2025-03-30T12:01:22.451918",
     "status": "completed"
    },
    "tags": []
   },
   "outputs": [],
   "source": [
    "train['temp_variation'] = train['maxtemp'] - train['mintemp']\n",
    "test['temp_variation'] = test['maxtemp'] - test['mintemp']"
   ]
  },
  {
   "cell_type": "markdown",
   "id": "69fa75d3",
   "metadata": {
    "id": "tEjNJGKyhWCf",
    "papermill": {
     "duration": 0.027007,
     "end_time": "2025-03-30T12:01:22.543053",
     "exception": false,
     "start_time": "2025-03-30T12:01:22.516046",
     "status": "completed"
    },
    "tags": []
   },
   "source": [
    "feel like temperature"
   ]
  },
  {
   "cell_type": "code",
   "execution_count": 20,
   "id": "3f8a41ac",
   "metadata": {
    "execution": {
     "iopub.execute_input": "2025-03-30T12:01:22.598307Z",
     "iopub.status.busy": "2025-03-30T12:01:22.597935Z",
     "iopub.status.idle": "2025-03-30T12:01:22.605686Z",
     "shell.execute_reply": "2025-03-30T12:01:22.604594Z"
    },
    "executionInfo": {
     "elapsed": 9,
     "status": "ok",
     "timestamp": 1743261383329,
     "user": {
      "displayName": "Ishit Gehlot",
      "userId": "01473306695467736694"
     },
     "user_tz": -330
    },
    "id": "ktVfZVHyhVTe",
    "papermill": {
     "duration": 0.037911,
     "end_time": "2025-03-30T12:01:22.607459",
     "exception": false,
     "start_time": "2025-03-30T12:01:22.569548",
     "status": "completed"
    },
    "tags": []
   },
   "outputs": [],
   "source": [
    "train['feel_like_temp'] = train['temparature'] + 0.33*train['humidity'] - 0.7*train['windspeed'] - 4\n",
    "test['feel_like_temp'] = test['temparature'] + 0.33*test['humidity'] - 0.7*test['windspeed'] - 4"
   ]
  },
  {
   "cell_type": "code",
   "execution_count": 21,
   "id": "6e4a9824",
   "metadata": {
    "execution": {
     "iopub.execute_input": "2025-03-30T12:01:22.663589Z",
     "iopub.status.busy": "2025-03-30T12:01:22.663219Z",
     "iopub.status.idle": "2025-03-30T12:01:22.684001Z",
     "shell.execute_reply": "2025-03-30T12:01:22.682924Z"
    },
    "executionInfo": {
     "elapsed": 14,
     "status": "ok",
     "timestamp": 1743261383349,
     "user": {
      "displayName": "Ishit Gehlot",
      "userId": "01473306695467736694"
     },
     "user_tz": -330
    },
    "id": "omUKDJVXK-QC",
    "outputId": "bd68777d-997a-46c2-cd9d-94625e7fbcc2",
    "papermill": {
     "duration": 0.051306,
     "end_time": "2025-03-30T12:01:22.685811",
     "exception": false,
     "start_time": "2025-03-30T12:01:22.634505",
     "status": "completed"
    },
    "tags": []
   },
   "outputs": [
    {
     "data": {
      "text/html": [
       "<div>\n",
       "<style scoped>\n",
       "    .dataframe tbody tr th:only-of-type {\n",
       "        vertical-align: middle;\n",
       "    }\n",
       "\n",
       "    .dataframe tbody tr th {\n",
       "        vertical-align: top;\n",
       "    }\n",
       "\n",
       "    .dataframe thead th {\n",
       "        text-align: right;\n",
       "    }\n",
       "</style>\n",
       "<table border=\"1\" class=\"dataframe\">\n",
       "  <thead>\n",
       "    <tr style=\"text-align: right;\">\n",
       "      <th></th>\n",
       "      <th>pressure</th>\n",
       "      <th>maxtemp</th>\n",
       "      <th>temparature</th>\n",
       "      <th>mintemp</th>\n",
       "      <th>dewpoint</th>\n",
       "      <th>humidity</th>\n",
       "      <th>cloud</th>\n",
       "      <th>sunshine</th>\n",
       "      <th>winddirection</th>\n",
       "      <th>windspeed</th>\n",
       "      <th>rainfall</th>\n",
       "      <th>sin_day</th>\n",
       "      <th>cos_day</th>\n",
       "      <th>cloud_humid</th>\n",
       "      <th>dew_pt_dep</th>\n",
       "      <th>temp_variation</th>\n",
       "      <th>feel_like_temp</th>\n",
       "    </tr>\n",
       "  </thead>\n",
       "  <tbody>\n",
       "    <tr>\n",
       "      <th>0</th>\n",
       "      <td>1017.4</td>\n",
       "      <td>21.2</td>\n",
       "      <td>20.6</td>\n",
       "      <td>19.9</td>\n",
       "      <td>19.4</td>\n",
       "      <td>87.0</td>\n",
       "      <td>88.0</td>\n",
       "      <td>1.1</td>\n",
       "      <td>60.0</td>\n",
       "      <td>17.2</td>\n",
       "      <td>1</td>\n",
       "      <td>0.017213</td>\n",
       "      <td>0.999852</td>\n",
       "      <td>7656.0</td>\n",
       "      <td>1.2</td>\n",
       "      <td>1.3</td>\n",
       "      <td>33.27</td>\n",
       "    </tr>\n",
       "    <tr>\n",
       "      <th>1</th>\n",
       "      <td>1019.5</td>\n",
       "      <td>16.2</td>\n",
       "      <td>16.9</td>\n",
       "      <td>15.8</td>\n",
       "      <td>15.4</td>\n",
       "      <td>95.0</td>\n",
       "      <td>91.0</td>\n",
       "      <td>0.0</td>\n",
       "      <td>50.0</td>\n",
       "      <td>21.9</td>\n",
       "      <td>1</td>\n",
       "      <td>0.034422</td>\n",
       "      <td>0.999407</td>\n",
       "      <td>8645.0</td>\n",
       "      <td>1.5</td>\n",
       "      <td>0.4</td>\n",
       "      <td>28.92</td>\n",
       "    </tr>\n",
       "    <tr>\n",
       "      <th>2</th>\n",
       "      <td>1024.1</td>\n",
       "      <td>19.4</td>\n",
       "      <td>16.1</td>\n",
       "      <td>14.6</td>\n",
       "      <td>9.3</td>\n",
       "      <td>75.0</td>\n",
       "      <td>47.0</td>\n",
       "      <td>8.3</td>\n",
       "      <td>70.0</td>\n",
       "      <td>18.1</td>\n",
       "      <td>1</td>\n",
       "      <td>0.051620</td>\n",
       "      <td>0.998667</td>\n",
       "      <td>3525.0</td>\n",
       "      <td>6.8</td>\n",
       "      <td>4.8</td>\n",
       "      <td>24.18</td>\n",
       "    </tr>\n",
       "    <tr>\n",
       "      <th>3</th>\n",
       "      <td>1013.4</td>\n",
       "      <td>18.1</td>\n",
       "      <td>17.8</td>\n",
       "      <td>16.9</td>\n",
       "      <td>16.8</td>\n",
       "      <td>95.0</td>\n",
       "      <td>95.0</td>\n",
       "      <td>0.0</td>\n",
       "      <td>60.0</td>\n",
       "      <td>35.6</td>\n",
       "      <td>1</td>\n",
       "      <td>0.068802</td>\n",
       "      <td>0.997630</td>\n",
       "      <td>9025.0</td>\n",
       "      <td>1.0</td>\n",
       "      <td>1.2</td>\n",
       "      <td>20.23</td>\n",
       "    </tr>\n",
       "    <tr>\n",
       "      <th>4</th>\n",
       "      <td>1021.8</td>\n",
       "      <td>21.3</td>\n",
       "      <td>18.4</td>\n",
       "      <td>15.2</td>\n",
       "      <td>9.6</td>\n",
       "      <td>52.0</td>\n",
       "      <td>45.0</td>\n",
       "      <td>3.6</td>\n",
       "      <td>40.0</td>\n",
       "      <td>24.8</td>\n",
       "      <td>0</td>\n",
       "      <td>0.085965</td>\n",
       "      <td>0.996298</td>\n",
       "      <td>2340.0</td>\n",
       "      <td>8.8</td>\n",
       "      <td>6.1</td>\n",
       "      <td>14.20</td>\n",
       "    </tr>\n",
       "  </tbody>\n",
       "</table>\n",
       "</div>"
      ],
      "text/plain": [
       "   pressure  maxtemp  temparature  mintemp  dewpoint  humidity  cloud  \\\n",
       "0    1017.4     21.2         20.6     19.9      19.4      87.0   88.0   \n",
       "1    1019.5     16.2         16.9     15.8      15.4      95.0   91.0   \n",
       "2    1024.1     19.4         16.1     14.6       9.3      75.0   47.0   \n",
       "3    1013.4     18.1         17.8     16.9      16.8      95.0   95.0   \n",
       "4    1021.8     21.3         18.4     15.2       9.6      52.0   45.0   \n",
       "\n",
       "   sunshine  winddirection  windspeed  rainfall   sin_day   cos_day  \\\n",
       "0       1.1           60.0       17.2         1  0.017213  0.999852   \n",
       "1       0.0           50.0       21.9         1  0.034422  0.999407   \n",
       "2       8.3           70.0       18.1         1  0.051620  0.998667   \n",
       "3       0.0           60.0       35.6         1  0.068802  0.997630   \n",
       "4       3.6           40.0       24.8         0  0.085965  0.996298   \n",
       "\n",
       "   cloud_humid  dew_pt_dep  temp_variation  feel_like_temp  \n",
       "0       7656.0         1.2             1.3           33.27  \n",
       "1       8645.0         1.5             0.4           28.92  \n",
       "2       3525.0         6.8             4.8           24.18  \n",
       "3       9025.0         1.0             1.2           20.23  \n",
       "4       2340.0         8.8             6.1           14.20  "
      ]
     },
     "execution_count": 21,
     "metadata": {},
     "output_type": "execute_result"
    }
   ],
   "source": [
    "train.head()"
   ]
  },
  {
   "cell_type": "code",
   "execution_count": 22,
   "id": "abf56f04",
   "metadata": {
    "execution": {
     "iopub.execute_input": "2025-03-30T12:01:22.742847Z",
     "iopub.status.busy": "2025-03-30T12:01:22.742445Z",
     "iopub.status.idle": "2025-03-30T12:01:23.334218Z",
     "shell.execute_reply": "2025-03-30T12:01:23.333080Z"
    },
    "executionInfo": {
     "elapsed": 310,
     "status": "ok",
     "timestamp": 1743261383664,
     "user": {
      "displayName": "Ishit Gehlot",
      "userId": "01473306695467736694"
     },
     "user_tz": -330
    },
    "id": "lkR1MiGYiFDp",
    "outputId": "c87fb2f0-fb51-4991-dd80-d6836f344886",
    "papermill": {
     "duration": 0.622853,
     "end_time": "2025-03-30T12:01:23.336023",
     "exception": false,
     "start_time": "2025-03-30T12:01:22.713170",
     "status": "completed"
    },
    "tags": []
   },
   "outputs": [
    {
     "name": "stderr",
     "output_type": "stream",
     "text": [
      "/usr/local/lib/python3.10/dist-packages/seaborn/_oldcore.py:1119: FutureWarning: use_inf_as_na option is deprecated and will be removed in a future version. Convert inf values to NaN before operating instead.\n",
      "  with pd.option_context('mode.use_inf_as_na', True):\n",
      "/usr/local/lib/python3.10/dist-packages/seaborn/_oldcore.py:1075: FutureWarning: When grouping with a length-1 list-like, you will need to pass a length-1 tuple to get_group in a future version of pandas. Pass `(name,)` instead of `name` to silence this warning.\n",
      "  data_subset = grouped_data.get_group(pd_key)\n",
      "/usr/local/lib/python3.10/dist-packages/seaborn/_oldcore.py:1075: FutureWarning: When grouping with a length-1 list-like, you will need to pass a length-1 tuple to get_group in a future version of pandas. Pass `(name,)` instead of `name` to silence this warning.\n",
      "  data_subset = grouped_data.get_group(pd_key)\n"
     ]
    },
    {
     "data": {
      "text/plain": [
       "<Axes: xlabel='cloud_humid', ylabel='Count'>"
      ]
     },
     "execution_count": 22,
     "metadata": {},
     "output_type": "execute_result"
    },
    {
     "data": {
      "image/png": "[encoded data removed]",
      "text/plain": [
       "<Figure size 640x480 with 1 Axes>"
      ]
     },
     "metadata": {},
     "output_type": "display_data"
    }
   ],
   "source": [
    "sns.histplot(x =train['cloud_humid'], hue = train['rainfall'])"
   ]
  },
  {
   "cell_type": "markdown",
   "id": "cf07e73c",
   "metadata": {
    "id": "Kj_5x06tl47h",
    "papermill": {
     "duration": 0.029551,
     "end_time": "2025-03-30T12:01:23.393309",
     "exception": false,
     "start_time": "2025-03-30T12:01:23.363758",
     "status": "completed"
    },
    "tags": []
   },
   "source": [
    "# **Hypothesis Testing**"
   ]
  },
  {
   "cell_type": "markdown",
   "id": "77ea32a4",
   "metadata": {
    "id": "6wt00WrQl_-Z",
    "papermill": {
     "duration": 0.028603,
     "end_time": "2025-03-30T12:01:23.451605",
     "exception": false,
     "start_time": "2025-03-30T12:01:23.423002",
     "status": "completed"
    },
    "tags": []
   },
   "source": [
    "\n",
    "\n",
    "* Ho : Mean temperature when rainfall occurs is = 24\n",
    "* Ha : Mean temperature when rainfall occurs != 24\n",
    "\n"
   ]
  },
  {
   "cell_type": "code",
   "execution_count": 23,
   "id": "0c4a2841",
   "metadata": {
    "execution": {
     "iopub.execute_input": "2025-03-30T12:01:23.510482Z",
     "iopub.status.busy": "2025-03-30T12:01:23.510111Z",
     "iopub.status.idle": "2025-03-30T12:01:23.517485Z",
     "shell.execute_reply": "2025-03-30T12:01:23.515668Z"
    },
    "executionInfo": {
     "elapsed": 42,
     "status": "ok",
     "timestamp": 1743261383710,
     "user": {
      "displayName": "Ishit Gehlot",
      "userId": "01473306695467736694"
     },
     "user_tz": -330
    },
    "id": "o_qFa-vvj9DL",
    "papermill": {
     "duration": 0.039044,
     "end_time": "2025-03-30T12:01:23.519551",
     "exception": false,
     "start_time": "2025-03-30T12:01:23.480507",
     "status": "completed"
    },
    "tags": []
   },
   "outputs": [],
   "source": [
    "temp_at_rain = train[train['rainfall'] != 0]['temparature']"
   ]
  },
  {
   "cell_type": "code",
   "execution_count": 24,
   "id": "2d9d959c",
   "metadata": {
    "execution": {
     "iopub.execute_input": "2025-03-30T12:01:23.579114Z",
     "iopub.status.busy": "2025-03-30T12:01:23.578204Z",
     "iopub.status.idle": "2025-03-30T12:01:23.793724Z",
     "shell.execute_reply": "2025-03-30T12:01:23.792508Z"
    },
    "executionInfo": {
     "elapsed": 203,
     "status": "ok",
     "timestamp": 1743261383877,
     "user": {
      "displayName": "Ishit Gehlot",
      "userId": "01473306695467736694"
     },
     "user_tz": -330
    },
    "id": "CbgUbymYkKnt",
    "outputId": "37b77f56-dd40-4226-c387-27aa58c9ce47",
    "papermill": {
     "duration": 0.246908,
     "end_time": "2025-03-30T12:01:23.795527",
     "exception": false,
     "start_time": "2025-03-30T12:01:23.548619",
     "status": "completed"
    },
    "tags": []
   },
   "outputs": [
    {
     "name": "stderr",
     "output_type": "stream",
     "text": [
      "/usr/local/lib/python3.10/dist-packages/seaborn/_oldcore.py:1119: FutureWarning: use_inf_as_na option is deprecated and will be removed in a future version. Convert inf values to NaN before operating instead.\n",
      "  with pd.option_context('mode.use_inf_as_na', True):\n"
     ]
    },
    {
     "data": {
      "text/plain": [
       "<Axes: xlabel='temparature', ylabel='Density'>"
      ]
     },
     "execution_count": 24,
     "metadata": {},
     "output_type": "execute_result"
    },
    {
     "data": {
      "image/png": "[encoded data removed]",
      "text/plain": [
       "<Figure size 640x480 with 1 Axes>"
      ]
     },
     "metadata": {},
     "output_type": "display_data"
    }
   ],
   "source": [
    "sns.kdeplot(x = temp_at_rain)"
   ]
  },
  {
   "cell_type": "code",
   "execution_count": 25,
   "id": "349442cf",
   "metadata": {
    "execution": {
     "iopub.execute_input": "2025-03-30T12:01:23.856165Z",
     "iopub.status.busy": "2025-03-30T12:01:23.855759Z",
     "iopub.status.idle": "2025-03-30T12:01:23.863089Z",
     "shell.execute_reply": "2025-03-30T12:01:23.861828Z"
    },
    "executionInfo": {
     "elapsed": 180,
     "status": "ok",
     "timestamp": 1743261384063,
     "user": {
      "displayName": "Ishit Gehlot",
      "userId": "01473306695467736694"
     },
     "user_tz": -330
    },
    "id": "Go8gTJnHk5mj",
    "outputId": "cb46aecf-0433-4180-947b-0499d5c77cd8",
    "papermill": {
     "duration": 0.040298,
     "end_time": "2025-03-30T12:01:23.865345",
     "exception": false,
     "start_time": "2025-03-30T12:01:23.825047",
     "status": "completed"
    },
    "tags": []
   },
   "outputs": [
    {
     "data": {
      "text/plain": [
       "ShapiroResult(statistic=0.9301652462505152, pvalue=4.4369021647849354e-27)"
      ]
     },
     "execution_count": 25,
     "metadata": {},
     "output_type": "execute_result"
    }
   ],
   "source": [
    "shap = shapiro(temp_at_rain)\n",
    "shap"
   ]
  },
  {
   "cell_type": "markdown",
   "id": "79aef316",
   "metadata": {
    "id": "7n8a2GHJmk-a",
    "papermill": {
     "duration": 0.028889,
     "end_time": "2025-03-30T12:01:23.927246",
     "exception": false,
     "start_time": "2025-03-30T12:01:23.898357",
     "status": "completed"
    },
    "tags": []
   },
   "source": [
    "Since, the distribution is not normal, we're applying Central Limit Theorem."
   ]
  },
  {
   "cell_type": "code",
   "execution_count": 26,
   "id": "fbb7d8ae",
   "metadata": {
    "execution": {
     "iopub.execute_input": "2025-03-30T12:01:23.988575Z",
     "iopub.status.busy": "2025-03-30T12:01:23.988160Z",
     "iopub.status.idle": "2025-03-30T12:01:23.997826Z",
     "shell.execute_reply": "2025-03-30T12:01:23.996620Z"
    },
    "executionInfo": {
     "elapsed": 101,
     "status": "ok",
     "timestamp": 1743261384074,
     "user": {
      "displayName": "Ishit Gehlot",
      "userId": "01473306695467736694"
     },
     "user_tz": -330
    },
    "id": "YYzx4YR2mv5x",
    "papermill": {
     "duration": 0.041691,
     "end_time": "2025-03-30T12:01:23.999742",
     "exception": false,
     "start_time": "2025-03-30T12:01:23.958051",
     "status": "completed"
    },
    "tags": []
   },
   "outputs": [],
   "source": [
    "samples = []\n",
    "for i in range(15):\n",
    "  samples.append(temp_at_rain.sample(30).values)"
   ]
  },
  {
   "cell_type": "code",
   "execution_count": 27,
   "id": "6986aa69",
   "metadata": {
    "execution": {
     "iopub.execute_input": "2025-03-30T12:01:24.079688Z",
     "iopub.status.busy": "2025-03-30T12:01:24.079242Z",
     "iopub.status.idle": "2025-03-30T12:01:24.085649Z",
     "shell.execute_reply": "2025-03-30T12:01:24.084367Z"
    },
    "executionInfo": {
     "elapsed": 8,
     "status": "ok",
     "timestamp": 1743261384089,
     "user": {
      "displayName": "Ishit Gehlot",
      "userId": "01473306695467736694"
     },
     "user_tz": -330
    },
    "id": "F5iwJIVTqJjC",
    "papermill": {
     "duration": 0.04889,
     "end_time": "2025-03-30T12:01:24.088458",
     "exception": false,
     "start_time": "2025-03-30T12:01:24.039568",
     "status": "completed"
    },
    "tags": []
   },
   "outputs": [],
   "source": [
    "samples = np.array(samples)"
   ]
  },
  {
   "cell_type": "code",
   "execution_count": 28,
   "id": "c7f77953",
   "metadata": {
    "execution": {
     "iopub.execute_input": "2025-03-30T12:01:24.148831Z",
     "iopub.status.busy": "2025-03-30T12:01:24.148431Z",
     "iopub.status.idle": "2025-03-30T12:01:24.153084Z",
     "shell.execute_reply": "2025-03-30T12:01:24.151697Z"
    },
    "executionInfo": {
     "elapsed": 7,
     "status": "ok",
     "timestamp": 1743261384102,
     "user": {
      "displayName": "Ishit Gehlot",
      "userId": "01473306695467736694"
     },
     "user_tz": -330
    },
    "id": "mHpoPJTHqPBw",
    "papermill": {
     "duration": 0.03689,
     "end_time": "2025-03-30T12:01:24.155014",
     "exception": false,
     "start_time": "2025-03-30T12:01:24.118124",
     "status": "completed"
    },
    "tags": []
   },
   "outputs": [],
   "source": [
    "# sample distribution of sampling distribution\n",
    "samples = samples.mean(axis = 1)"
   ]
  },
  {
   "cell_type": "code",
   "execution_count": 29,
   "id": "149e546a",
   "metadata": {
    "execution": {
     "iopub.execute_input": "2025-03-30T12:01:24.214770Z",
     "iopub.status.busy": "2025-03-30T12:01:24.214430Z",
     "iopub.status.idle": "2025-03-30T12:01:24.440744Z",
     "shell.execute_reply": "2025-03-30T12:01:24.439604Z"
    },
    "executionInfo": {
     "elapsed": 389,
     "status": "ok",
     "timestamp": 1743261384501,
     "user": {
      "displayName": "Ishit Gehlot",
      "userId": "01473306695467736694"
     },
     "user_tz": -330
    },
    "id": "MwlCjJNBqq_L",
    "outputId": "833f3bd8-5c50-45f0-963d-31a14bb9fc2b",
    "papermill": {
     "duration": 0.258752,
     "end_time": "2025-03-30T12:01:24.442585",
     "exception": false,
     "start_time": "2025-03-30T12:01:24.183833",
     "status": "completed"
    },
    "tags": []
   },
   "outputs": [
    {
     "name": "stderr",
     "output_type": "stream",
     "text": [
      "/usr/local/lib/python3.10/dist-packages/seaborn/_oldcore.py:1119: FutureWarning: use_inf_as_na option is deprecated and will be removed in a future version. Convert inf values to NaN before operating instead.\n",
      "  with pd.option_context('mode.use_inf_as_na', True):\n"
     ]
    },
    {
     "data": {
      "text/plain": [
       "<Axes: ylabel='Density'>"
      ]
     },
     "execution_count": 29,
     "metadata": {},
     "output_type": "execute_result"
    },
    {
     "data": {
      "image/png": "[encoded data removed]",
      "text/plain": [
       "<Figure size 640x480 with 1 Axes>"
      ]
     },
     "metadata": {},
     "output_type": "display_data"
    }
   ],
   "source": [
    "sns.kdeplot(x = samples)"
   ]
  },
  {
   "cell_type": "markdown",
   "id": "476359ca",
   "metadata": {
    "id": "Cap4Eo9W76Wd",
    "papermill": {
     "duration": 0.02935,
     "end_time": "2025-03-30T12:01:24.501262",
     "exception": false,
     "start_time": "2025-03-30T12:01:24.471912",
     "status": "completed"
    },
    "tags": []
   },
   "source": [
    "Since the sample is normally distributed, we can say that pop is also normally distributed.(by CLT)"
   ]
  },
  {
   "cell_type": "code",
   "execution_count": 30,
   "id": "d1d42802",
   "metadata": {
    "execution": {
     "iopub.execute_input": "2025-03-30T12:01:24.561340Z",
     "iopub.status.busy": "2025-03-30T12:01:24.560972Z",
     "iopub.status.idle": "2025-03-30T12:01:24.570275Z",
     "shell.execute_reply": "2025-03-30T12:01:24.568915Z"
    },
    "executionInfo": {
     "elapsed": 40,
     "status": "ok",
     "timestamp": 1743261384534,
     "user": {
      "displayName": "Ishit Gehlot",
      "userId": "01473306695467736694"
     },
     "user_tz": -330
    },
    "id": "1AZXiWwIqxBj",
    "outputId": "f13cdd76-5b0c-4a91-b93e-728bd5dbb4de",
    "papermill": {
     "duration": 0.041254,
     "end_time": "2025-03-30T12:01:24.571988",
     "exception": false,
     "start_time": "2025-03-30T12:01:24.530734",
     "status": "completed"
    },
    "tags": []
   },
   "outputs": [
    {
     "name": "stdout",
     "output_type": "stream",
     "text": [
      "t_statistic = -1.5672133296049495 p_value = 0.1172566990004307\n"
     ]
    }
   ],
   "source": [
    "tstat , pval = ttest_1samp(temp_at_rain, 24)\n",
    "print(f't_statistic = {tstat} p_value = {pval}', end= '\\n')"
   ]
  },
  {
   "cell_type": "markdown",
   "id": "a3139f67",
   "metadata": {
    "id": "k3fMBQSxr3mu",
    "papermill": {
     "duration": 0.028985,
     "end_time": "2025-03-30T12:01:24.631112",
     "exception": false,
     "start_time": "2025-03-30T12:01:24.602127",
     "status": "completed"
    },
    "tags": []
   },
   "source": [
    "Since p_value > 0.05, we are failed to reject null hypothesis, we don't have enough evidence to support alternate hypothesis.The mean temperature when rain occurs is somewhere around 24."
   ]
  },
  {
   "cell_type": "markdown",
   "id": "dde2c32e",
   "metadata": {
    "id": "yvidFAZuzUvS",
    "papermill": {
     "duration": 0.031403,
     "end_time": "2025-03-30T12:01:24.692347",
     "exception": false,
     "start_time": "2025-03-30T12:01:24.660944",
     "status": "completed"
    },
    "tags": []
   },
   "source": [
    "# **Building Model**"
   ]
  },
  {
   "cell_type": "code",
   "execution_count": 31,
   "id": "f2205919",
   "metadata": {
    "execution": {
     "iopub.execute_input": "2025-03-30T12:01:24.757307Z",
     "iopub.status.busy": "2025-03-30T12:01:24.756955Z",
     "iopub.status.idle": "2025-03-30T12:01:24.779202Z",
     "shell.execute_reply": "2025-03-30T12:01:24.778004Z"
    },
    "executionInfo": {
     "elapsed": 127,
     "status": "ok",
     "timestamp": 1743261384655,
     "user": {
      "displayName": "Ishit Gehlot",
      "userId": "01473306695467736694"
     },
     "user_tz": -330
    },
    "id": "zqeIpBcWzdNl",
    "outputId": "bf6f2dce-4bb6-494d-c6c8-6975326f391e",
    "papermill": {
     "duration": 0.056005,
     "end_time": "2025-03-30T12:01:24.780965",
     "exception": false,
     "start_time": "2025-03-30T12:01:24.724960",
     "status": "completed"
    },
    "tags": []
   },
   "outputs": [
    {
     "data": {
      "text/html": [
       "<div>\n",
       "<style scoped>\n",
       "    .dataframe tbody tr th:only-of-type {\n",
       "        vertical-align: middle;\n",
       "    }\n",
       "\n",
       "    .dataframe tbody tr th {\n",
       "        vertical-align: top;\n",
       "    }\n",
       "\n",
       "    .dataframe thead th {\n",
       "        text-align: right;\n",
       "    }\n",
       "</style>\n",
       "<table border=\"1\" class=\"dataframe\">\n",
       "  <thead>\n",
       "    <tr style=\"text-align: right;\">\n",
       "      <th></th>\n",
       "      <th>pressure</th>\n",
       "      <th>maxtemp</th>\n",
       "      <th>temparature</th>\n",
       "      <th>mintemp</th>\n",
       "      <th>dewpoint</th>\n",
       "      <th>humidity</th>\n",
       "      <th>cloud</th>\n",
       "      <th>sunshine</th>\n",
       "      <th>winddirection</th>\n",
       "      <th>windspeed</th>\n",
       "      <th>rainfall</th>\n",
       "      <th>sin_day</th>\n",
       "      <th>cos_day</th>\n",
       "      <th>cloud_humid</th>\n",
       "      <th>dew_pt_dep</th>\n",
       "      <th>temp_variation</th>\n",
       "      <th>feel_like_temp</th>\n",
       "    </tr>\n",
       "  </thead>\n",
       "  <tbody>\n",
       "    <tr>\n",
       "      <th>0</th>\n",
       "      <td>1017.4</td>\n",
       "      <td>21.2</td>\n",
       "      <td>20.6</td>\n",
       "      <td>19.9</td>\n",
       "      <td>19.4</td>\n",
       "      <td>87.0</td>\n",
       "      <td>88.0</td>\n",
       "      <td>1.1</td>\n",
       "      <td>60.0</td>\n",
       "      <td>17.2</td>\n",
       "      <td>1</td>\n",
       "      <td>0.017213</td>\n",
       "      <td>0.999852</td>\n",
       "      <td>7656.0</td>\n",
       "      <td>1.2</td>\n",
       "      <td>1.3</td>\n",
       "      <td>33.27</td>\n",
       "    </tr>\n",
       "    <tr>\n",
       "      <th>1</th>\n",
       "      <td>1019.5</td>\n",
       "      <td>16.2</td>\n",
       "      <td>16.9</td>\n",
       "      <td>15.8</td>\n",
       "      <td>15.4</td>\n",
       "      <td>95.0</td>\n",
       "      <td>91.0</td>\n",
       "      <td>0.0</td>\n",
       "      <td>50.0</td>\n",
       "      <td>21.9</td>\n",
       "      <td>1</td>\n",
       "      <td>0.034422</td>\n",
       "      <td>0.999407</td>\n",
       "      <td>8645.0</td>\n",
       "      <td>1.5</td>\n",
       "      <td>0.4</td>\n",
       "      <td>28.92</td>\n",
       "    </tr>\n",
       "    <tr>\n",
       "      <th>2</th>\n",
       "      <td>1024.1</td>\n",
       "      <td>19.4</td>\n",
       "      <td>16.1</td>\n",
       "      <td>14.6</td>\n",
       "      <td>9.3</td>\n",
       "      <td>75.0</td>\n",
       "      <td>47.0</td>\n",
       "      <td>8.3</td>\n",
       "      <td>70.0</td>\n",
       "      <td>18.1</td>\n",
       "      <td>1</td>\n",
       "      <td>0.051620</td>\n",
       "      <td>0.998667</td>\n",
       "      <td>3525.0</td>\n",
       "      <td>6.8</td>\n",
       "      <td>4.8</td>\n",
       "      <td>24.18</td>\n",
       "    </tr>\n",
       "    <tr>\n",
       "      <th>3</th>\n",
       "      <td>1013.4</td>\n",
       "      <td>18.1</td>\n",
       "      <td>17.8</td>\n",
       "      <td>16.9</td>\n",
       "      <td>16.8</td>\n",
       "      <td>95.0</td>\n",
       "      <td>95.0</td>\n",
       "      <td>0.0</td>\n",
       "      <td>60.0</td>\n",
       "      <td>35.6</td>\n",
       "      <td>1</td>\n",
       "      <td>0.068802</td>\n",
       "      <td>0.997630</td>\n",
       "      <td>9025.0</td>\n",
       "      <td>1.0</td>\n",
       "      <td>1.2</td>\n",
       "      <td>20.23</td>\n",
       "    </tr>\n",
       "    <tr>\n",
       "      <th>4</th>\n",
       "      <td>1021.8</td>\n",
       "      <td>21.3</td>\n",
       "      <td>18.4</td>\n",
       "      <td>15.2</td>\n",
       "      <td>9.6</td>\n",
       "      <td>52.0</td>\n",
       "      <td>45.0</td>\n",
       "      <td>3.6</td>\n",
       "      <td>40.0</td>\n",
       "      <td>24.8</td>\n",
       "      <td>0</td>\n",
       "      <td>0.085965</td>\n",
       "      <td>0.996298</td>\n",
       "      <td>2340.0</td>\n",
       "      <td>8.8</td>\n",
       "      <td>6.1</td>\n",
       "      <td>14.20</td>\n",
       "    </tr>\n",
       "  </tbody>\n",
       "</table>\n",
       "</div>"
      ],
      "text/plain": [
       "   pressure  maxtemp  temparature  mintemp  dewpoint  humidity  cloud  \\\n",
       "0    1017.4     21.2         20.6     19.9      19.4      87.0   88.0   \n",
       "1    1019.5     16.2         16.9     15.8      15.4      95.0   91.0   \n",
       "2    1024.1     19.4         16.1     14.6       9.3      75.0   47.0   \n",
       "3    1013.4     18.1         17.8     16.9      16.8      95.0   95.0   \n",
       "4    1021.8     21.3         18.4     15.2       9.6      52.0   45.0   \n",
       "\n",
       "   sunshine  winddirection  windspeed  rainfall   sin_day   cos_day  \\\n",
       "0       1.1           60.0       17.2         1  0.017213  0.999852   \n",
       "1       0.0           50.0       21.9         1  0.034422  0.999407   \n",
       "2       8.3           70.0       18.1         1  0.051620  0.998667   \n",
       "3       0.0           60.0       35.6         1  0.068802  0.997630   \n",
       "4       3.6           40.0       24.8         0  0.085965  0.996298   \n",
       "\n",
       "   cloud_humid  dew_pt_dep  temp_variation  feel_like_temp  \n",
       "0       7656.0         1.2             1.3           33.27  \n",
       "1       8645.0         1.5             0.4           28.92  \n",
       "2       3525.0         6.8             4.8           24.18  \n",
       "3       9025.0         1.0             1.2           20.23  \n",
       "4       2340.0         8.8             6.1           14.20  "
      ]
     },
     "execution_count": 31,
     "metadata": {},
     "output_type": "execute_result"
    }
   ],
   "source": [
    "train.head()"
   ]
  },
  {
   "cell_type": "markdown",
   "id": "f29c759b",
   "metadata": {
    "id": "fGbsH0G7KKZz",
    "papermill": {
     "duration": 0.030858,
     "end_time": "2025-03-30T12:01:24.841873",
     "exception": false,
     "start_time": "2025-03-30T12:01:24.811015",
     "status": "completed"
    },
    "tags": []
   },
   "source": [
    "# **Applying SMOTE**"
   ]
  },
  {
   "cell_type": "code",
   "execution_count": 32,
   "id": "ff4053ca",
   "metadata": {
    "execution": {
     "iopub.execute_input": "2025-03-30T12:01:24.904410Z",
     "iopub.status.busy": "2025-03-30T12:01:24.904029Z",
     "iopub.status.idle": "2025-03-30T12:01:24.913659Z",
     "shell.execute_reply": "2025-03-30T12:01:24.912381Z"
    },
    "executionInfo": {
     "elapsed": 43,
     "status": "ok",
     "timestamp": 1743261460450,
     "user": {
      "displayName": "Ishit Gehlot",
      "userId": "01473306695467736694"
     },
     "user_tz": -330
    },
    "id": "m_z24nyjd9gt",
    "papermill": {
     "duration": 0.043715,
     "end_time": "2025-03-30T12:01:24.915521",
     "exception": false,
     "start_time": "2025-03-30T12:01:24.871806",
     "status": "completed"
    },
    "tags": []
   },
   "outputs": [],
   "source": [
    "from imblearn.pipeline import Pipeline\n",
    "X = train.drop(columns=['rainfall'])\n",
    "y = train['rainfall']\n",
    "x_train, x_test, y_train, y_test = train_test_split(X,y,random_state=42, test_size=0.2)"
   ]
  },
  {
   "cell_type": "code",
   "execution_count": 33,
   "id": "98cb216d",
   "metadata": {
    "execution": {
     "iopub.execute_input": "2025-03-30T12:01:24.977860Z",
     "iopub.status.busy": "2025-03-30T12:01:24.977485Z",
     "iopub.status.idle": "2025-03-30T12:01:24.982835Z",
     "shell.execute_reply": "2025-03-30T12:01:24.981485Z"
    },
    "executionInfo": {
     "elapsed": 47,
     "status": "ok",
     "timestamp": 1743263882468,
     "user": {
      "displayName": "Ishit Gehlot",
      "userId": "01473306695467736694"
     },
     "user_tz": -330
    },
    "id": "C8NE3zwQLMqy",
    "papermill": {
     "duration": 0.038134,
     "end_time": "2025-03-30T12:01:24.984808",
     "exception": false,
     "start_time": "2025-03-30T12:01:24.946674",
     "status": "completed"
    },
    "tags": []
   },
   "outputs": [],
   "source": [
    "pipe2 = Pipeline([\n",
    "    ('smote', SMOTE(sampling_strategy='auto', random_state=42)),\n",
    "    ('scaler', MinMaxScaler()),\n",
    "    ('model', GradientBoostingClassifier(learning_rate=0.05,    # Slower learning for better generalization\n",
    "    max_depth=3,           # Limit tree depth\n",
    "    subsample=0.8,         # Randomly sample 80% of data per tree  # Randomly sample 80% of features per tree   # Class imbalance ratio (75:25 ≈ 3:1)\n",
    "    n_estimators=200))\n",
    "])"
   ]
  },
  {
   "cell_type": "code",
   "execution_count": 34,
   "id": "3a103249",
   "metadata": {
    "execution": {
     "iopub.execute_input": "2025-03-30T12:01:25.046572Z",
     "iopub.status.busy": "2025-03-30T12:01:25.046226Z",
     "iopub.status.idle": "2025-03-30T12:01:27.127307Z",
     "shell.execute_reply": "2025-03-30T12:01:27.126139Z"
    },
    "executionInfo": {
     "elapsed": 2532,
     "status": "ok",
     "timestamp": 1743263885969,
     "user": {
      "displayName": "Ishit Gehlot",
      "userId": "01473306695467736694"
     },
     "user_tz": -330
    },
    "id": "Hy1cYsc-LeK6",
    "outputId": "1f322aa5-cb93-40ee-ae56-58784b784c61",
    "papermill": {
     "duration": 2.113662,
     "end_time": "2025-03-30T12:01:27.129212",
     "exception": false,
     "start_time": "2025-03-30T12:01:25.015550",
     "status": "completed"
    },
    "tags": []
   },
   "outputs": [
    {
     "data": {
      "text/html": [
       "<style>#sk-container-id-1 {color: black;background-color: white;}#sk-container-id-1 pre{padding: 0;}#sk-container-id-1 div.sk-toggleable {background-color: white;}#sk-container-id-1 label.sk-toggleable__label {cursor: pointer;display: block;width: 100%;margin-bottom: 0;padding: 0.3em;box-sizing: border-box;text-align: center;}#sk-container-id-1 label.sk-toggleable__label-arrow:before {content: \"▸\";float: left;margin-right: 0.25em;color: #696969;}#sk-container-id-1 label.sk-toggleable__label-arrow:hover:before {color: black;}#sk-container-id-1 div.sk-estimator:hover label.sk-toggleable__label-arrow:before {color: black;}#sk-container-id-1 div.sk-toggleable__content {max-height: 0;max-width: 0;overflow: hidden;text-align: left;background-color: #f0f8ff;}#sk-container-id-1 div.sk-toggleable__content pre {margin: 0.2em;color: black;border-radius: 0.25em;background-color: #f0f8ff;}#sk-container-id-1 input.sk-toggleable__control:checked~div.sk-toggleable__content {max-height: 200px;max-width: 100%;overflow: auto;}#sk-container-id-1 input.sk-toggleable__control:checked~label.sk-toggleable__label-arrow:before {content: \"▾\";}#sk-container-id-1 div.sk-estimator input.sk-toggleable__control:checked~label.sk-toggleable__label {background-color: #d4ebff;}#sk-container-id-1 div.sk-label input.sk-toggleable__control:checked~label.sk-toggleable__label {background-color: #d4ebff;}#sk-container-id-1 input.sk-hidden--visually {border: 0;clip: rect(1px 1px 1px 1px);clip: rect(1px, 1px, 1px, 1px);height: 1px;margin: -1px;overflow: hidden;padding: 0;position: absolute;width: 1px;}#sk-container-id-1 div.sk-estimator {font-family: monospace;background-color: #f0f8ff;border: 1px dotted black;border-radius: 0.25em;box-sizing: border-box;margin-bottom: 0.5em;}#sk-container-id-1 div.sk-estimator:hover {background-color: #d4ebff;}#sk-container-id-1 div.sk-parallel-item::after {content: \"\";width: 100%;border-bottom: 1px solid gray;flex-grow: 1;}#sk-container-id-1 div.sk-label:hover label.sk-toggleable__label {background-color: #d4ebff;}#sk-container-id-1 div.sk-serial::before {content: \"\";position: absolute;border-left: 1px solid gray;box-sizing: border-box;top: 0;bottom: 0;left: 50%;z-index: 0;}#sk-container-id-1 div.sk-serial {display: flex;flex-direction: column;align-items: center;background-color: white;padding-right: 0.2em;padding-left: 0.2em;position: relative;}#sk-container-id-1 div.sk-item {position: relative;z-index: 1;}#sk-container-id-1 div.sk-parallel {display: flex;align-items: stretch;justify-content: center;background-color: white;position: relative;}#sk-container-id-1 div.sk-item::before, #sk-container-id-1 div.sk-parallel-item::before {content: \"\";position: absolute;border-left: 1px solid gray;box-sizing: border-box;top: 0;bottom: 0;left: 50%;z-index: -1;}#sk-container-id-1 div.sk-parallel-item {display: flex;flex-direction: column;z-index: 1;position: relative;background-color: white;}#sk-container-id-1 div.sk-parallel-item:first-child::after {align-self: flex-end;width: 50%;}#sk-container-id-1 div.sk-parallel-item:last-child::after {align-self: flex-start;width: 50%;}#sk-container-id-1 div.sk-parallel-item:only-child::after {width: 0;}#sk-container-id-1 div.sk-dashed-wrapped {border: 1px dashed gray;margin: 0 0.4em 0.5em 0.4em;box-sizing: border-box;padding-bottom: 0.4em;background-color: white;}#sk-container-id-1 div.sk-label label {font-family: monospace;font-weight: bold;display: inline-block;line-height: 1.2em;}#sk-container-id-1 div.sk-label-container {text-align: center;}#sk-container-id-1 div.sk-container {/* jupyter's `normalize.less` sets `[hidden] { display: none; }` but bootstrap.min.css set `[hidden] { display: none !important; }` so we also need the `!important` here to be able to override the default hidden behavior on the sphinx rendered scikit-learn.org. See: https://github.com/scikit-learn/scikit-learn/issues/21755 */display: inline-block !important;position: relative;}#sk-container-id-1 div.sk-text-repr-fallback {display: none;}</style><div id=\"sk-container-id-1\" class=\"sk-top-container\"><div class=\"sk-text-repr-fallback\"><pre>Pipeline(steps=[(&#x27;smote&#x27;, SMOTE(random_state=42)), (&#x27;scaler&#x27;, MinMaxScaler()),\n",
       "                (&#x27;model&#x27;,\n",
       "                 GradientBoostingClassifier(learning_rate=0.05,\n",
       "                                            n_estimators=200, subsample=0.8))])</pre><b>In a Jupyter environment, please rerun this cell to show the HTML representation or trust the notebook. <br />On GitHub, the HTML representation is unable to render, please try loading this page with nbviewer.org.</b></div><div class=\"sk-container\" hidden><div class=\"sk-item sk-dashed-wrapped\"><div class=\"sk-label-container\"><div class=\"sk-label sk-toggleable\"><input class=\"sk-toggleable__control sk-hidden--visually\" id=\"sk-estimator-id-1\" type=\"checkbox\" ><label for=\"sk-estimator-id-1\" class=\"sk-toggleable__label sk-toggleable__label-arrow\">Pipeline</label><div class=\"sk-toggleable__content\"><pre>Pipeline(steps=[(&#x27;smote&#x27;, SMOTE(random_state=42)), (&#x27;scaler&#x27;, MinMaxScaler()),\n",
       "                (&#x27;model&#x27;,\n",
       "                 GradientBoostingClassifier(learning_rate=0.05,\n",
       "                                            n_estimators=200, subsample=0.8))])</pre></div></div></div><div class=\"sk-serial\"><div class=\"sk-item\"><div class=\"sk-estimator sk-toggleable\"><input class=\"sk-toggleable__control sk-hidden--visually\" id=\"sk-estimator-id-2\" type=\"checkbox\" ><label for=\"sk-estimator-id-2\" class=\"sk-toggleable__label sk-toggleable__label-arrow\">SMOTE</label><div class=\"sk-toggleable__content\"><pre>SMOTE(random_state=42)</pre></div></div></div><div class=\"sk-item\"><div class=\"sk-estimator sk-toggleable\"><input class=\"sk-toggleable__control sk-hidden--visually\" id=\"sk-estimator-id-3\" type=\"checkbox\" ><label for=\"sk-estimator-id-3\" class=\"sk-toggleable__label sk-toggleable__label-arrow\">MinMaxScaler</label><div class=\"sk-toggleable__content\"><pre>MinMaxScaler()</pre></div></div></div><div class=\"sk-item\"><div class=\"sk-estimator sk-toggleable\"><input class=\"sk-toggleable__control sk-hidden--visually\" id=\"sk-estimator-id-4\" type=\"checkbox\" ><label for=\"sk-estimator-id-4\" class=\"sk-toggleable__label sk-toggleable__label-arrow\">GradientBoostingClassifier</label><div class=\"sk-toggleable__content\"><pre>GradientBoostingClassifier(learning_rate=0.05, n_estimators=200, subsample=0.8)</pre></div></div></div></div></div></div></div>"
      ],
      "text/plain": [
       "Pipeline(steps=[('smote', SMOTE(random_state=42)), ('scaler', MinMaxScaler()),\n",
       "                ('model',\n",
       "                 GradientBoostingClassifier(learning_rate=0.05,\n",
       "                                            n_estimators=200, subsample=0.8))])"
      ]
     },
     "execution_count": 34,
     "metadata": {},
     "output_type": "execute_result"
    }
   ],
   "source": [
    "pipe2.fit(x_train, y_train)"
   ]
  },
  {
   "cell_type": "code",
   "execution_count": 35,
   "id": "91080d1b",
   "metadata": {
    "execution": {
     "iopub.execute_input": "2025-03-30T12:01:27.196285Z",
     "iopub.status.busy": "2025-03-30T12:01:27.195926Z",
     "iopub.status.idle": "2025-03-30T12:01:27.205725Z",
     "shell.execute_reply": "2025-03-30T12:01:27.204564Z"
    },
    "executionInfo": {
     "elapsed": 70,
     "status": "ok",
     "timestamp": 1743263886044,
     "user": {
      "displayName": "Ishit Gehlot",
      "userId": "01473306695467736694"
     },
     "user_tz": -330
    },
    "id": "dHPVDTqlLkPv",
    "papermill": {
     "duration": 0.045549,
     "end_time": "2025-03-30T12:01:27.207674",
     "exception": false,
     "start_time": "2025-03-30T12:01:27.162125",
     "status": "completed"
    },
    "tags": []
   },
   "outputs": [],
   "source": [
    "y_pred = pipe2.predict_proba(x_test)[:,1]"
   ]
  },
  {
   "cell_type": "code",
   "execution_count": 36,
   "id": "b8877ad3",
   "metadata": {
    "execution": {
     "iopub.execute_input": "2025-03-30T12:01:27.276494Z",
     "iopub.status.busy": "2025-03-30T12:01:27.276081Z",
     "iopub.status.idle": "2025-03-30T12:01:27.288121Z",
     "shell.execute_reply": "2025-03-30T12:01:27.286943Z"
    },
    "executionInfo": {
     "elapsed": 359,
     "status": "ok",
     "timestamp": 1743263888140,
     "user": {
      "displayName": "Ishit Gehlot",
      "userId": "01473306695467736694"
     },
     "user_tz": -330
    },
    "id": "Jc3cZ9fGLpCt",
    "outputId": "fa565e9a-7a9f-43bb-fcd3-450a0cbcd944",
    "papermill": {
     "duration": 0.048735,
     "end_time": "2025-03-30T12:01:27.290057",
     "exception": false,
     "start_time": "2025-03-30T12:01:27.241322",
     "status": "completed"
    },
    "tags": []
   },
   "outputs": [
    {
     "data": {
      "text/plain": [
       "0.8748452359000025"
      ]
     },
     "execution_count": 36,
     "metadata": {},
     "output_type": "execute_result"
    }
   ],
   "source": [
    "roc_auc_score(y_test, y_pred)"
   ]
  },
  {
   "cell_type": "code",
   "execution_count": null,
   "id": "d9814b52",
   "metadata": {
    "executionInfo": {
     "elapsed": 9,
     "status": "ok",
     "timestamp": 1743263945464,
     "user": {
      "displayName": "Ishit Gehlot",
      "userId": "01473306695467736694"
     },
     "user_tz": -330
    },
    "id": "0nkefULjoAH9",
    "papermill": {
     "duration": 0.029654,
     "end_time": "2025-03-30T12:01:27.350315",
     "exception": false,
     "start_time": "2025-03-30T12:01:27.320661",
     "status": "completed"
    },
    "tags": []
   },
   "outputs": [],
   "source": []
  },
  {
   "cell_type": "code",
   "execution_count": 37,
   "id": "16ebb37b",
   "metadata": {
    "execution": {
     "iopub.execute_input": "2025-03-30T12:01:27.412656Z",
     "iopub.status.busy": "2025-03-30T12:01:27.412258Z",
     "iopub.status.idle": "2025-03-30T12:01:27.416952Z",
     "shell.execute_reply": "2025-03-30T12:01:27.415770Z"
    },
    "id": "HjCNDbXhgJdC",
    "papermill": {
     "duration": 0.038382,
     "end_time": "2025-03-30T12:01:27.418916",
     "exception": false,
     "start_time": "2025-03-30T12:01:27.380534",
     "status": "completed"
    },
    "tags": []
   },
   "outputs": [],
   "source": [
    "# dt --> 86.74 max_depth = 4\n",
    "# rf --> 86.86 n_estim = 60 , max_Depth = 4\n",
    "# gb --> 87.10 n_estim = 50\n",
    "# xgb --> 85.427\n",
    "# lr --> 87.24"
   ]
  },
  {
   "cell_type": "markdown",
   "id": "6a96d3f5",
   "metadata": {
    "id": "TA-qI7MghiO1",
    "papermill": {
     "duration": 0.032274,
     "end_time": "2025-03-30T12:01:27.483046",
     "exception": false,
     "start_time": "2025-03-30T12:01:27.450772",
     "status": "completed"
    },
    "tags": []
   },
   "source": [
    "# **Using Voting Ensemble**"
   ]
  },
  {
   "cell_type": "code",
   "execution_count": 38,
   "id": "1282e296",
   "metadata": {
    "execution": {
     "iopub.execute_input": "2025-03-30T12:01:27.549092Z",
     "iopub.status.busy": "2025-03-30T12:01:27.548653Z",
     "iopub.status.idle": "2025-03-30T12:01:27.553456Z",
     "shell.execute_reply": "2025-03-30T12:01:27.552266Z"
    },
    "executionInfo": {
     "elapsed": 42,
     "status": "ok",
     "timestamp": 1743261591244,
     "user": {
      "displayName": "Ishit Gehlot",
      "userId": "01473306695467736694"
     },
     "user_tz": -330
    },
    "id": "jpsVNFkIhn0C",
    "papermill": {
     "duration": 0.039052,
     "end_time": "2025-03-30T12:01:27.555550",
     "exception": false,
     "start_time": "2025-03-30T12:01:27.516498",
     "status": "completed"
    },
    "tags": []
   },
   "outputs": [],
   "source": [
    "# pipe2 ---> random forest n_estim = 55"
   ]
  },
  {
   "cell_type": "code",
   "execution_count": 39,
   "id": "22e0d649",
   "metadata": {
    "execution": {
     "iopub.execute_input": "2025-03-30T12:01:27.618838Z",
     "iopub.status.busy": "2025-03-30T12:01:27.618436Z",
     "iopub.status.idle": "2025-03-30T12:01:27.623532Z",
     "shell.execute_reply": "2025-03-30T12:01:27.622105Z"
    },
    "executionInfo": {
     "elapsed": 24,
     "status": "ok",
     "timestamp": 1743261591254,
     "user": {
      "displayName": "Ishit Gehlot",
      "userId": "01473306695467736694"
     },
     "user_tz": -330
    },
    "id": "xH4S7mHihn8N",
    "papermill": {
     "duration": 0.039073,
     "end_time": "2025-03-30T12:01:27.625401",
     "exception": false,
     "start_time": "2025-03-30T12:01:27.586328",
     "status": "completed"
    },
    "tags": []
   },
   "outputs": [],
   "source": [
    "pipe3 = Pipeline([\n",
    "    ('scaler', MinMaxScaler()),\n",
    "    ('model', xgb.XGBClassifier())\n",
    "])"
   ]
  },
  {
   "cell_type": "code",
   "execution_count": 40,
   "id": "9b238b40",
   "metadata": {
    "execution": {
     "iopub.execute_input": "2025-03-30T12:01:27.690752Z",
     "iopub.status.busy": "2025-03-30T12:01:27.690342Z",
     "iopub.status.idle": "2025-03-30T12:01:27.879075Z",
     "shell.execute_reply": "2025-03-30T12:01:27.877919Z"
    },
    "executionInfo": {
     "elapsed": 185,
     "status": "ok",
     "timestamp": 1743261591423,
     "user": {
      "displayName": "Ishit Gehlot",
      "userId": "01473306695467736694"
     },
     "user_tz": -330
    },
    "id": "Y-AAIBCHhoEi",
    "outputId": "0ad399e0-ee64-48ee-9c98-dbb3fba37c76",
    "papermill": {
     "duration": 0.224973,
     "end_time": "2025-03-30T12:01:27.881071",
     "exception": false,
     "start_time": "2025-03-30T12:01:27.656098",
     "status": "completed"
    },
    "tags": []
   },
   "outputs": [
    {
     "data": {
      "text/html": [
       "<style>#sk-container-id-2 {color: black;background-color: white;}#sk-container-id-2 pre{padding: 0;}#sk-container-id-2 div.sk-toggleable {background-color: white;}#sk-container-id-2 label.sk-toggleable__label {cursor: pointer;display: block;width: 100%;margin-bottom: 0;padding: 0.3em;box-sizing: border-box;text-align: center;}#sk-container-id-2 label.sk-toggleable__label-arrow:before {content: \"▸\";float: left;margin-right: 0.25em;color: #696969;}#sk-container-id-2 label.sk-toggleable__label-arrow:hover:before {color: black;}#sk-container-id-2 div.sk-estimator:hover label.sk-toggleable__label-arrow:before {color: black;}#sk-container-id-2 div.sk-toggleable__content {max-height: 0;max-width: 0;overflow: hidden;text-align: left;background-color: #f0f8ff;}#sk-container-id-2 div.sk-toggleable__content pre {margin: 0.2em;color: black;border-radius: 0.25em;background-color: #f0f8ff;}#sk-container-id-2 input.sk-toggleable__control:checked~div.sk-toggleable__content {max-height: 200px;max-width: 100%;overflow: auto;}#sk-container-id-2 input.sk-toggleable__control:checked~label.sk-toggleable__label-arrow:before {content: \"▾\";}#sk-container-id-2 div.sk-estimator input.sk-toggleable__control:checked~label.sk-toggleable__label {background-color: #d4ebff;}#sk-container-id-2 div.sk-label input.sk-toggleable__control:checked~label.sk-toggleable__label {background-color: #d4ebff;}#sk-container-id-2 input.sk-hidden--visually {border: 0;clip: rect(1px 1px 1px 1px);clip: rect(1px, 1px, 1px, 1px);height: 1px;margin: -1px;overflow: hidden;padding: 0;position: absolute;width: 1px;}#sk-container-id-2 div.sk-estimator {font-family: monospace;background-color: #f0f8ff;border: 1px dotted black;border-radius: 0.25em;box-sizing: border-box;margin-bottom: 0.5em;}#sk-container-id-2 div.sk-estimator:hover {background-color: #d4ebff;}#sk-container-id-2 div.sk-parallel-item::after {content: \"\";width: 100%;border-bottom: 1px solid gray;flex-grow: 1;}#sk-container-id-2 div.sk-label:hover label.sk-toggleable__label {background-color: #d4ebff;}#sk-container-id-2 div.sk-serial::before {content: \"\";position: absolute;border-left: 1px solid gray;box-sizing: border-box;top: 0;bottom: 0;left: 50%;z-index: 0;}#sk-container-id-2 div.sk-serial {display: flex;flex-direction: column;align-items: center;background-color: white;padding-right: 0.2em;padding-left: 0.2em;position: relative;}#sk-container-id-2 div.sk-item {position: relative;z-index: 1;}#sk-container-id-2 div.sk-parallel {display: flex;align-items: stretch;justify-content: center;background-color: white;position: relative;}#sk-container-id-2 div.sk-item::before, #sk-container-id-2 div.sk-parallel-item::before {content: \"\";position: absolute;border-left: 1px solid gray;box-sizing: border-box;top: 0;bottom: 0;left: 50%;z-index: -1;}#sk-container-id-2 div.sk-parallel-item {display: flex;flex-direction: column;z-index: 1;position: relative;background-color: white;}#sk-container-id-2 div.sk-parallel-item:first-child::after {align-self: flex-end;width: 50%;}#sk-container-id-2 div.sk-parallel-item:last-child::after {align-self: flex-start;width: 50%;}#sk-container-id-2 div.sk-parallel-item:only-child::after {width: 0;}#sk-container-id-2 div.sk-dashed-wrapped {border: 1px dashed gray;margin: 0 0.4em 0.5em 0.4em;box-sizing: border-box;padding-bottom: 0.4em;background-color: white;}#sk-container-id-2 div.sk-label label {font-family: monospace;font-weight: bold;display: inline-block;line-height: 1.2em;}#sk-container-id-2 div.sk-label-container {text-align: center;}#sk-container-id-2 div.sk-container {/* jupyter's `normalize.less` sets `[hidden] { display: none; }` but bootstrap.min.css set `[hidden] { display: none !important; }` so we also need the `!important` here to be able to override the default hidden behavior on the sphinx rendered scikit-learn.org. See: https://github.com/scikit-learn/scikit-learn/issues/21755 */display: inline-block !important;position: relative;}#sk-container-id-2 div.sk-text-repr-fallback {display: none;}</style><div id=\"sk-container-id-2\" class=\"sk-top-container\"><div class=\"sk-text-repr-fallback\"><pre>Pipeline(steps=[(&#x27;scaler&#x27;, MinMaxScaler()),\n",
       "                (&#x27;model&#x27;,\n",
       "                 XGBClassifier(base_score=None, booster=None, callbacks=None,\n",
       "                               colsample_bylevel=None, colsample_bynode=None,\n",
       "                               colsample_bytree=None, device=None,\n",
       "                               early_stopping_rounds=None,\n",
       "                               enable_categorical=False, eval_metric=None,\n",
       "                               feature_types=None, gamma=None, grow_policy=None,\n",
       "                               importance_type=None,\n",
       "                               interaction_constraints=None, learning_rate=None,\n",
       "                               max_bin=None, max_cat_threshold=None,\n",
       "                               max_cat_to_onehot=None, max_delta_step=None,\n",
       "                               max_depth=None, max_leaves=None,\n",
       "                               min_child_weight=None, missing=nan,\n",
       "                               monotone_constraints=None, multi_strategy=None,\n",
       "                               n_estimators=None, n_jobs=None,\n",
       "                               num_parallel_tree=None, random_state=None, ...))])</pre><b>In a Jupyter environment, please rerun this cell to show the HTML representation or trust the notebook. <br />On GitHub, the HTML representation is unable to render, please try loading this page with nbviewer.org.</b></div><div class=\"sk-container\" hidden><div class=\"sk-item sk-dashed-wrapped\"><div class=\"sk-label-container\"><div class=\"sk-label sk-toggleable\"><input class=\"sk-toggleable__control sk-hidden--visually\" id=\"sk-estimator-id-5\" type=\"checkbox\" ><label for=\"sk-estimator-id-5\" class=\"sk-toggleable__label sk-toggleable__label-arrow\">Pipeline</label><div class=\"sk-toggleable__content\"><pre>Pipeline(steps=[(&#x27;scaler&#x27;, MinMaxScaler()),\n",
       "                (&#x27;model&#x27;,\n",
       "                 XGBClassifier(base_score=None, booster=None, callbacks=None,\n",
       "                               colsample_bylevel=None, colsample_bynode=None,\n",
       "                               colsample_bytree=None, device=None,\n",
       "                               early_stopping_rounds=None,\n",
       "                               enable_categorical=False, eval_metric=None,\n",
       "                               feature_types=None, gamma=None, grow_policy=None,\n",
       "                               importance_type=None,\n",
       "                               interaction_constraints=None, learning_rate=None,\n",
       "                               max_bin=None, max_cat_threshold=None,\n",
       "                               max_cat_to_onehot=None, max_delta_step=None,\n",
       "                               max_depth=None, max_leaves=None,\n",
       "                               min_child_weight=None, missing=nan,\n",
       "                               monotone_constraints=None, multi_strategy=None,\n",
       "                               n_estimators=None, n_jobs=None,\n",
       "                               num_parallel_tree=None, random_state=None, ...))])</pre></div></div></div><div class=\"sk-serial\"><div class=\"sk-item\"><div class=\"sk-estimator sk-toggleable\"><input class=\"sk-toggleable__control sk-hidden--visually\" id=\"sk-estimator-id-6\" type=\"checkbox\" ><label for=\"sk-estimator-id-6\" class=\"sk-toggleable__label sk-toggleable__label-arrow\">MinMaxScaler</label><div class=\"sk-toggleable__content\"><pre>MinMaxScaler()</pre></div></div></div><div class=\"sk-item\"><div class=\"sk-estimator sk-toggleable\"><input class=\"sk-toggleable__control sk-hidden--visually\" id=\"sk-estimator-id-7\" type=\"checkbox\" ><label for=\"sk-estimator-id-7\" class=\"sk-toggleable__label sk-toggleable__label-arrow\">XGBClassifier</label><div class=\"sk-toggleable__content\"><pre>XGBClassifier(base_score=None, booster=None, callbacks=None,\n",
       "              colsample_bylevel=None, colsample_bynode=None,\n",
       "              colsample_bytree=None, device=None, early_stopping_rounds=None,\n",
       "              enable_categorical=False, eval_metric=None, feature_types=None,\n",
       "              gamma=None, grow_policy=None, importance_type=None,\n",
       "              interaction_constraints=None, learning_rate=None, max_bin=None,\n",
       "              max_cat_threshold=None, max_cat_to_onehot=None,\n",
       "              max_delta_step=None, max_depth=None, max_leaves=None,\n",
       "              min_child_weight=None, missing=nan, monotone_constraints=None,\n",
       "              multi_strategy=None, n_estimators=None, n_jobs=None,\n",
       "              num_parallel_tree=None, random_state=None, ...)</pre></div></div></div></div></div></div></div>"
      ],
      "text/plain": [
       "Pipeline(steps=[('scaler', MinMaxScaler()),\n",
       "                ('model',\n",
       "                 XGBClassifier(base_score=None, booster=None, callbacks=None,\n",
       "                               colsample_bylevel=None, colsample_bynode=None,\n",
       "                               colsample_bytree=None, device=None,\n",
       "                               early_stopping_rounds=None,\n",
       "                               enable_categorical=False, eval_metric=None,\n",
       "                               feature_types=None, gamma=None, grow_policy=None,\n",
       "                               importance_type=None,\n",
       "                               interaction_constraints=None, learning_rate=None,\n",
       "                               max_bin=None, max_cat_threshold=None,\n",
       "                               max_cat_to_onehot=None, max_delta_step=None,\n",
       "                               max_depth=None, max_leaves=None,\n",
       "                               min_child_weight=None, missing=nan,\n",
       "                               monotone_constraints=None, multi_strategy=None,\n",
       "                               n_estimators=None, n_jobs=None,\n",
       "                               num_parallel_tree=None, random_state=None, ...))])"
      ]
     },
     "execution_count": 40,
     "metadata": {},
     "output_type": "execute_result"
    }
   ],
   "source": [
    "pipe3.fit(x_train, y_train)"
   ]
  },
  {
   "cell_type": "code",
   "execution_count": 41,
   "id": "ea0356c7",
   "metadata": {
    "execution": {
     "iopub.execute_input": "2025-03-30T12:01:27.946196Z",
     "iopub.status.busy": "2025-03-30T12:01:27.945753Z",
     "iopub.status.idle": "2025-03-30T12:01:27.957016Z",
     "shell.execute_reply": "2025-03-30T12:01:27.956153Z"
    },
    "executionInfo": {
     "elapsed": 25,
     "status": "ok",
     "timestamp": 1743261591434,
     "user": {
      "displayName": "Ishit Gehlot",
      "userId": "01473306695467736694"
     },
     "user_tz": -330
    },
    "id": "g7luh4j4hoLG",
    "papermill": {
     "duration": 0.046656,
     "end_time": "2025-03-30T12:01:27.959111",
     "exception": false,
     "start_time": "2025-03-30T12:01:27.912455",
     "status": "completed"
    },
    "tags": []
   },
   "outputs": [],
   "source": [
    "gbyp = pipe3.predict_proba(x_test)[:,1]"
   ]
  },
  {
   "cell_type": "code",
   "execution_count": 42,
   "id": "9fc30457",
   "metadata": {
    "execution": {
     "iopub.execute_input": "2025-03-30T12:01:28.024856Z",
     "iopub.status.busy": "2025-03-30T12:01:28.024496Z",
     "iopub.status.idle": "2025-03-30T12:01:28.033754Z",
     "shell.execute_reply": "2025-03-30T12:01:28.032599Z"
    },
    "executionInfo": {
     "elapsed": 42,
     "status": "ok",
     "timestamp": 1743261591484,
     "user": {
      "displayName": "Ishit Gehlot",
      "userId": "01473306695467736694"
     },
     "user_tz": -330
    },
    "id": "Zca9mBFChoP3",
    "outputId": "712fbbd0-3e1e-4f9d-9d95-4f609eced215",
    "papermill": {
     "duration": 0.046028,
     "end_time": "2025-03-30T12:01:28.035683",
     "exception": false,
     "start_time": "2025-03-30T12:01:27.989655",
     "status": "completed"
    },
    "tags": []
   },
   "outputs": [
    {
     "data": {
      "text/plain": [
       "0.8562998867258502"
      ]
     },
     "execution_count": 42,
     "metadata": {},
     "output_type": "execute_result"
    }
   ],
   "source": [
    "roc_auc_score(y_test, gbyp)"
   ]
  },
  {
   "cell_type": "code",
   "execution_count": 43,
   "id": "a4a90618",
   "metadata": {
    "execution": {
     "iopub.execute_input": "2025-03-30T12:01:28.100274Z",
     "iopub.status.busy": "2025-03-30T12:01:28.099904Z",
     "iopub.status.idle": "2025-03-30T12:01:28.104909Z",
     "shell.execute_reply": "2025-03-30T12:01:28.103898Z"
    },
    "executionInfo": {
     "elapsed": 47,
     "status": "ok",
     "timestamp": 1743262958565,
     "user": {
      "displayName": "Ishit Gehlot",
      "userId": "01473306695467736694"
     },
     "user_tz": -330
    },
    "id": "gb78YkA5hobG",
    "papermill": {
     "duration": 0.039561,
     "end_time": "2025-03-30T12:01:28.106618",
     "exception": false,
     "start_time": "2025-03-30T12:01:28.067057",
     "status": "completed"
    },
    "tags": []
   },
   "outputs": [],
   "source": [
    "dt = DecisionTreeClassifier(max_depth=4)\n",
    "rf = RandomForestClassifier(n_estimators=60, max_depth = 4)\n",
    "gb = GradientBoostingClassifier(n_estimators=50)\n",
    "lr = LogisticRegression()"
   ]
  },
  {
   "cell_type": "code",
   "execution_count": 44,
   "id": "1137a614",
   "metadata": {
    "execution": {
     "iopub.execute_input": "2025-03-30T12:01:28.169094Z",
     "iopub.status.busy": "2025-03-30T12:01:28.168683Z",
     "iopub.status.idle": "2025-03-30T12:01:28.173294Z",
     "shell.execute_reply": "2025-03-30T12:01:28.172235Z"
    },
    "executionInfo": {
     "elapsed": 6,
     "status": "ok",
     "timestamp": 1743262959780,
     "user": {
      "displayName": "Ishit Gehlot",
      "userId": "01473306695467736694"
     },
     "user_tz": -330
    },
    "id": "KtVXnBHepi0b",
    "papermill": {
     "duration": 0.038052,
     "end_time": "2025-03-30T12:01:28.175074",
     "exception": false,
     "start_time": "2025-03-30T12:01:28.137022",
     "status": "completed"
    },
    "tags": []
   },
   "outputs": [],
   "source": [
    "estims = [('clf1', dt), ('clf2', gb), ('clf3', lr)]"
   ]
  },
  {
   "cell_type": "code",
   "execution_count": 45,
   "id": "8209dd3f",
   "metadata": {
    "execution": {
     "iopub.execute_input": "2025-03-30T12:01:28.238471Z",
     "iopub.status.busy": "2025-03-30T12:01:28.238100Z",
     "iopub.status.idle": "2025-03-30T12:01:28.243055Z",
     "shell.execute_reply": "2025-03-30T12:01:28.242048Z"
    },
    "executionInfo": {
     "elapsed": 66,
     "status": "ok",
     "timestamp": 1743263019507,
     "user": {
      "displayName": "Ishit Gehlot",
      "userId": "01473306695467736694"
     },
     "user_tz": -330
    },
    "id": "gw7P2VU8pT2G",
    "papermill": {
     "duration": 0.039473,
     "end_time": "2025-03-30T12:01:28.244870",
     "exception": false,
     "start_time": "2025-03-30T12:01:28.205397",
     "status": "completed"
    },
    "tags": []
   },
   "outputs": [],
   "source": [
    "vote_pipe = Pipeline([\n",
    "    ('smote', SMOTE(sampling_strategy='auto', random_state=42)),\n",
    "    ('scaler', MinMaxScaler()),\n",
    "    ('model', VotingClassifier(estimators= estims, voting='soft'))\n",
    "])"
   ]
  },
  {
   "cell_type": "code",
   "execution_count": 46,
   "id": "fa5b1d5a",
   "metadata": {
    "execution": {
     "iopub.execute_input": "2025-03-30T12:01:28.315352Z",
     "iopub.status.busy": "2025-03-30T12:01:28.315003Z",
     "iopub.status.idle": "2025-03-30T12:01:29.007597Z",
     "shell.execute_reply": "2025-03-30T12:01:29.006318Z"
    },
    "executionInfo": {
     "elapsed": 850,
     "status": "ok",
     "timestamp": 1743263023886,
     "user": {
      "displayName": "Ishit Gehlot",
      "userId": "01473306695467736694"
     },
     "user_tz": -330
    },
    "id": "GkuinvSrp8Xd",
    "outputId": "843c74e4-9d25-4f40-c3c2-026eb7e1891f",
    "papermill": {
     "duration": 0.734097,
     "end_time": "2025-03-30T12:01:29.009604",
     "exception": false,
     "start_time": "2025-03-30T12:01:28.275507",
     "status": "completed"
    },
    "tags": []
   },
   "outputs": [
    {
     "data": {
      "text/html": [
       "<style>#sk-container-id-3 {color: black;background-color: white;}#sk-container-id-3 pre{padding: 0;}#sk-container-id-3 div.sk-toggleable {background-color: white;}#sk-container-id-3 label.sk-toggleable__label {cursor: pointer;display: block;width: 100%;margin-bottom: 0;padding: 0.3em;box-sizing: border-box;text-align: center;}#sk-container-id-3 label.sk-toggleable__label-arrow:before {content: \"▸\";float: left;margin-right: 0.25em;color: #696969;}#sk-container-id-3 label.sk-toggleable__label-arrow:hover:before {color: black;}#sk-container-id-3 div.sk-estimator:hover label.sk-toggleable__label-arrow:before {color: black;}#sk-container-id-3 div.sk-toggleable__content {max-height: 0;max-width: 0;overflow: hidden;text-align: left;background-color: #f0f8ff;}#sk-container-id-3 div.sk-toggleable__content pre {margin: 0.2em;color: black;border-radius: 0.25em;background-color: #f0f8ff;}#sk-container-id-3 input.sk-toggleable__control:checked~div.sk-toggleable__content {max-height: 200px;max-width: 100%;overflow: auto;}#sk-container-id-3 input.sk-toggleable__control:checked~label.sk-toggleable__label-arrow:before {content: \"▾\";}#sk-container-id-3 div.sk-estimator input.sk-toggleable__control:checked~label.sk-toggleable__label {background-color: #d4ebff;}#sk-container-id-3 div.sk-label input.sk-toggleable__control:checked~label.sk-toggleable__label {background-color: #d4ebff;}#sk-container-id-3 input.sk-hidden--visually {border: 0;clip: rect(1px 1px 1px 1px);clip: rect(1px, 1px, 1px, 1px);height: 1px;margin: -1px;overflow: hidden;padding: 0;position: absolute;width: 1px;}#sk-container-id-3 div.sk-estimator {font-family: monospace;background-color: #f0f8ff;border: 1px dotted black;border-radius: 0.25em;box-sizing: border-box;margin-bottom: 0.5em;}#sk-container-id-3 div.sk-estimator:hover {background-color: #d4ebff;}#sk-container-id-3 div.sk-parallel-item::after {content: \"\";width: 100%;border-bottom: 1px solid gray;flex-grow: 1;}#sk-container-id-3 div.sk-label:hover label.sk-toggleable__label {background-color: #d4ebff;}#sk-container-id-3 div.sk-serial::before {content: \"\";position: absolute;border-left: 1px solid gray;box-sizing: border-box;top: 0;bottom: 0;left: 50%;z-index: 0;}#sk-container-id-3 div.sk-serial {display: flex;flex-direction: column;align-items: center;background-color: white;padding-right: 0.2em;padding-left: 0.2em;position: relative;}#sk-container-id-3 div.sk-item {position: relative;z-index: 1;}#sk-container-id-3 div.sk-parallel {display: flex;align-items: stretch;justify-content: center;background-color: white;position: relative;}#sk-container-id-3 div.sk-item::before, #sk-container-id-3 div.sk-parallel-item::before {content: \"\";position: absolute;border-left: 1px solid gray;box-sizing: border-box;top: 0;bottom: 0;left: 50%;z-index: -1;}#sk-container-id-3 div.sk-parallel-item {display: flex;flex-direction: column;z-index: 1;position: relative;background-color: white;}#sk-container-id-3 div.sk-parallel-item:first-child::after {align-self: flex-end;width: 50%;}#sk-container-id-3 div.sk-parallel-item:last-child::after {align-self: flex-start;width: 50%;}#sk-container-id-3 div.sk-parallel-item:only-child::after {width: 0;}#sk-container-id-3 div.sk-dashed-wrapped {border: 1px dashed gray;margin: 0 0.4em 0.5em 0.4em;box-sizing: border-box;padding-bottom: 0.4em;background-color: white;}#sk-container-id-3 div.sk-label label {font-family: monospace;font-weight: bold;display: inline-block;line-height: 1.2em;}#sk-container-id-3 div.sk-label-container {text-align: center;}#sk-container-id-3 div.sk-container {/* jupyter's `normalize.less` sets `[hidden] { display: none; }` but bootstrap.min.css set `[hidden] { display: none !important; }` so we also need the `!important` here to be able to override the default hidden behavior on the sphinx rendered scikit-learn.org. See: https://github.com/scikit-learn/scikit-learn/issues/21755 */display: inline-block !important;position: relative;}#sk-container-id-3 div.sk-text-repr-fallback {display: none;}</style><div id=\"sk-container-id-3\" class=\"sk-top-container\"><div class=\"sk-text-repr-fallback\"><pre>Pipeline(steps=[(&#x27;smote&#x27;, SMOTE(random_state=42)), (&#x27;scaler&#x27;, MinMaxScaler()),\n",
       "                (&#x27;model&#x27;,\n",
       "                 VotingClassifier(estimators=[(&#x27;clf1&#x27;,\n",
       "                                               DecisionTreeClassifier(max_depth=4)),\n",
       "                                              (&#x27;clf2&#x27;,\n",
       "                                               GradientBoostingClassifier(n_estimators=50)),\n",
       "                                              (&#x27;clf3&#x27;, LogisticRegression())],\n",
       "                                  voting=&#x27;soft&#x27;))])</pre><b>In a Jupyter environment, please rerun this cell to show the HTML representation or trust the notebook. <br />On GitHub, the HTML representation is unable to render, please try loading this page with nbviewer.org.</b></div><div class=\"sk-container\" hidden><div class=\"sk-item sk-dashed-wrapped\"><div class=\"sk-label-container\"><div class=\"sk-label sk-toggleable\"><input class=\"sk-toggleable__control sk-hidden--visually\" id=\"sk-estimator-id-8\" type=\"checkbox\" ><label for=\"sk-estimator-id-8\" class=\"sk-toggleable__label sk-toggleable__label-arrow\">Pipeline</label><div class=\"sk-toggleable__content\"><pre>Pipeline(steps=[(&#x27;smote&#x27;, SMOTE(random_state=42)), (&#x27;scaler&#x27;, MinMaxScaler()),\n",
       "                (&#x27;model&#x27;,\n",
       "                 VotingClassifier(estimators=[(&#x27;clf1&#x27;,\n",
       "                                               DecisionTreeClassifier(max_depth=4)),\n",
       "                                              (&#x27;clf2&#x27;,\n",
       "                                               GradientBoostingClassifier(n_estimators=50)),\n",
       "                                              (&#x27;clf3&#x27;, LogisticRegression())],\n",
       "                                  voting=&#x27;soft&#x27;))])</pre></div></div></div><div class=\"sk-serial\"><div class=\"sk-item\"><div class=\"sk-estimator sk-toggleable\"><input class=\"sk-toggleable__control sk-hidden--visually\" id=\"sk-estimator-id-9\" type=\"checkbox\" ><label for=\"sk-estimator-id-9\" class=\"sk-toggleable__label sk-toggleable__label-arrow\">SMOTE</label><div class=\"sk-toggleable__content\"><pre>SMOTE(random_state=42)</pre></div></div></div><div class=\"sk-item\"><div class=\"sk-estimator sk-toggleable\"><input class=\"sk-toggleable__control sk-hidden--visually\" id=\"sk-estimator-id-10\" type=\"checkbox\" ><label for=\"sk-estimator-id-10\" class=\"sk-toggleable__label sk-toggleable__label-arrow\">MinMaxScaler</label><div class=\"sk-toggleable__content\"><pre>MinMaxScaler()</pre></div></div></div><div class=\"sk-item sk-dashed-wrapped\"><div class=\"sk-label-container\"><div class=\"sk-label sk-toggleable\"><input class=\"sk-toggleable__control sk-hidden--visually\" id=\"sk-estimator-id-11\" type=\"checkbox\" ><label for=\"sk-estimator-id-11\" class=\"sk-toggleable__label sk-toggleable__label-arrow\">model: VotingClassifier</label><div class=\"sk-toggleable__content\"><pre>VotingClassifier(estimators=[(&#x27;clf1&#x27;, DecisionTreeClassifier(max_depth=4)),\n",
       "                             (&#x27;clf2&#x27;,\n",
       "                              GradientBoostingClassifier(n_estimators=50)),\n",
       "                             (&#x27;clf3&#x27;, LogisticRegression())],\n",
       "                 voting=&#x27;soft&#x27;)</pre></div></div></div><div class=\"sk-parallel\"><div class=\"sk-parallel-item\"><div class=\"sk-item\"><div class=\"sk-label-container\"><div class=\"sk-label sk-toggleable\"><label>clf1</label></div></div><div class=\"sk-serial\"><div class=\"sk-item\"><div class=\"sk-estimator sk-toggleable\"><input class=\"sk-toggleable__control sk-hidden--visually\" id=\"sk-estimator-id-12\" type=\"checkbox\" ><label for=\"sk-estimator-id-12\" class=\"sk-toggleable__label sk-toggleable__label-arrow\">DecisionTreeClassifier</label><div class=\"sk-toggleable__content\"><pre>DecisionTreeClassifier(max_depth=4)</pre></div></div></div></div></div></div><div class=\"sk-parallel-item\"><div class=\"sk-item\"><div class=\"sk-label-container\"><div class=\"sk-label sk-toggleable\"><label>clf2</label></div></div><div class=\"sk-serial\"><div class=\"sk-item\"><div class=\"sk-estimator sk-toggleable\"><input class=\"sk-toggleable__control sk-hidden--visually\" id=\"sk-estimator-id-13\" type=\"checkbox\" ><label for=\"sk-estimator-id-13\" class=\"sk-toggleable__label sk-toggleable__label-arrow\">GradientBoostingClassifier</label><div class=\"sk-toggleable__content\"><pre>GradientBoostingClassifier(n_estimators=50)</pre></div></div></div></div></div></div><div class=\"sk-parallel-item\"><div class=\"sk-item\"><div class=\"sk-label-container\"><div class=\"sk-label sk-toggleable\"><label>clf3</label></div></div><div class=\"sk-serial\"><div class=\"sk-item\"><div class=\"sk-estimator sk-toggleable\"><input class=\"sk-toggleable__control sk-hidden--visually\" id=\"sk-estimator-id-14\" type=\"checkbox\" ><label for=\"sk-estimator-id-14\" class=\"sk-toggleable__label sk-toggleable__label-arrow\">LogisticRegression</label><div class=\"sk-toggleable__content\"><pre>LogisticRegression()</pre></div></div></div></div></div></div></div></div></div></div></div></div>"
      ],
      "text/plain": [
       "Pipeline(steps=[('smote', SMOTE(random_state=42)), ('scaler', MinMaxScaler()),\n",
       "                ('model',\n",
       "                 VotingClassifier(estimators=[('clf1',\n",
       "                                               DecisionTreeClassifier(max_depth=4)),\n",
       "                                              ('clf2',\n",
       "                                               GradientBoostingClassifier(n_estimators=50)),\n",
       "                                              ('clf3', LogisticRegression())],\n",
       "                                  voting='soft'))])"
      ]
     },
     "execution_count": 46,
     "metadata": {},
     "output_type": "execute_result"
    }
   ],
   "source": [
    "vote_pipe.fit(x_train, y_train)"
   ]
  },
  {
   "cell_type": "code",
   "execution_count": 47,
   "id": "3e26ba0e",
   "metadata": {
    "execution": {
     "iopub.execute_input": "2025-03-30T12:01:29.074886Z",
     "iopub.status.busy": "2025-03-30T12:01:29.074504Z",
     "iopub.status.idle": "2025-03-30T12:01:29.082871Z",
     "shell.execute_reply": "2025-03-30T12:01:29.081698Z"
    },
    "executionInfo": {
     "elapsed": 7,
     "status": "ok",
     "timestamp": 1743263029886,
     "user": {
      "displayName": "Ishit Gehlot",
      "userId": "01473306695467736694"
     },
     "user_tz": -330
    },
    "id": "YJ_RUyBlqBdv",
    "papermill": {
     "duration": 0.042181,
     "end_time": "2025-03-30T12:01:29.084712",
     "exception": false,
     "start_time": "2025-03-30T12:01:29.042531",
     "status": "completed"
    },
    "tags": []
   },
   "outputs": [],
   "source": [
    "vote_preds = vote_pipe.predict_proba(x_test)[:,1]"
   ]
  },
  {
   "cell_type": "code",
   "execution_count": 48,
   "id": "70f8c5ea",
   "metadata": {
    "execution": {
     "iopub.execute_input": "2025-03-30T12:01:29.148624Z",
     "iopub.status.busy": "2025-03-30T12:01:29.148268Z",
     "iopub.status.idle": "2025-03-30T12:01:29.158014Z",
     "shell.execute_reply": "2025-03-30T12:01:29.156728Z"
    },
    "executionInfo": {
     "elapsed": 24,
     "status": "ok",
     "timestamp": 1743263032404,
     "user": {
      "displayName": "Ishit Gehlot",
      "userId": "01473306695467736694"
     },
     "user_tz": -330
    },
    "id": "uSWnAAInrjmp",
    "outputId": "4ca606c4-fa14-42fe-9f53-5f367d600f0c",
    "papermill": {
     "duration": 0.043482,
     "end_time": "2025-03-30T12:01:29.159815",
     "exception": false,
     "start_time": "2025-03-30T12:01:29.116333",
     "status": "completed"
    },
    "tags": []
   },
   "outputs": [
    {
     "data": {
      "text/plain": [
       "0.8775585469297437"
      ]
     },
     "execution_count": 48,
     "metadata": {},
     "output_type": "execute_result"
    }
   ],
   "source": [
    "roc_auc_score(y_test, vote_preds)"
   ]
  },
  {
   "cell_type": "markdown",
   "id": "6792c5d6",
   "metadata": {
    "id": "4Ik84Gep8d-R",
    "papermill": {
     "duration": 0.031186,
     "end_time": "2025-03-30T12:01:29.221953",
     "exception": false,
     "start_time": "2025-03-30T12:01:29.190767",
     "status": "completed"
    },
    "tags": []
   },
   "source": [
    "# **Using Stacking**"
   ]
  },
  {
   "cell_type": "code",
   "execution_count": 49,
   "id": "57ff42c1",
   "metadata": {
    "execution": {
     "iopub.execute_input": "2025-03-30T12:01:29.285892Z",
     "iopub.status.busy": "2025-03-30T12:01:29.285494Z",
     "iopub.status.idle": "2025-03-30T12:01:29.290923Z",
     "shell.execute_reply": "2025-03-30T12:01:29.289306Z"
    },
    "executionInfo": {
     "elapsed": 10,
     "status": "ok",
     "timestamp": 1743263161597,
     "user": {
      "displayName": "Ishit Gehlot",
      "userId": "01473306695467736694"
     },
     "user_tz": -330
    },
    "id": "QhukEAwk8hZ2",
    "papermill": {
     "duration": 0.039618,
     "end_time": "2025-03-30T12:01:29.292985",
     "exception": false,
     "start_time": "2025-03-30T12:01:29.253367",
     "status": "completed"
    },
    "tags": []
   },
   "outputs": [],
   "source": [
    "stack_estims = [('clf1',lr ), ('clf2', dt), ('clf3',rf )]"
   ]
  },
  {
   "cell_type": "code",
   "execution_count": 50,
   "id": "c750017c",
   "metadata": {
    "execution": {
     "iopub.execute_input": "2025-03-30T12:01:29.358478Z",
     "iopub.status.busy": "2025-03-30T12:01:29.358114Z",
     "iopub.status.idle": "2025-03-30T12:01:29.363162Z",
     "shell.execute_reply": "2025-03-30T12:01:29.361919Z"
    },
    "executionInfo": {
     "elapsed": 40,
     "status": "ok",
     "timestamp": 1743263163049,
     "user": {
      "displayName": "Ishit Gehlot",
      "userId": "01473306695467736694"
     },
     "user_tz": -330
    },
    "id": "YXGoyzA48hhV",
    "papermill": {
     "duration": 0.039731,
     "end_time": "2025-03-30T12:01:29.364952",
     "exception": false,
     "start_time": "2025-03-30T12:01:29.325221",
     "status": "completed"
    },
    "tags": []
   },
   "outputs": [],
   "source": [
    "stack_pipe = Pipeline([\n",
    "    ('smote', SMOTE(sampling_strategy='auto', random_state=42)),\n",
    "    ('scaler', MinMaxScaler()),\n",
    "    ('model', StackingClassifier(estimators=stack_estims, final_estimator=gb, stack_method='predict_proba', cv = 10))\n",
    "])"
   ]
  },
  {
   "cell_type": "code",
   "execution_count": 51,
   "id": "b22d723d",
   "metadata": {
    "execution": {
     "iopub.execute_input": "2025-03-30T12:01:29.427981Z",
     "iopub.status.busy": "2025-03-30T12:01:29.427569Z",
     "iopub.status.idle": "2025-03-30T12:01:32.997549Z",
     "shell.execute_reply": "2025-03-30T12:01:32.996329Z"
    },
    "executionInfo": {
     "elapsed": 3976,
     "status": "ok",
     "timestamp": 1743263169160,
     "user": {
      "displayName": "Ishit Gehlot",
      "userId": "01473306695467736694"
     },
     "user_tz": -330
    },
    "id": "QX4ZDaV08hm8",
    "outputId": "86aa1ccf-3201-49b6-f739-d42830d36b15",
    "papermill": {
     "duration": 3.604127,
     "end_time": "2025-03-30T12:01:32.999751",
     "exception": false,
     "start_time": "2025-03-30T12:01:29.395624",
     "status": "completed"
    },
    "tags": []
   },
   "outputs": [
    {
     "data": {
      "text/html": [
       "<style>#sk-container-id-4 {color: black;background-color: white;}#sk-container-id-4 pre{padding: 0;}#sk-container-id-4 div.sk-toggleable {background-color: white;}#sk-container-id-4 label.sk-toggleable__label {cursor: pointer;display: block;width: 100%;margin-bottom: 0;padding: 0.3em;box-sizing: border-box;text-align: center;}#sk-container-id-4 label.sk-toggleable__label-arrow:before {content: \"▸\";float: left;margin-right: 0.25em;color: #696969;}#sk-container-id-4 label.sk-toggleable__label-arrow:hover:before {color: black;}#sk-container-id-4 div.sk-estimator:hover label.sk-toggleable__label-arrow:before {color: black;}#sk-container-id-4 div.sk-toggleable__content {max-height: 0;max-width: 0;overflow: hidden;text-align: left;background-color: #f0f8ff;}#sk-container-id-4 div.sk-toggleable__content pre {margin: 0.2em;color: black;border-radius: 0.25em;background-color: #f0f8ff;}#sk-container-id-4 input.sk-toggleable__control:checked~div.sk-toggleable__content {max-height: 200px;max-width: 100%;overflow: auto;}#sk-container-id-4 input.sk-toggleable__control:checked~label.sk-toggleable__label-arrow:before {content: \"▾\";}#sk-container-id-4 div.sk-estimator input.sk-toggleable__control:checked~label.sk-toggleable__label {background-color: #d4ebff;}#sk-container-id-4 div.sk-label input.sk-toggleable__control:checked~label.sk-toggleable__label {background-color: #d4ebff;}#sk-container-id-4 input.sk-hidden--visually {border: 0;clip: rect(1px 1px 1px 1px);clip: rect(1px, 1px, 1px, 1px);height: 1px;margin: -1px;overflow: hidden;padding: 0;position: absolute;width: 1px;}#sk-container-id-4 div.sk-estimator {font-family: monospace;background-color: #f0f8ff;border: 1px dotted black;border-radius: 0.25em;box-sizing: border-box;margin-bottom: 0.5em;}#sk-container-id-4 div.sk-estimator:hover {background-color: #d4ebff;}#sk-container-id-4 div.sk-parallel-item::after {content: \"\";width: 100%;border-bottom: 1px solid gray;flex-grow: 1;}#sk-container-id-4 div.sk-label:hover label.sk-toggleable__label {background-color: #d4ebff;}#sk-container-id-4 div.sk-serial::before {content: \"\";position: absolute;border-left: 1px solid gray;box-sizing: border-box;top: 0;bottom: 0;left: 50%;z-index: 0;}#sk-container-id-4 div.sk-serial {display: flex;flex-direction: column;align-items: center;background-color: white;padding-right: 0.2em;padding-left: 0.2em;position: relative;}#sk-container-id-4 div.sk-item {position: relative;z-index: 1;}#sk-container-id-4 div.sk-parallel {display: flex;align-items: stretch;justify-content: center;background-color: white;position: relative;}#sk-container-id-4 div.sk-item::before, #sk-container-id-4 div.sk-parallel-item::before {content: \"\";position: absolute;border-left: 1px solid gray;box-sizing: border-box;top: 0;bottom: 0;left: 50%;z-index: -1;}#sk-container-id-4 div.sk-parallel-item {display: flex;flex-direction: column;z-index: 1;position: relative;background-color: white;}#sk-container-id-4 div.sk-parallel-item:first-child::after {align-self: flex-end;width: 50%;}#sk-container-id-4 div.sk-parallel-item:last-child::after {align-self: flex-start;width: 50%;}#sk-container-id-4 div.sk-parallel-item:only-child::after {width: 0;}#sk-container-id-4 div.sk-dashed-wrapped {border: 1px dashed gray;margin: 0 0.4em 0.5em 0.4em;box-sizing: border-box;padding-bottom: 0.4em;background-color: white;}#sk-container-id-4 div.sk-label label {font-family: monospace;font-weight: bold;display: inline-block;line-height: 1.2em;}#sk-container-id-4 div.sk-label-container {text-align: center;}#sk-container-id-4 div.sk-container {/* jupyter's `normalize.less` sets `[hidden] { display: none; }` but bootstrap.min.css set `[hidden] { display: none !important; }` so we also need the `!important` here to be able to override the default hidden behavior on the sphinx rendered scikit-learn.org. See: https://github.com/scikit-learn/scikit-learn/issues/21755 */display: inline-block !important;position: relative;}#sk-container-id-4 div.sk-text-repr-fallback {display: none;}</style><div id=\"sk-container-id-4\" class=\"sk-top-container\"><div class=\"sk-text-repr-fallback\"><pre>Pipeline(steps=[(&#x27;smote&#x27;, SMOTE(random_state=42)), (&#x27;scaler&#x27;, MinMaxScaler()),\n",
       "                (&#x27;model&#x27;,\n",
       "                 StackingClassifier(cv=10,\n",
       "                                    estimators=[(&#x27;clf1&#x27;, LogisticRegression()),\n",
       "                                                (&#x27;clf2&#x27;,\n",
       "                                                 DecisionTreeClassifier(max_depth=4)),\n",
       "                                                (&#x27;clf3&#x27;,\n",
       "                                                 RandomForestClassifier(max_depth=4,\n",
       "                                                                        n_estimators=60))],\n",
       "                                    final_estimator=GradientBoostingClassifier(n_estimators=50),\n",
       "                                    stack_method=&#x27;predict_proba&#x27;))])</pre><b>In a Jupyter environment, please rerun this cell to show the HTML representation or trust the notebook. <br />On GitHub, the HTML representation is unable to render, please try loading this page with nbviewer.org.</b></div><div class=\"sk-container\" hidden><div class=\"sk-item sk-dashed-wrapped\"><div class=\"sk-label-container\"><div class=\"sk-label sk-toggleable\"><input class=\"sk-toggleable__control sk-hidden--visually\" id=\"sk-estimator-id-15\" type=\"checkbox\" ><label for=\"sk-estimator-id-15\" class=\"sk-toggleable__label sk-toggleable__label-arrow\">Pipeline</label><div class=\"sk-toggleable__content\"><pre>Pipeline(steps=[(&#x27;smote&#x27;, SMOTE(random_state=42)), (&#x27;scaler&#x27;, MinMaxScaler()),\n",
       "                (&#x27;model&#x27;,\n",
       "                 StackingClassifier(cv=10,\n",
       "                                    estimators=[(&#x27;clf1&#x27;, LogisticRegression()),\n",
       "                                                (&#x27;clf2&#x27;,\n",
       "                                                 DecisionTreeClassifier(max_depth=4)),\n",
       "                                                (&#x27;clf3&#x27;,\n",
       "                                                 RandomForestClassifier(max_depth=4,\n",
       "                                                                        n_estimators=60))],\n",
       "                                    final_estimator=GradientBoostingClassifier(n_estimators=50),\n",
       "                                    stack_method=&#x27;predict_proba&#x27;))])</pre></div></div></div><div class=\"sk-serial\"><div class=\"sk-item\"><div class=\"sk-estimator sk-toggleable\"><input class=\"sk-toggleable__control sk-hidden--visually\" id=\"sk-estimator-id-16\" type=\"checkbox\" ><label for=\"sk-estimator-id-16\" class=\"sk-toggleable__label sk-toggleable__label-arrow\">SMOTE</label><div class=\"sk-toggleable__content\"><pre>SMOTE(random_state=42)</pre></div></div></div><div class=\"sk-item\"><div class=\"sk-estimator sk-toggleable\"><input class=\"sk-toggleable__control sk-hidden--visually\" id=\"sk-estimator-id-17\" type=\"checkbox\" ><label for=\"sk-estimator-id-17\" class=\"sk-toggleable__label sk-toggleable__label-arrow\">MinMaxScaler</label><div class=\"sk-toggleable__content\"><pre>MinMaxScaler()</pre></div></div></div><div class=\"sk-item\"><div class=\"sk-label-container\"><div class=\"sk-label sk-toggleable\"><input class=\"sk-toggleable__control sk-hidden--visually\" id=\"sk-estimator-id-18\" type=\"checkbox\" ><label for=\"sk-estimator-id-18\" class=\"sk-toggleable__label sk-toggleable__label-arrow\">model: StackingClassifier</label><div class=\"sk-toggleable__content\"><pre>StackingClassifier(cv=10,\n",
       "                   estimators=[(&#x27;clf1&#x27;, LogisticRegression()),\n",
       "                               (&#x27;clf2&#x27;, DecisionTreeClassifier(max_depth=4)),\n",
       "                               (&#x27;clf3&#x27;,\n",
       "                                RandomForestClassifier(max_depth=4,\n",
       "                                                       n_estimators=60))],\n",
       "                   final_estimator=GradientBoostingClassifier(n_estimators=50),\n",
       "                   stack_method=&#x27;predict_proba&#x27;)</pre></div></div></div><div class=\"sk-serial\"><div class=\"sk-item\"><div class=\"sk-parallel\"><div class=\"sk-parallel-item\"><div class=\"sk-item\"><div class=\"sk-label-container\"><div class=\"sk-label sk-toggleable\"><label>clf1</label></div></div><div class=\"sk-serial\"><div class=\"sk-item\"><div class=\"sk-estimator sk-toggleable\"><input class=\"sk-toggleable__control sk-hidden--visually\" id=\"sk-estimator-id-19\" type=\"checkbox\" ><label for=\"sk-estimator-id-19\" class=\"sk-toggleable__label sk-toggleable__label-arrow\">LogisticRegression</label><div class=\"sk-toggleable__content\"><pre>LogisticRegression()</pre></div></div></div></div></div></div><div class=\"sk-parallel-item\"><div class=\"sk-item\"><div class=\"sk-label-container\"><div class=\"sk-label sk-toggleable\"><label>clf2</label></div></div><div class=\"sk-serial\"><div class=\"sk-item\"><div class=\"sk-estimator sk-toggleable\"><input class=\"sk-toggleable__control sk-hidden--visually\" id=\"sk-estimator-id-20\" type=\"checkbox\" ><label for=\"sk-estimator-id-20\" class=\"sk-toggleable__label sk-toggleable__label-arrow\">DecisionTreeClassifier</label><div class=\"sk-toggleable__content\"><pre>DecisionTreeClassifier(max_depth=4)</pre></div></div></div></div></div></div><div class=\"sk-parallel-item\"><div class=\"sk-item\"><div class=\"sk-label-container\"><div class=\"sk-label sk-toggleable\"><label>clf3</label></div></div><div class=\"sk-serial\"><div class=\"sk-item\"><div class=\"sk-estimator sk-toggleable\"><input class=\"sk-toggleable__control sk-hidden--visually\" id=\"sk-estimator-id-21\" type=\"checkbox\" ><label for=\"sk-estimator-id-21\" class=\"sk-toggleable__label sk-toggleable__label-arrow\">RandomForestClassifier</label><div class=\"sk-toggleable__content\"><pre>RandomForestClassifier(max_depth=4, n_estimators=60)</pre></div></div></div></div></div></div></div></div><div class=\"sk-item\"><div class=\"sk-parallel\"><div class=\"sk-parallel-item\"><div class=\"sk-item\"><div class=\"sk-label-container\"><div class=\"sk-label sk-toggleable\"><label>final_estimator</label></div></div><div class=\"sk-serial\"><div class=\"sk-item\"><div class=\"sk-estimator sk-toggleable\"><input class=\"sk-toggleable__control sk-hidden--visually\" id=\"sk-estimator-id-22\" type=\"checkbox\" ><label for=\"sk-estimator-id-22\" class=\"sk-toggleable__label sk-toggleable__label-arrow\">GradientBoostingClassifier</label><div class=\"sk-toggleable__content\"><pre>GradientBoostingClassifier(n_estimators=50)</pre></div></div></div></div></div></div></div></div></div></div></div></div></div></div>"
      ],
      "text/plain": [
       "Pipeline(steps=[('smote', SMOTE(random_state=42)), ('scaler', MinMaxScaler()),\n",
       "                ('model',\n",
       "                 StackingClassifier(cv=10,\n",
       "                                    estimators=[('clf1', LogisticRegression()),\n",
       "                                                ('clf2',\n",
       "                                                 DecisionTreeClassifier(max_depth=4)),\n",
       "                                                ('clf3',\n",
       "                                                 RandomForestClassifier(max_depth=4,\n",
       "                                                                        n_estimators=60))],\n",
       "                                    final_estimator=GradientBoostingClassifier(n_estimators=50),\n",
       "                                    stack_method='predict_proba'))])"
      ]
     },
     "execution_count": 51,
     "metadata": {},
     "output_type": "execute_result"
    }
   ],
   "source": [
    "stack_pipe.fit(x_train, y_train)"
   ]
  },
  {
   "cell_type": "code",
   "execution_count": 52,
   "id": "6a764749",
   "metadata": {
    "execution": {
     "iopub.execute_input": "2025-03-30T12:01:33.068907Z",
     "iopub.status.busy": "2025-03-30T12:01:33.068512Z",
     "iopub.status.idle": "2025-03-30T12:01:33.082671Z",
     "shell.execute_reply": "2025-03-30T12:01:33.081664Z"
    },
    "executionInfo": {
     "elapsed": 20,
     "status": "ok",
     "timestamp": 1743263169166,
     "user": {
      "displayName": "Ishit Gehlot",
      "userId": "01473306695467736694"
     },
     "user_tz": -330
    },
    "id": "X3IfObbT8hr8",
    "papermill": {
     "duration": 0.050699,
     "end_time": "2025-03-30T12:01:33.084431",
     "exception": false,
     "start_time": "2025-03-30T12:01:33.033732",
     "status": "completed"
    },
    "tags": []
   },
   "outputs": [],
   "source": [
    "stack_pred = stack_pipe.predict_proba(x_test)[:,1]"
   ]
  },
  {
   "cell_type": "code",
   "execution_count": 53,
   "id": "32a50848",
   "metadata": {
    "execution": {
     "iopub.execute_input": "2025-03-30T12:01:33.149303Z",
     "iopub.status.busy": "2025-03-30T12:01:33.148906Z",
     "iopub.status.idle": "2025-03-30T12:01:33.158901Z",
     "shell.execute_reply": "2025-03-30T12:01:33.157762Z"
    },
    "executionInfo": {
     "elapsed": 37,
     "status": "ok",
     "timestamp": 1743263169209,
     "user": {
      "displayName": "Ishit Gehlot",
      "userId": "01473306695467736694"
     },
     "user_tz": -330
    },
    "id": "Yh8QFSc08hwi",
    "outputId": "c3387eee-77be-4c4f-b038-4d0b7c3b4545",
    "papermill": {
     "duration": 0.044984,
     "end_time": "2025-03-30T12:01:33.160866",
     "exception": false,
     "start_time": "2025-03-30T12:01:33.115882",
     "status": "completed"
    },
    "tags": []
   },
   "outputs": [
    {
     "data": {
      "text/plain": [
       "0.8684966149469193"
      ]
     },
     "execution_count": 53,
     "metadata": {},
     "output_type": "execute_result"
    }
   ],
   "source": [
    "roc_auc_score(y_test, stack_pred)"
   ]
  },
  {
   "cell_type": "code",
   "execution_count": 54,
   "id": "1ebb1875",
   "metadata": {
    "execution": {
     "iopub.execute_input": "2025-03-30T12:01:33.225587Z",
     "iopub.status.busy": "2025-03-30T12:01:33.225173Z",
     "iopub.status.idle": "2025-03-30T12:01:33.231773Z",
     "shell.execute_reply": "2025-03-30T12:01:33.230549Z"
    },
    "papermill": {
     "duration": 0.041309,
     "end_time": "2025-03-30T12:01:33.233591",
     "exception": false,
     "start_time": "2025-03-30T12:01:33.192282",
     "status": "completed"
    },
    "tags": []
   },
   "outputs": [],
   "source": [
    "test['winddirection'] = test['winddirection'].fillna(test['winddirection'].mean())"
   ]
  },
  {
   "cell_type": "code",
   "execution_count": 55,
   "id": "94051242",
   "metadata": {
    "execution": {
     "iopub.execute_input": "2025-03-30T12:01:33.299265Z",
     "iopub.status.busy": "2025-03-30T12:01:33.298878Z",
     "iopub.status.idle": "2025-03-30T12:01:33.308266Z",
     "shell.execute_reply": "2025-03-30T12:01:33.307310Z"
    },
    "papermill": {
     "duration": 0.044437,
     "end_time": "2025-03-30T12:01:33.310142",
     "exception": false,
     "start_time": "2025-03-30T12:01:33.265705",
     "status": "completed"
    },
    "tags": []
   },
   "outputs": [],
   "source": [
    "pred = vote_pipe.predict_proba(test)[:, 1]"
   ]
  },
  {
   "cell_type": "code",
   "execution_count": 56,
   "id": "3dbaa527",
   "metadata": {
    "execution": {
     "iopub.execute_input": "2025-03-30T12:01:33.373591Z",
     "iopub.status.busy": "2025-03-30T12:01:33.373184Z",
     "iopub.status.idle": "2025-03-30T12:01:33.377985Z",
     "shell.execute_reply": "2025-03-30T12:01:33.377004Z"
    },
    "papermill": {
     "duration": 0.038242,
     "end_time": "2025-03-30T12:01:33.379626",
     "exception": false,
     "start_time": "2025-03-30T12:01:33.341384",
     "status": "completed"
    },
    "tags": []
   },
   "outputs": [],
   "source": [
    "submission['rainfall'] = pred"
   ]
  },
  {
   "cell_type": "code",
   "execution_count": 57,
   "id": "8c21e147",
   "metadata": {
    "execution": {
     "iopub.execute_input": "2025-03-30T12:01:33.444056Z",
     "iopub.status.busy": "2025-03-30T12:01:33.443647Z",
     "iopub.status.idle": "2025-03-30T12:01:33.456922Z",
     "shell.execute_reply": "2025-03-30T12:01:33.455558Z"
    },
    "papermill": {
     "duration": 0.047243,
     "end_time": "2025-03-30T12:01:33.458710",
     "exception": false,
     "start_time": "2025-03-30T12:01:33.411467",
     "status": "completed"
    },
    "tags": []
   },
   "outputs": [
    {
     "name": "stdout",
     "output_type": "stream",
     "text": [
      "success!\n"
     ]
    }
   ],
   "source": [
    "submission.to_csv('submission.csv', index = False)\n",
    "print('success!')"
   ]
  },
  {
   "cell_type": "markdown",
   "id": "c5ca7e37",
   "metadata": {
    "papermill": {
     "duration": 0.031316,
     "end_time": "2025-03-30T12:01:33.522036",
     "exception": false,
     "start_time": "2025-03-30T12:01:33.490720",
     "status": "completed"
    },
    "tags": []
   },
   "source": []
  }
 ],
 "metadata": {
  "colab": {
   "authorship_tag": "ABX9TyP+UP7vMMcyhv/9pqFWyQut",
   "mount_file_id": "1nDmiAeBWzMur7ScBKWEHi4EkftrpSmjy",
   "provenance": [],
   "toc_visible": true
  },
  "kaggle": {
   "accelerator": "none",
   "dataSources": [
    {
     "databundleVersionId": 11251744,
     "sourceId": 91714,
     "sourceType": "competition"
    }
   ],
   "dockerImageVersionId": 30918,
   "isGpuEnabled": false,
   "isInternetEnabled": true,
   "language": "python",
   "sourceType": "notebook"
  },
  "kernelspec": {
   "display_name": "Python 3",
   "language": "python",
   "name": "python3"
  },
  "language_info": {
   "codemirror_mode": {
    "name": "ipython",
    "version": 3
   },
   "file_extension": ".py",
   "mimetype": "text/x-python",
   "name": "python",
   "nbconvert_exporter": "python",
   "pygments_lexer": "ipython3",
   "version": "3.10.12"
  },
  "papermill": {
   "default_parameters": {},
   "duration": 28.526567,
   "end_time": "2025-03-30T12:01:34.476745",
   "environment_variables": {},
   "exception": null,
   "input_path": "__notebook__.ipynb",
   "output_path": "__notebook__.ipynb",
   "parameters": {},
   "start_time": "2025-03-30T12:01:05.950178",
   "version": "2.6.0"
  }
 },
 "nbformat": 4,
 "nbformat_minor": 5
}
