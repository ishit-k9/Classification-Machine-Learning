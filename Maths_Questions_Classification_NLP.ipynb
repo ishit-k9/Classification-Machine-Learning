{
  "cells": [
    {
      "cell_type": "markdown",
      "metadata": {
        "id": "view-in-github",
        "colab_type": "text"
      },
      "source": [
        "<a href=\"https://colab.research.google.com/github/ishit-k9/Classification-Machine-Learning/blob/main/Maths_Questions_Classification_NLP.ipynb\" target=\"_parent\"><img src=\"https://colab.research.google.com/assets/colab-badge.svg\" alt=\"Open In Colab\"/></a>"
      ]
    },
    {
      "cell_type": "markdown",
      "source": [
        "---\n",
        "# **MATHEMATICS QUESTIONS CLASSIFICATION**\n",
        "---\n",
        "\n",
        "* **FRAMING THE PROBLEM**\n",
        "\n",
        "Given a math problem written in natural language, your goal is to predict its correct topic from eight predefined categories. These include algebra, calculus, linear algebra, and more.\n",
        "\n",
        "* **EVALUATION METRICS**\n",
        "\n",
        "f1- score is defined as evaluation metrics for this problem.\n",
        "\n",
        "* **DATA DESCRIPTION**\n",
        "\n",
        "Dataset Description\n",
        "Your task is to classify each Math problem into one of these eight topics using a machine learning or NLP-based approach.\n",
        "\n",
        "Label\tTopic\n",
        "\n",
        "0\tAlgebra\n",
        "\n",
        "1\tGeometry and Trigonometry\n",
        "\n",
        "2\tCalculus and Analysis\n",
        "\n",
        "3\tProbability and Statistics\n",
        "\n",
        "4\tNumber Theory\n",
        "\n",
        "5\tCombinatorics and Discrete Math\n",
        "\n",
        "6\tLinear Algebra\n",
        "\n",
        "7\tAbstract Algebra and Topology"
      ],
      "metadata": {
        "id": "JsLfeqfr12W8"
      }
    },
    {
      "cell_type": "markdown",
      "metadata": {
        "id": "dTG2IUJoDg-l"
      },
      "source": [
        "# **IMPORT LIBRARIES**"
      ]
    },
    {
      "cell_type": "code",
      "execution_count": null,
      "metadata": {
        "colab": {
          "base_uri": "https://localhost:8080/"
        },
        "id": "KRk1YN6ODW5y",
        "outputId": "c1fac0df-95f7-4028-f7a7-06d349c14095"
      },
      "outputs": [
        {
          "output_type": "stream",
          "name": "stderr",
          "text": [
            "[nltk_data] Downloading package stopwords to /root/nltk_data...\n",
            "[nltk_data]   Package stopwords is already up-to-date!\n"
          ]
        }
      ],
      "source": [
        "import numpy as np\n",
        "import pandas as pd\n",
        "import string\n",
        "import re\n",
        "from nltk.corpus import stopwords\n",
        "import nltk\n",
        "nltk.download('stopwords')\n",
        "from nltk.stem.porter import PorterStemmer\n",
        "from sklearn.feature_extraction.text import TfidfVectorizer\n",
        "from imblearn.over_sampling import SMOTE\n",
        "from sklearn.model_selection import train_test_split\n",
        "from sklearn.ensemble import GradientBoostingClassifier, RandomForestClassifier, VotingClassifier, StackingClassifier, AdaBoostClassifier\n",
        "from sklearn.tree import DecisionTreeClassifier\n",
        "from sklearn.linear_model import LogisticRegression\n",
        "from sklearn.naive_bayes import MultinomialNB, GaussianNB, BernoulliNB\n",
        "from sklearn.metrics import f1_score, classification_report\n",
        "from xgboost import XGBClassifier\n",
        "from sklearn.svm import SVC"
      ]
    },
    {
      "cell_type": "code",
      "execution_count": null,
      "metadata": {
        "id": "dMpzevr9Dqs-"
      },
      "outputs": [],
      "source": [
        "train = pd.read_csv('/content/drive/MyDrive/NLP practice datasets/Maths NLP Train.csv')\n",
        "test = pd.read_csv('/content/drive/MyDrive/NLP practice datasets/Maths NLP Test.csv')"
      ]
    },
    {
      "cell_type": "code",
      "execution_count": null,
      "metadata": {
        "colab": {
          "base_uri": "https://localhost:8080/",
          "height": 206
        },
        "id": "yKMJ-zY2D5ai",
        "outputId": "24beb335-0853-4e63-a939-91b3cbb9df42"
      },
      "outputs": [
        {
          "output_type": "execute_result",
          "data": {
            "text/plain": [
              "                                            Question  label\n",
              "0  A solitaire game is played as follows.  Six di...      3\n",
              "1  2. The school table tennis championship was he...      5\n",
              "2  Given that $x, y,$ and $z$ are real numbers th...      0\n",
              "3  $25 \\cdot 22$ Given three distinct points $P\\l...      1\n",
              "4  I am thinking of a five-digit number composed ...      5"
            ],
            "text/html": [
              "\n",
              "  <div id=\"df-9ba08149-c616-4824-9487-777305627894\" class=\"colab-df-container\">\n",
              "    <div>\n",
              "<style scoped>\n",
              "    .dataframe tbody tr th:only-of-type {\n",
              "        vertical-align: middle;\n",
              "    }\n",
              "\n",
              "    .dataframe tbody tr th {\n",
              "        vertical-align: top;\n",
              "    }\n",
              "\n",
              "    .dataframe thead th {\n",
              "        text-align: right;\n",
              "    }\n",
              "</style>\n",
              "<table border=\"1\" class=\"dataframe\">\n",
              "  <thead>\n",
              "    <tr style=\"text-align: right;\">\n",
              "      <th></th>\n",
              "      <th>Question</th>\n",
              "      <th>label</th>\n",
              "    </tr>\n",
              "  </thead>\n",
              "  <tbody>\n",
              "    <tr>\n",
              "      <th>0</th>\n",
              "      <td>A solitaire game is played as follows.  Six di...</td>\n",
              "      <td>3</td>\n",
              "    </tr>\n",
              "    <tr>\n",
              "      <th>1</th>\n",
              "      <td>2. The school table tennis championship was he...</td>\n",
              "      <td>5</td>\n",
              "    </tr>\n",
              "    <tr>\n",
              "      <th>2</th>\n",
              "      <td>Given that $x, y,$ and $z$ are real numbers th...</td>\n",
              "      <td>0</td>\n",
              "    </tr>\n",
              "    <tr>\n",
              "      <th>3</th>\n",
              "      <td>$25 \\cdot 22$ Given three distinct points $P\\l...</td>\n",
              "      <td>1</td>\n",
              "    </tr>\n",
              "    <tr>\n",
              "      <th>4</th>\n",
              "      <td>I am thinking of a five-digit number composed ...</td>\n",
              "      <td>5</td>\n",
              "    </tr>\n",
              "  </tbody>\n",
              "</table>\n",
              "</div>\n",
              "    <div class=\"colab-df-buttons\">\n",
              "\n",
              "  <div class=\"colab-df-container\">\n",
              "    <button class=\"colab-df-convert\" onclick=\"convertToInteractive('df-9ba08149-c616-4824-9487-777305627894')\"\n",
              "            title=\"Convert this dataframe to an interactive table.\"\n",
              "            style=\"display:none;\">\n",
              "\n",
              "  <svg xmlns=\"http://www.w3.org/2000/svg\" height=\"24px\" viewBox=\"0 -960 960 960\">\n",
              "    <path d=\"M120-120v-720h720v720H120Zm60-500h600v-160H180v160Zm220 220h160v-160H400v160Zm0 220h160v-160H400v160ZM180-400h160v-160H180v160Zm440 0h160v-160H620v160ZM180-180h160v-160H180v160Zm440 0h160v-160H620v160Z\"/>\n",
              "  </svg>\n",
              "    </button>\n",
              "\n",
              "  <style>\n",
              "    .colab-df-container {\n",
              "      display:flex;\n",
              "      gap: 12px;\n",
              "    }\n",
              "\n",
              "    .colab-df-convert {\n",
              "      background-color: #E8F0FE;\n",
              "      border: none;\n",
              "      border-radius: 50%;\n",
              "      cursor: pointer;\n",
              "      display: none;\n",
              "      fill: #1967D2;\n",
              "      height: 32px;\n",
              "      padding: 0 0 0 0;\n",
              "      width: 32px;\n",
              "    }\n",
              "\n",
              "    .colab-df-convert:hover {\n",
              "      background-color: #E2EBFA;\n",
              "      box-shadow: 0px 1px 2px rgba(60, 64, 67, 0.3), 0px 1px 3px 1px rgba(60, 64, 67, 0.15);\n",
              "      fill: #174EA6;\n",
              "    }\n",
              "\n",
              "    .colab-df-buttons div {\n",
              "      margin-bottom: 4px;\n",
              "    }\n",
              "\n",
              "    [theme=dark] .colab-df-convert {\n",
              "      background-color: #3B4455;\n",
              "      fill: #D2E3FC;\n",
              "    }\n",
              "\n",
              "    [theme=dark] .colab-df-convert:hover {\n",
              "      background-color: #434B5C;\n",
              "      box-shadow: 0px 1px 3px 1px rgba(0, 0, 0, 0.15);\n",
              "      filter: drop-shadow(0px 1px 2px rgba(0, 0, 0, 0.3));\n",
              "      fill: #FFFFFF;\n",
              "    }\n",
              "  </style>\n",
              "\n",
              "    <script>\n",
              "      const buttonEl =\n",
              "        document.querySelector('#df-9ba08149-c616-4824-9487-777305627894 button.colab-df-convert');\n",
              "      buttonEl.style.display =\n",
              "        google.colab.kernel.accessAllowed ? 'block' : 'none';\n",
              "\n",
              "      async function convertToInteractive(key) {\n",
              "        const element = document.querySelector('#df-9ba08149-c616-4824-9487-777305627894');\n",
              "        const dataTable =\n",
              "          await google.colab.kernel.invokeFunction('convertToInteractive',\n",
              "                                                    [key], {});\n",
              "        if (!dataTable) return;\n",
              "\n",
              "        const docLinkHtml = 'Like what you see? Visit the ' +\n",
              "          '<a target=\"_blank\" href=https://colab.research.google.com/notebooks/data_table.ipynb>data table notebook</a>'\n",
              "          + ' to learn more about interactive tables.';\n",
              "        element.innerHTML = '';\n",
              "        dataTable['output_type'] = 'display_data';\n",
              "        await google.colab.output.renderOutput(dataTable, element);\n",
              "        const docLink = document.createElement('div');\n",
              "        docLink.innerHTML = docLinkHtml;\n",
              "        element.appendChild(docLink);\n",
              "      }\n",
              "    </script>\n",
              "  </div>\n",
              "\n",
              "\n",
              "    <div id=\"df-3dddb635-2e25-434f-a0b1-8ad439e4a844\">\n",
              "      <button class=\"colab-df-quickchart\" onclick=\"quickchart('df-3dddb635-2e25-434f-a0b1-8ad439e4a844')\"\n",
              "                title=\"Suggest charts\"\n",
              "                style=\"display:none;\">\n",
              "\n",
              "<svg xmlns=\"http://www.w3.org/2000/svg\" height=\"24px\"viewBox=\"0 0 24 24\"\n",
              "     width=\"24px\">\n",
              "    <g>\n",
              "        <path d=\"M19 3H5c-1.1 0-2 .9-2 2v14c0 1.1.9 2 2 2h14c1.1 0 2-.9 2-2V5c0-1.1-.9-2-2-2zM9 17H7v-7h2v7zm4 0h-2V7h2v10zm4 0h-2v-4h2v4z\"/>\n",
              "    </g>\n",
              "</svg>\n",
              "      </button>\n",
              "\n",
              "<style>\n",
              "  .colab-df-quickchart {\n",
              "      --bg-color: #E8F0FE;\n",
              "      --fill-color: #1967D2;\n",
              "      --hover-bg-color: #E2EBFA;\n",
              "      --hover-fill-color: #174EA6;\n",
              "      --disabled-fill-color: #AAA;\n",
              "      --disabled-bg-color: #DDD;\n",
              "  }\n",
              "\n",
              "  [theme=dark] .colab-df-quickchart {\n",
              "      --bg-color: #3B4455;\n",
              "      --fill-color: #D2E3FC;\n",
              "      --hover-bg-color: #434B5C;\n",
              "      --hover-fill-color: #FFFFFF;\n",
              "      --disabled-bg-color: #3B4455;\n",
              "      --disabled-fill-color: #666;\n",
              "  }\n",
              "\n",
              "  .colab-df-quickchart {\n",
              "    background-color: var(--bg-color);\n",
              "    border: none;\n",
              "    border-radius: 50%;\n",
              "    cursor: pointer;\n",
              "    display: none;\n",
              "    fill: var(--fill-color);\n",
              "    height: 32px;\n",
              "    padding: 0;\n",
              "    width: 32px;\n",
              "  }\n",
              "\n",
              "  .colab-df-quickchart:hover {\n",
              "    background-color: var(--hover-bg-color);\n",
              "    box-shadow: 0 1px 2px rgba(60, 64, 67, 0.3), 0 1px 3px 1px rgba(60, 64, 67, 0.15);\n",
              "    fill: var(--button-hover-fill-color);\n",
              "  }\n",
              "\n",
              "  .colab-df-quickchart-complete:disabled,\n",
              "  .colab-df-quickchart-complete:disabled:hover {\n",
              "    background-color: var(--disabled-bg-color);\n",
              "    fill: var(--disabled-fill-color);\n",
              "    box-shadow: none;\n",
              "  }\n",
              "\n",
              "  .colab-df-spinner {\n",
              "    border: 2px solid var(--fill-color);\n",
              "    border-color: transparent;\n",
              "    border-bottom-color: var(--fill-color);\n",
              "    animation:\n",
              "      spin 1s steps(1) infinite;\n",
              "  }\n",
              "\n",
              "  @keyframes spin {\n",
              "    0% {\n",
              "      border-color: transparent;\n",
              "      border-bottom-color: var(--fill-color);\n",
              "      border-left-color: var(--fill-color);\n",
              "    }\n",
              "    20% {\n",
              "      border-color: transparent;\n",
              "      border-left-color: var(--fill-color);\n",
              "      border-top-color: var(--fill-color);\n",
              "    }\n",
              "    30% {\n",
              "      border-color: transparent;\n",
              "      border-left-color: var(--fill-color);\n",
              "      border-top-color: var(--fill-color);\n",
              "      border-right-color: var(--fill-color);\n",
              "    }\n",
              "    40% {\n",
              "      border-color: transparent;\n",
              "      border-right-color: var(--fill-color);\n",
              "      border-top-color: var(--fill-color);\n",
              "    }\n",
              "    60% {\n",
              "      border-color: transparent;\n",
              "      border-right-color: var(--fill-color);\n",
              "    }\n",
              "    80% {\n",
              "      border-color: transparent;\n",
              "      border-right-color: var(--fill-color);\n",
              "      border-bottom-color: var(--fill-color);\n",
              "    }\n",
              "    90% {\n",
              "      border-color: transparent;\n",
              "      border-bottom-color: var(--fill-color);\n",
              "    }\n",
              "  }\n",
              "</style>\n",
              "\n",
              "      <script>\n",
              "        async function quickchart(key) {\n",
              "          const quickchartButtonEl =\n",
              "            document.querySelector('#' + key + ' button');\n",
              "          quickchartButtonEl.disabled = true;  // To prevent multiple clicks.\n",
              "          quickchartButtonEl.classList.add('colab-df-spinner');\n",
              "          try {\n",
              "            const charts = await google.colab.kernel.invokeFunction(\n",
              "                'suggestCharts', [key], {});\n",
              "          } catch (error) {\n",
              "            console.error('Error during call to suggestCharts:', error);\n",
              "          }\n",
              "          quickchartButtonEl.classList.remove('colab-df-spinner');\n",
              "          quickchartButtonEl.classList.add('colab-df-quickchart-complete');\n",
              "        }\n",
              "        (() => {\n",
              "          let quickchartButtonEl =\n",
              "            document.querySelector('#df-3dddb635-2e25-434f-a0b1-8ad439e4a844 button');\n",
              "          quickchartButtonEl.style.display =\n",
              "            google.colab.kernel.accessAllowed ? 'block' : 'none';\n",
              "        })();\n",
              "      </script>\n",
              "    </div>\n",
              "\n",
              "    </div>\n",
              "  </div>\n"
            ],
            "application/vnd.google.colaboratory.intrinsic+json": {
              "type": "dataframe",
              "variable_name": "train",
              "summary": "{\n  \"name\": \"train\",\n  \"rows\": 10189,\n  \"fields\": [\n    {\n      \"column\": \"Question\",\n      \"properties\": {\n        \"dtype\": \"string\",\n        \"num_unique_values\": 10189,\n        \"samples\": [\n          \"4\\u30fb142 Solve the system of equations\\n$$\\\\left\\\\{\\\\begin{array}{l}\\nx_{1} \\\\cdot x_{2} \\\\cdot x_{3}=x_{1}+x_{2}+x_{3}, \\\\\\\\\\nx_{2} \\\\cdot x_{3} \\\\cdot x_{4}=x_{2}+x_{3}+x_{4}, \\\\\\\\\\nx_{3} \\\\cdot x_{4} \\\\cdot x_{5}=x_{3}+x_{4}+x_{5}, \\\\\\\\\\n\\\\cdots \\\\cdots \\\\cdots \\\\cdots \\\\cdots \\\\cdots \\\\cdots \\\\cdots \\\\cdots \\\\cdots \\\\\\\\\\nx_{1985} \\\\cdot x_{1986} \\\\cdot x_{1987}=x_{1985}+x_{1986}+x_{1987}, \\\\\\\\\\nx_{1986} \\\\cdot x_{1987} \\\\cdot x_{1}=x_{1986}+x_{1987}+x_{1}, \\\\\\\\\\nx_{1987} \\\\cdot x_{1} \\\\cdot x_{2}=x_{1987}+x_{1}+x_{2} .\\n\\\\end{array}\\\\right.$$\",\n          \"4. The arithmetic sequence $\\\\left\\\\{a_{n}\\\\right\\\\}$ satisfies $a_{1}^{2}+a_{10}^{2} \\\\leqslant 10$. Then the range of values for $S=a_{10}+a_{11}+\\\\cdots+a_{19}$ is $\\\\qquad$\",\n          \"10. The sum $\\\\sum_{k=1}^{2020} k \\\\cos \\\\left(\\\\frac{4 k \\\\pi}{4041}\\\\right)$ can be written in the form\\n\\n$$\\n\\\\frac{a \\\\cos \\\\left(\\\\frac{p \\\\pi}{q}\\\\right)-b}{c \\\\sin ^{2}\\\\left(\\\\frac{p \\\\pi}{q}\\\\right)}\\n$$\\n\\nwhere $a, b, c$ are relatively prime positive integers and $p, q$ are relatively prime positive integers where $p<q$. Determine $a+b+c+p+q$.\"\n        ],\n        \"semantic_type\": \"\",\n        \"description\": \"\"\n      }\n    },\n    {\n      \"column\": \"label\",\n      \"properties\": {\n        \"dtype\": \"number\",\n        \"std\": 1,\n        \"min\": 0,\n        \"max\": 7,\n        \"num_unique_values\": 8,\n        \"samples\": [\n          5,\n          4,\n          3\n        ],\n        \"semantic_type\": \"\",\n        \"description\": \"\"\n      }\n    }\n  ]\n}"
            }
          },
          "metadata": {},
          "execution_count": 5
        }
      ],
      "source": [
        "train.head()"
      ]
    },
    {
      "cell_type": "code",
      "execution_count": null,
      "metadata": {
        "colab": {
          "base_uri": "https://localhost:8080/"
        },
        "id": "LBux1Me-EMpH",
        "outputId": "d16ca225-e30d-4447-9426-7301c94ca716"
      },
      "outputs": [
        {
          "output_type": "execute_result",
          "data": {
            "text/plain": [
              "(10189, 2)"
            ]
          },
          "metadata": {},
          "execution_count": 6
        }
      ],
      "source": [
        "train.shape"
      ]
    },
    {
      "cell_type": "code",
      "execution_count": null,
      "metadata": {
        "colab": {
          "base_uri": "https://localhost:8080/",
          "height": 147
        },
        "id": "C5tIupBCEQMS",
        "outputId": "21856a64-8646-40b2-cac6-f9abdcd8c063"
      },
      "outputs": [
        {
          "output_type": "execute_result",
          "data": {
            "text/plain": [
              "Question    0\n",
              "label       0\n",
              "dtype: int64"
            ],
            "text/html": [
              "<div>\n",
              "<style scoped>\n",
              "    .dataframe tbody tr th:only-of-type {\n",
              "        vertical-align: middle;\n",
              "    }\n",
              "\n",
              "    .dataframe tbody tr th {\n",
              "        vertical-align: top;\n",
              "    }\n",
              "\n",
              "    .dataframe thead th {\n",
              "        text-align: right;\n",
              "    }\n",
              "</style>\n",
              "<table border=\"1\" class=\"dataframe\">\n",
              "  <thead>\n",
              "    <tr style=\"text-align: right;\">\n",
              "      <th></th>\n",
              "      <th>0</th>\n",
              "    </tr>\n",
              "  </thead>\n",
              "  <tbody>\n",
              "    <tr>\n",
              "      <th>Question</th>\n",
              "      <td>0</td>\n",
              "    </tr>\n",
              "    <tr>\n",
              "      <th>label</th>\n",
              "      <td>0</td>\n",
              "    </tr>\n",
              "  </tbody>\n",
              "</table>\n",
              "</div><br><label><b>dtype:</b> int64</label>"
            ]
          },
          "metadata": {},
          "execution_count": 7
        }
      ],
      "source": [
        "train.isnull().sum()"
      ]
    },
    {
      "cell_type": "code",
      "execution_count": null,
      "metadata": {
        "colab": {
          "base_uri": "https://localhost:8080/"
        },
        "id": "sRFoAa43EUAq",
        "outputId": "6042ad92-a42e-4e9d-b56a-c47585c4b26f"
      },
      "outputs": [
        {
          "output_type": "execute_result",
          "data": {
            "text/plain": [
              "np.int64(0)"
            ]
          },
          "metadata": {},
          "execution_count": 8
        }
      ],
      "source": [
        "train.duplicated().sum()"
      ]
    },
    {
      "cell_type": "code",
      "execution_count": null,
      "metadata": {
        "colab": {
          "base_uri": "https://localhost:8080/",
          "height": 70
        },
        "id": "S-4jkJxbElWa",
        "outputId": "3b29a7ea-91c7-4936-8b07-1b4bfce2d655"
      },
      "outputs": [
        {
          "output_type": "execute_result",
          "data": {
            "text/plain": [
              "'A circle of radius $10$ inches has its center at the vertex $C$ of an equilateral triangle $ABC$ and\\npasses through the other two vertices. The side $AC$ extended through $C$ intersects the circle\\nat $D$. The number of degrees of angle $ADB$ is:\\n$\\\\text{(A)} 15 \\\\quad  \\\\text{(B)}30 \\\\quad \\\\text{(C)}60 \\\\quad \\\\text{(D)}90 \\\\quad \\\\text{(E)}120$'"
            ],
            "application/vnd.google.colaboratory.intrinsic+json": {
              "type": "string"
            }
          },
          "metadata": {},
          "execution_count": 9
        }
      ],
      "source": [
        "train['Question'][98]"
      ]
    },
    {
      "cell_type": "code",
      "execution_count": null,
      "metadata": {
        "colab": {
          "base_uri": "https://localhost:8080/",
          "height": 122
        },
        "id": "I4G9sxK6OjB3",
        "outputId": "4ac10d8f-a9f0-4105-b6ad-81b05938c2b4"
      },
      "outputs": [
        {
          "output_type": "execute_result",
          "data": {
            "text/plain": [
              "'6. The line segment connecting two points on a sphere is called a chord of the sphere.\\n\\nFor a sphere with a radius of 4, the lengths of two chords \\\\( AB \\\\) and \\\\( CD \\\\) are \\\\( 2 \\\\sqrt{7} \\\\) and \\\\( 4 \\\\sqrt{3} \\\\) respectively. \\\\( M \\\\) and \\\\( N \\\\) are the midpoints of \\\\( AB \\\\) and \\\\( CD \\\\) respectively, and the endpoints of each pair of chords can move on the surface of the sphere. Given the following four propositions:\\n(1) Chords \\\\( AB \\\\) and \\\\( CD \\\\) may intersect at point \\\\( M \\\\);\\n(2) Chords \\\\( AB \\\\) and \\\\( CD \\\\) may intersect at point \\\\( N \\\\);\\n(3) The maximum value of \\\\( MN \\\\) is 5;\\n(4) The minimum value of \\\\( MN \\\\) is 1.\\nAmong these, the true propositions are ( ).\\n(A) (1)(3)(4)\\n(B) (1)(2)(3)\\n(C) (1)(2)(4)\\n(D) (2)(3)(4)'"
            ],
            "application/vnd.google.colaboratory.intrinsic+json": {
              "type": "string"
            }
          },
          "metadata": {},
          "execution_count": 10
        }
      ],
      "source": [
        "train['Question'][456]"
      ]
    },
    {
      "cell_type": "code",
      "execution_count": null,
      "metadata": {
        "colab": {
          "base_uri": "https://localhost:8080/",
          "height": 53
        },
        "id": "Yi6S3nhNOzVZ",
        "outputId": "ee6d3167-2dcd-424a-a5cf-20ea6d520ca4"
      },
      "outputs": [
        {
          "output_type": "execute_result",
          "data": {
            "text/plain": [
              "'How many base-10 integers are exactly 4 digits in their base-3 representation and exactly 2 digits in their base-6 representation?'"
            ],
            "application/vnd.google.colaboratory.intrinsic+json": {
              "type": "string"
            }
          },
          "metadata": {},
          "execution_count": 11
        }
      ],
      "source": [
        "train['Question'][7634]"
      ]
    },
    {
      "cell_type": "code",
      "execution_count": null,
      "metadata": {
        "colab": {
          "base_uri": "https://localhost:8080/",
          "height": 35
        },
        "id": "3M1FjnBcO7AP",
        "outputId": "1f96bb1b-af99-47e5-e7f3-2cf42165169e"
      },
      "outputs": [
        {
          "output_type": "execute_result",
          "data": {
            "text/plain": [
              "'!\"#$%&\\'()*+,-./:;<=>?@[\\\\]^_`{|}~'"
            ],
            "application/vnd.google.colaboratory.intrinsic+json": {
              "type": "string"
            }
          },
          "metadata": {},
          "execution_count": 12
        }
      ],
      "source": [
        "exclude = string.punctuation\n",
        "exclude"
      ]
    },
    {
      "cell_type": "code",
      "execution_count": null,
      "metadata": {
        "id": "aI7cMZ832lg6"
      },
      "outputs": [],
      "source": []
    },
    {
      "cell_type": "code",
      "execution_count": null,
      "metadata": {
        "colab": {
          "base_uri": "https://localhost:8080/",
          "height": 70
        },
        "id": "B9tWtSWYjEEd",
        "outputId": "b586a428-13f7-4c33-b387-d076bde7d525"
      },
      "outputs": [
        {
          "output_type": "execute_result",
          "data": {
            "text/plain": [
              "'Scientists were letting rats into a maze and observed whether they would reach the goal. They found that $56\\\\%$ of the black rats and $84\\\\%$ of the white rats reached the goal. The ratio of the number of black and white rats at the goal was $1:2$.\\n\\nWhat was the ratio of the number of black and white rats at the start?\\n\\n(M. Petrová)'"
            ],
            "application/vnd.google.colaboratory.intrinsic+json": {
              "type": "string"
            }
          },
          "metadata": {},
          "execution_count": 13
        }
      ],
      "source": [
        "# train[train['label'] == 3]\n",
        "train['Question'][10134]"
      ]
    },
    {
      "cell_type": "markdown",
      "metadata": {
        "id": "hzaErR9gBHlg"
      },
      "source": [
        "# **Is Greek letters present in Questions?**"
      ]
    },
    {
      "cell_type": "code",
      "execution_count": null,
      "metadata": {
        "colab": {
          "base_uri": "https://localhost:8080/"
        },
        "id": "hNs8jydIriZZ",
        "outputId": "2e45dc4e-5d4c-43d0-84ef-8957458c81c2"
      },
      "outputs": [
        {
          "output_type": "stream",
          "name": "stdout",
          "text": [
            "Found Greek letter 'α' in row 1803, column 'Question': '10th Eötvös 1903 Problem 2 α and β are real and a = sin α, b = sin β, c = sin(α+β). Find a polynomial p(x, y, z) with integer coefficients, such that p(a, b, c) = 0. Find all values of (a, b) for which there are less than four distinct values of c.'\n",
            "Found Greek letter 'β' in row 1803, column 'Question': '10th Eötvös 1903 Problem 2 α and β are real and a = sin α, b = sin β, c = sin(α+β). Find a polynomial p(x, y, z) with integer coefficients, such that p(a, b, c) = 0. Find all values of (a, b) for which there are less than four distinct values of c.'\n",
            "Found Greek letter 'π' in row 3247, column 'Question': '41st Putnam 1980 Problem A3 Find ∫ 0 π/2 f(x) dx, where f(x) = 1/(1 + tan √2 x). Solution'\n",
            "Found Greek letter 'α' in row 3984, column 'Question': '51st Putnam 1990 Problem B6 C is a non-empty, closed, bounded, convex subset of the plane. Given a support line L of C and a real number 0 ≤ α ≤ 1, let B α be the band parallel to L, situated midway between L and the parallel support line on the other side of C, and of width α times the distance between the two support lines. What is the smallest α such that ∩ B α contains a point of C, where the intersection is taken over all possible directions for the support line L? Solution'\n"
          ]
        }
      ],
      "source": [
        "greek_letters = ['α', 'β', 'γ', 'δ', 'ε', 'ζ', 'η', 'θ', 'ι', 'κ', 'λ', 'μ', 'ν', 'ξ', 'ο', 'π', 'ρ', 'σ', 'τ', 'υ', 'φ', 'χ', 'ψ', 'ω',\n",
        "                  'Γ', 'Δ', 'Θ',  'Λ',  'Ξ', 'Ο', 'Π', 'Σ',  'Φ',  'Ψ', 'Ω']\n",
        "found_greek = False\n",
        "\n",
        "for index, row in train.iterrows():\n",
        "    for cell in row:\n",
        "        if isinstance(cell, str):  # Ensure we're checking strings\n",
        "            for letter in greek_letters:\n",
        "                if letter in cell:\n",
        "                    print(f\"Found Greek letter '{letter}' in row {index}, column '{row.index[row.tolist().index(cell)]}': '{cell}'\")\n",
        "                    found_greek = True\n",
        "\n",
        "if not found_greek:\n",
        "    print(\"No Greek letters found in the dataset.\")"
      ]
    },
    {
      "cell_type": "code",
      "execution_count": null,
      "metadata": {
        "id": "kUjL1yp81MZH"
      },
      "outputs": [],
      "source": [
        "def newregex(text):\n",
        "  text = re.sub(r'α', 'alpha', text)\n",
        "  text = re.sub(r'β', 'beta', text)\n",
        "  text = re.sub(r'π', 'pi', text)\n",
        "  text = re.sub(r'\\d+(\\.\\d+)?', '<NUM>', text)\n",
        "  symb = r'[+\\-*/=()<>]'\n",
        "  text = re.sub(symb, lambda x: '' + x.group() + '', text)\n",
        "  text = re.sub(r'[^\\w\\s<>\\-+/=()*^]', ' ',text )\n",
        "  text = re.sub(r'\\s+', ' ', text).strip()\n",
        "  text = text.lower()\n",
        "  return text\n"
      ]
    },
    {
      "cell_type": "code",
      "execution_count": null,
      "metadata": {
        "colab": {
          "base_uri": "https://localhost:8080/",
          "height": 70
        },
        "id": "164BMbt_5lUv",
        "outputId": "72352998-9d5d-44f6-e6af-5af9e042d1c9"
      },
      "outputs": [
        {
          "output_type": "execute_result",
          "data": {
            "text/plain": [
              "'scientists were letting rats into a maze and observed whether they would reach the goal they found that <num> of the black rats and <num> of the white rats reached the goal the ratio of the number of black and white rats at the goal was <num> <num> what was the ratio of the number of black and white rats at the start (m petrová)'"
            ],
            "application/vnd.google.colaboratory.intrinsic+json": {
              "type": "string"
            }
          },
          "metadata": {},
          "execution_count": 16
        }
      ],
      "source": [
        "newregex('''Scientists were letting rats into a maze and observed whether they would reach the goal. They found that $56\\%$ of the black rats and $84\\%$ of the white rats reached the goal. The ratio of the number of black and white rats at the goal was $1:2$.\n",
        "\n",
        "What was the ratio of the number of black and white rats at the start?\n",
        "\n",
        "(M. Petrová)''')"
      ]
    },
    {
      "cell_type": "code",
      "execution_count": null,
      "metadata": {
        "colab": {
          "base_uri": "https://localhost:8080/",
          "height": 332
        },
        "id": "FKj4qajJQdGR",
        "outputId": "572cb683-5cf3-423a-c769-46a03ba61837"
      },
      "outputs": [
        {
          "output_type": "execute_result",
          "data": {
            "text/plain": [
              "              0\n",
              "label          \n",
              "0      0.256944\n",
              "1      0.239376\n",
              "5      0.179311\n",
              "4      0.168024\n",
              "2      0.101973\n",
              "3      0.036117\n",
              "6      0.009815\n",
              "7      0.008440"
            ],
            "text/html": [
              "\n",
              "  <div id=\"df-d69021cc-afb3-4ed9-b515-3f234d422e7a\" class=\"colab-df-container\">\n",
              "    <div>\n",
              "<style scoped>\n",
              "    .dataframe tbody tr th:only-of-type {\n",
              "        vertical-align: middle;\n",
              "    }\n",
              "\n",
              "    .dataframe tbody tr th {\n",
              "        vertical-align: top;\n",
              "    }\n",
              "\n",
              "    .dataframe thead th {\n",
              "        text-align: right;\n",
              "    }\n",
              "</style>\n",
              "<table border=\"1\" class=\"dataframe\">\n",
              "  <thead>\n",
              "    <tr style=\"text-align: right;\">\n",
              "      <th></th>\n",
              "      <th>0</th>\n",
              "    </tr>\n",
              "    <tr>\n",
              "      <th>label</th>\n",
              "      <th></th>\n",
              "    </tr>\n",
              "  </thead>\n",
              "  <tbody>\n",
              "    <tr>\n",
              "      <th>0</th>\n",
              "      <td>0.256944</td>\n",
              "    </tr>\n",
              "    <tr>\n",
              "      <th>1</th>\n",
              "      <td>0.239376</td>\n",
              "    </tr>\n",
              "    <tr>\n",
              "      <th>5</th>\n",
              "      <td>0.179311</td>\n",
              "    </tr>\n",
              "    <tr>\n",
              "      <th>4</th>\n",
              "      <td>0.168024</td>\n",
              "    </tr>\n",
              "    <tr>\n",
              "      <th>2</th>\n",
              "      <td>0.101973</td>\n",
              "    </tr>\n",
              "    <tr>\n",
              "      <th>3</th>\n",
              "      <td>0.036117</td>\n",
              "    </tr>\n",
              "    <tr>\n",
              "      <th>6</th>\n",
              "      <td>0.009815</td>\n",
              "    </tr>\n",
              "    <tr>\n",
              "      <th>7</th>\n",
              "      <td>0.008440</td>\n",
              "    </tr>\n",
              "  </tbody>\n",
              "</table>\n",
              "</div>\n",
              "    <div class=\"colab-df-buttons\">\n",
              "\n",
              "  <div class=\"colab-df-container\">\n",
              "    <button class=\"colab-df-convert\" onclick=\"convertToInteractive('df-d69021cc-afb3-4ed9-b515-3f234d422e7a')\"\n",
              "            title=\"Convert this dataframe to an interactive table.\"\n",
              "            style=\"display:none;\">\n",
              "\n",
              "  <svg xmlns=\"http://www.w3.org/2000/svg\" height=\"24px\" viewBox=\"0 -960 960 960\">\n",
              "    <path d=\"M120-120v-720h720v720H120Zm60-500h600v-160H180v160Zm220 220h160v-160H400v160Zm0 220h160v-160H400v160ZM180-400h160v-160H180v160Zm440 0h160v-160H620v160ZM180-180h160v-160H180v160Zm440 0h160v-160H620v160Z\"/>\n",
              "  </svg>\n",
              "    </button>\n",
              "\n",
              "  <style>\n",
              "    .colab-df-container {\n",
              "      display:flex;\n",
              "      gap: 12px;\n",
              "    }\n",
              "\n",
              "    .colab-df-convert {\n",
              "      background-color: #E8F0FE;\n",
              "      border: none;\n",
              "      border-radius: 50%;\n",
              "      cursor: pointer;\n",
              "      display: none;\n",
              "      fill: #1967D2;\n",
              "      height: 32px;\n",
              "      padding: 0 0 0 0;\n",
              "      width: 32px;\n",
              "    }\n",
              "\n",
              "    .colab-df-convert:hover {\n",
              "      background-color: #E2EBFA;\n",
              "      box-shadow: 0px 1px 2px rgba(60, 64, 67, 0.3), 0px 1px 3px 1px rgba(60, 64, 67, 0.15);\n",
              "      fill: #174EA6;\n",
              "    }\n",
              "\n",
              "    .colab-df-buttons div {\n",
              "      margin-bottom: 4px;\n",
              "    }\n",
              "\n",
              "    [theme=dark] .colab-df-convert {\n",
              "      background-color: #3B4455;\n",
              "      fill: #D2E3FC;\n",
              "    }\n",
              "\n",
              "    [theme=dark] .colab-df-convert:hover {\n",
              "      background-color: #434B5C;\n",
              "      box-shadow: 0px 1px 3px 1px rgba(0, 0, 0, 0.15);\n",
              "      filter: drop-shadow(0px 1px 2px rgba(0, 0, 0, 0.3));\n",
              "      fill: #FFFFFF;\n",
              "    }\n",
              "  </style>\n",
              "\n",
              "    <script>\n",
              "      const buttonEl =\n",
              "        document.querySelector('#df-d69021cc-afb3-4ed9-b515-3f234d422e7a button.colab-df-convert');\n",
              "      buttonEl.style.display =\n",
              "        google.colab.kernel.accessAllowed ? 'block' : 'none';\n",
              "\n",
              "      async function convertToInteractive(key) {\n",
              "        const element = document.querySelector('#df-d69021cc-afb3-4ed9-b515-3f234d422e7a');\n",
              "        const dataTable =\n",
              "          await google.colab.kernel.invokeFunction('convertToInteractive',\n",
              "                                                    [key], {});\n",
              "        if (!dataTable) return;\n",
              "\n",
              "        const docLinkHtml = 'Like what you see? Visit the ' +\n",
              "          '<a target=\"_blank\" href=https://colab.research.google.com/notebooks/data_table.ipynb>data table notebook</a>'\n",
              "          + ' to learn more about interactive tables.';\n",
              "        element.innerHTML = '';\n",
              "        dataTable['output_type'] = 'display_data';\n",
              "        await google.colab.output.renderOutput(dataTable, element);\n",
              "        const docLink = document.createElement('div');\n",
              "        docLink.innerHTML = docLinkHtml;\n",
              "        element.appendChild(docLink);\n",
              "      }\n",
              "    </script>\n",
              "  </div>\n",
              "\n",
              "\n",
              "    <div id=\"df-1fc5f291-6afd-451a-8e4c-a8d6691925e3\">\n",
              "      <button class=\"colab-df-quickchart\" onclick=\"quickchart('df-1fc5f291-6afd-451a-8e4c-a8d6691925e3')\"\n",
              "                title=\"Suggest charts\"\n",
              "                style=\"display:none;\">\n",
              "\n",
              "<svg xmlns=\"http://www.w3.org/2000/svg\" height=\"24px\"viewBox=\"0 0 24 24\"\n",
              "     width=\"24px\">\n",
              "    <g>\n",
              "        <path d=\"M19 3H5c-1.1 0-2 .9-2 2v14c0 1.1.9 2 2 2h14c1.1 0 2-.9 2-2V5c0-1.1-.9-2-2-2zM9 17H7v-7h2v7zm4 0h-2V7h2v10zm4 0h-2v-4h2v4z\"/>\n",
              "    </g>\n",
              "</svg>\n",
              "      </button>\n",
              "\n",
              "<style>\n",
              "  .colab-df-quickchart {\n",
              "      --bg-color: #E8F0FE;\n",
              "      --fill-color: #1967D2;\n",
              "      --hover-bg-color: #E2EBFA;\n",
              "      --hover-fill-color: #174EA6;\n",
              "      --disabled-fill-color: #AAA;\n",
              "      --disabled-bg-color: #DDD;\n",
              "  }\n",
              "\n",
              "  [theme=dark] .colab-df-quickchart {\n",
              "      --bg-color: #3B4455;\n",
              "      --fill-color: #D2E3FC;\n",
              "      --hover-bg-color: #434B5C;\n",
              "      --hover-fill-color: #FFFFFF;\n",
              "      --disabled-bg-color: #3B4455;\n",
              "      --disabled-fill-color: #666;\n",
              "  }\n",
              "\n",
              "  .colab-df-quickchart {\n",
              "    background-color: var(--bg-color);\n",
              "    border: none;\n",
              "    border-radius: 50%;\n",
              "    cursor: pointer;\n",
              "    display: none;\n",
              "    fill: var(--fill-color);\n",
              "    height: 32px;\n",
              "    padding: 0;\n",
              "    width: 32px;\n",
              "  }\n",
              "\n",
              "  .colab-df-quickchart:hover {\n",
              "    background-color: var(--hover-bg-color);\n",
              "    box-shadow: 0 1px 2px rgba(60, 64, 67, 0.3), 0 1px 3px 1px rgba(60, 64, 67, 0.15);\n",
              "    fill: var(--button-hover-fill-color);\n",
              "  }\n",
              "\n",
              "  .colab-df-quickchart-complete:disabled,\n",
              "  .colab-df-quickchart-complete:disabled:hover {\n",
              "    background-color: var(--disabled-bg-color);\n",
              "    fill: var(--disabled-fill-color);\n",
              "    box-shadow: none;\n",
              "  }\n",
              "\n",
              "  .colab-df-spinner {\n",
              "    border: 2px solid var(--fill-color);\n",
              "    border-color: transparent;\n",
              "    border-bottom-color: var(--fill-color);\n",
              "    animation:\n",
              "      spin 1s steps(1) infinite;\n",
              "  }\n",
              "\n",
              "  @keyframes spin {\n",
              "    0% {\n",
              "      border-color: transparent;\n",
              "      border-bottom-color: var(--fill-color);\n",
              "      border-left-color: var(--fill-color);\n",
              "    }\n",
              "    20% {\n",
              "      border-color: transparent;\n",
              "      border-left-color: var(--fill-color);\n",
              "      border-top-color: var(--fill-color);\n",
              "    }\n",
              "    30% {\n",
              "      border-color: transparent;\n",
              "      border-left-color: var(--fill-color);\n",
              "      border-top-color: var(--fill-color);\n",
              "      border-right-color: var(--fill-color);\n",
              "    }\n",
              "    40% {\n",
              "      border-color: transparent;\n",
              "      border-right-color: var(--fill-color);\n",
              "      border-top-color: var(--fill-color);\n",
              "    }\n",
              "    60% {\n",
              "      border-color: transparent;\n",
              "      border-right-color: var(--fill-color);\n",
              "    }\n",
              "    80% {\n",
              "      border-color: transparent;\n",
              "      border-right-color: var(--fill-color);\n",
              "      border-bottom-color: var(--fill-color);\n",
              "    }\n",
              "    90% {\n",
              "      border-color: transparent;\n",
              "      border-bottom-color: var(--fill-color);\n",
              "    }\n",
              "  }\n",
              "</style>\n",
              "\n",
              "      <script>\n",
              "        async function quickchart(key) {\n",
              "          const quickchartButtonEl =\n",
              "            document.querySelector('#' + key + ' button');\n",
              "          quickchartButtonEl.disabled = true;  // To prevent multiple clicks.\n",
              "          quickchartButtonEl.classList.add('colab-df-spinner');\n",
              "          try {\n",
              "            const charts = await google.colab.kernel.invokeFunction(\n",
              "                'suggestCharts', [key], {});\n",
              "          } catch (error) {\n",
              "            console.error('Error during call to suggestCharts:', error);\n",
              "          }\n",
              "          quickchartButtonEl.classList.remove('colab-df-spinner');\n",
              "          quickchartButtonEl.classList.add('colab-df-quickchart-complete');\n",
              "        }\n",
              "        (() => {\n",
              "          let quickchartButtonEl =\n",
              "            document.querySelector('#df-1fc5f291-6afd-451a-8e4c-a8d6691925e3 button');\n",
              "          quickchartButtonEl.style.display =\n",
              "            google.colab.kernel.accessAllowed ? 'block' : 'none';\n",
              "        })();\n",
              "      </script>\n",
              "    </div>\n",
              "\n",
              "    </div>\n",
              "  </div>\n"
            ],
            "application/vnd.google.colaboratory.intrinsic+json": {
              "type": "dataframe",
              "summary": "{\n  \"name\": \"pd\",\n  \"rows\": 8,\n  \"fields\": [\n    {\n      \"column\": \"label\",\n      \"properties\": {\n        \"dtype\": \"number\",\n        \"std\": 2,\n        \"min\": 0,\n        \"max\": 7,\n        \"num_unique_values\": 8,\n        \"samples\": [\n          1,\n          3,\n          0\n        ],\n        \"semantic_type\": \"\",\n        \"description\": \"\"\n      }\n    },\n    {\n      \"column\": 0,\n      \"properties\": {\n        \"dtype\": \"number\",\n        \"std\": 0.10041055517419845,\n        \"min\": 0.008440475122082639,\n        \"max\": 0.2569437629815389,\n        \"num_unique_values\": 8,\n        \"samples\": [\n          0.23937579752859947,\n          0.036117381589841985,\n          0.2569437629815389\n        ],\n        \"semantic_type\": \"\",\n        \"description\": \"\"\n      }\n    }\n  ]\n}"
            }
          },
          "metadata": {},
          "execution_count": 17
        }
      ],
      "source": [
        "index = train['label'].value_counts().index\n",
        "ratios =  train['label'].value_counts().values/train['label'].value_counts().sum() + 1e-10\n",
        "pd.DataFrame(ratios, index=index)"
      ]
    },
    {
      "cell_type": "markdown",
      "metadata": {
        "id": "DoRZtc2FXzQ3"
      },
      "source": [
        "**3. REGEX FOR GREEK LETTERS, NUMBERS AND SPECIAL CHARACTERS**"
      ]
    },
    {
      "cell_type": "code",
      "execution_count": null,
      "metadata": {
        "id": "k9t0JLl2UN-d"
      },
      "outputs": [],
      "source": [
        "def regex(text):\n",
        "  spc_char = r\"[^\\w\\s\\u0370-\\u03FF0-9]\"\n",
        "  combined = f\"{spc_char}|\\n\"\n",
        "  matches = re.compile(combined)\n",
        "  return matches.sub(r'', text)"
      ]
    },
    {
      "cell_type": "markdown",
      "metadata": {
        "id": "o7yeWYN4GQr2"
      },
      "source": [
        "**3. REMOVE STOPWORDS**"
      ]
    },
    {
      "cell_type": "code",
      "execution_count": null,
      "metadata": {
        "id": "FnZxQq1gGZLX"
      },
      "outputs": [],
      "source": [
        "def remove_stopwords(text):\n",
        "  new = []\n",
        "  for i in text.split():\n",
        "    if i in stopwords.words('english'):\n",
        "      new.append('')\n",
        "    else:\n",
        "      new.append(i)\n",
        "  x = new[:]\n",
        "  new.clear()\n",
        "  return \" \".join(x)"
      ]
    },
    {
      "cell_type": "markdown",
      "metadata": {
        "id": "GDQurDPjQHzH"
      },
      "source": [
        "**4. STEMMING**"
      ]
    },
    {
      "cell_type": "code",
      "execution_count": null,
      "metadata": {
        "id": "I8HW6y0APi5q"
      },
      "outputs": [],
      "source": [
        "def stemmer(text):\n",
        "  new = []\n",
        "  for i in text.split():\n",
        "    new.append(PorterStemmer().stem(i))\n",
        "  x = new[:]\n",
        "  new.clear()\n",
        "  return \" \".join(x)"
      ]
    },
    {
      "cell_type": "markdown",
      "metadata": {
        "id": "IZBBmrXxgVRj"
      },
      "source": [
        "**OR**"
      ]
    },
    {
      "cell_type": "code",
      "execution_count": null,
      "metadata": {
        "id": "tM0w4orIM7m1"
      },
      "outputs": [],
      "source": [
        "def preprocessing(text):\n",
        "  text = text.lower()\n",
        "  greek_lets =  r\"[\\u0370-\\u03FF]\"\n",
        "  nums = r\"[0-9]\"\n",
        "  spc_char = r\"[^\\w\\s\\u0370-\\u03FF0-9]\"\n",
        "  combined = f\"{greek_lets}|{nums}|{spc_char}|\\n\"\n",
        "  matches = re.compile(combined)\n",
        "  text =  matches.sub(r'', text)\n",
        "  new = []\n",
        "  for i in text.split():\n",
        "    if i in stopwords.words('english'):\n",
        "      new.append('')\n",
        "    else:\n",
        "      new.append(i)\n",
        "  x = new[:]\n",
        "  new.clear()\n",
        "  text =  \" \".join(x)\n",
        "  new2 = []\n",
        "  for i in text.split():\n",
        "    new2.append(PorterStemmer().stem(i))\n",
        "  y = new2[:]\n",
        "  new2.clear()\n",
        "  text = \" \".join(y)\n",
        "  return text"
      ]
    },
    {
      "cell_type": "markdown",
      "metadata": {
        "id": "jYi89unUA6LW"
      },
      "source": [
        "# **FINAL TEXT PREPROCESSING**"
      ]
    },
    {
      "cell_type": "code",
      "execution_count": null,
      "metadata": {
        "id": "qonkWTkZ6MTt"
      },
      "outputs": [],
      "source": [
        "def maths_preprocessing(text):\n",
        "\n",
        "  text = re.sub(r'α', 'alpha', text)\n",
        "  text = re.sub(r'β', 'beta', text)\n",
        "  text = re.sub(r'π', 'pi', text)\n",
        "  text = re.sub(r'\\d+(\\.\\d+)?', '<NUM>', text)\n",
        "  symb = r'[+\\-*/=()<>]'\n",
        "  text = re.sub(symb, lambda x: '' + x.group() + '', text)\n",
        "  text = re.sub(r'[^\\w\\s<>\\-+/=*^]', ' ',text )\n",
        "  text = re.sub(r'\\s+', ' ', text).strip()\n",
        "  text = text.lower()\n",
        "\n",
        "  new = []\n",
        "  for i in text.split():\n",
        "    if i in stopwords.words('english'):\n",
        "      new.append('')\n",
        "    else:\n",
        "      new.append(i)\n",
        "  x = new[:]\n",
        "  new.clear()\n",
        "  text =  \" \".join(x)\n",
        "  new2 = []\n",
        "  for i in text.split():\n",
        "    new2.append(PorterStemmer().stem(i))\n",
        "  y = new2[:]\n",
        "  new2.clear()\n",
        "  text = \" \".join(y)\n",
        "  return text"
      ]
    },
    {
      "cell_type": "code",
      "execution_count": null,
      "metadata": {
        "id": "x7MHlbSBfJR3"
      },
      "outputs": [],
      "source": [
        "train['newQuestion'] = train['Question'].apply(preprocessing)"
      ]
    },
    {
      "cell_type": "code",
      "execution_count": null,
      "metadata": {
        "id": "dMjv75-Q6kqa"
      },
      "outputs": [],
      "source": [
        "train['transformed'] = train['Question'].apply(maths_preprocessing)"
      ]
    },
    {
      "cell_type": "code",
      "execution_count": null,
      "metadata": {
        "colab": {
          "base_uri": "https://localhost:8080/",
          "height": 87
        },
        "id": "VjUqrwhL8fGE",
        "outputId": "90ce4613-8fcf-4f9c-b151-1e9e0030f456"
      },
      "outputs": [
        {
          "output_type": "execute_result",
          "data": {
            "text/plain": [
              "'<num> line segment connect two point sphere call chord sphere sphere radiu <num> length two chord ab cd <num> sqrt <num> <num> sqrt <num> respect n midpoint ab cd respect endpoint pair chord move surfac sphere given follow four proposit <num> chord ab cd may intersect point <num> chord ab cd may intersect point n <num> maximum valu mn <num> <num> minimum valu mn <num> among true proposit <num> <num> <num> b <num> <num> <num> c <num> <num> <num> <num> <num> <num>'"
            ],
            "application/vnd.google.colaboratory.intrinsic+json": {
              "type": "string"
            }
          },
          "metadata": {},
          "execution_count": 25
        }
      ],
      "source": [
        "train['transformed'][456]"
      ]
    },
    {
      "cell_type": "code",
      "execution_count": null,
      "metadata": {
        "colab": {
          "base_uri": "https://localhost:8080/",
          "height": 70
        },
        "id": "id2Jbyr_g2Jv",
        "outputId": "89c3b554-74ba-49e0-8445-7e322da6a05b"
      },
      "outputs": [
        {
          "output_type": "execute_result",
          "data": {
            "text/plain": [
              "'line segment connect two point sphere call chord spherefor sphere radiu length two chord ab cd sqrt sqrt respect n midpoint ab cd respect endpoint pair chord move surfac sphere given follow four proposit chord ab cd may intersect point chord ab cd may intersect point n maximum valu mn minimum valu mn among true proposit b c'"
            ],
            "application/vnd.google.colaboratory.intrinsic+json": {
              "type": "string"
            }
          },
          "metadata": {},
          "execution_count": 26
        }
      ],
      "source": [
        "train['newQuestion'][456]"
      ]
    },
    {
      "cell_type": "code",
      "execution_count": null,
      "metadata": {
        "colab": {
          "base_uri": "https://localhost:8080/",
          "height": 597
        },
        "id": "du04m2eK_3jW",
        "outputId": "57da8c57-068c-49ee-cccc-867c8b5b00c6"
      },
      "outputs": [
        {
          "output_type": "execute_result",
          "data": {
            "text/plain": [
              "                                                Question  label  \\\n",
              "0      A solitaire game is played as follows.  Six di...      3   \n",
              "1      2. The school table tennis championship was he...      5   \n",
              "2      Given that $x, y,$ and $z$ are real numbers th...      0   \n",
              "3      $25 \\cdot 22$ Given three distinct points $P\\l...      1   \n",
              "4      I am thinking of a five-digit number composed ...      5   \n",
              "...                                                  ...    ...   \n",
              "10184  Is there a first- or second-degree polynomial ...      0   \n",
              "10185  4. Let the side lengths of $\\triangle A B C$ b...      1   \n",
              "10186  A triangular array of squares has one square i...      5   \n",
              "10187  Suppose we are given seven points that are equ...      1   \n",
              "10188  4. In a football tournament, only teams from S...      5   \n",
              "\n",
              "                                             newQuestion  \\\n",
              "0      solitair game play follow six distinct pair ma...   \n",
              "1      school tabl tenni championship held accord oly...   \n",
              "2      given x z real number satisfi beginalign x sqr...   \n",
              "3      cdot given three distinct point pleftx_ y_righ...   \n",
              "4      think fivedigit number compos even digit swap ...   \n",
              "...                                                  ...   \n",
              "10184  first seconddegre polynomi take valu variabl v...   \n",
              "10185  let side length triangl b c x x maximum valu a...   \n",
              "10186  triangular array squar one squar first row two...   \n",
              "10187  suppos given seven point equal space around ci...   \n",
              "10188  footbal tournament team small town big citi pa...   \n",
              "\n",
              "                                             transformed  \n",
              "0      solitair game play follow six distinct pair ma...  \n",
              "1      <num> school tabl tenni championship held acco...  \n",
              "2      given x z real number satisfi begin align* x =...  \n",
              "3      <num> cdot <num> given three distinct point p ...  \n",
              "4      think five-digit number compos even digit swap...  \n",
              "...                                                  ...  \n",
              "10184  first- second-degre polynomi take valu <num> <...  \n",
              "10185  <num> let side length triangl b c <num> x <num...  \n",
              "10186  triangular array squar one squar first row two...  \n",
              "10187  suppos given seven point equal space around ci...  \n",
              "10188  <num> footbal tournament team small town big c...  \n",
              "\n",
              "[10189 rows x 4 columns]"
            ],
            "text/html": [
              "\n",
              "  <div id=\"df-84a2703c-edd7-45f8-8c47-6d9807e62434\" class=\"colab-df-container\">\n",
              "    <div>\n",
              "<style scoped>\n",
              "    .dataframe tbody tr th:only-of-type {\n",
              "        vertical-align: middle;\n",
              "    }\n",
              "\n",
              "    .dataframe tbody tr th {\n",
              "        vertical-align: top;\n",
              "    }\n",
              "\n",
              "    .dataframe thead th {\n",
              "        text-align: right;\n",
              "    }\n",
              "</style>\n",
              "<table border=\"1\" class=\"dataframe\">\n",
              "  <thead>\n",
              "    <tr style=\"text-align: right;\">\n",
              "      <th></th>\n",
              "      <th>Question</th>\n",
              "      <th>label</th>\n",
              "      <th>newQuestion</th>\n",
              "      <th>transformed</th>\n",
              "    </tr>\n",
              "  </thead>\n",
              "  <tbody>\n",
              "    <tr>\n",
              "      <th>0</th>\n",
              "      <td>A solitaire game is played as follows.  Six di...</td>\n",
              "      <td>3</td>\n",
              "      <td>solitair game play follow six distinct pair ma...</td>\n",
              "      <td>solitair game play follow six distinct pair ma...</td>\n",
              "    </tr>\n",
              "    <tr>\n",
              "      <th>1</th>\n",
              "      <td>2. The school table tennis championship was he...</td>\n",
              "      <td>5</td>\n",
              "      <td>school tabl tenni championship held accord oly...</td>\n",
              "      <td>&lt;num&gt; school tabl tenni championship held acco...</td>\n",
              "    </tr>\n",
              "    <tr>\n",
              "      <th>2</th>\n",
              "      <td>Given that $x, y,$ and $z$ are real numbers th...</td>\n",
              "      <td>0</td>\n",
              "      <td>given x z real number satisfi beginalign x sqr...</td>\n",
              "      <td>given x z real number satisfi begin align* x =...</td>\n",
              "    </tr>\n",
              "    <tr>\n",
              "      <th>3</th>\n",
              "      <td>$25 \\cdot 22$ Given three distinct points $P\\l...</td>\n",
              "      <td>1</td>\n",
              "      <td>cdot given three distinct point pleftx_ y_righ...</td>\n",
              "      <td>&lt;num&gt; cdot &lt;num&gt; given three distinct point p ...</td>\n",
              "    </tr>\n",
              "    <tr>\n",
              "      <th>4</th>\n",
              "      <td>I am thinking of a five-digit number composed ...</td>\n",
              "      <td>5</td>\n",
              "      <td>think fivedigit number compos even digit swap ...</td>\n",
              "      <td>think five-digit number compos even digit swap...</td>\n",
              "    </tr>\n",
              "    <tr>\n",
              "      <th>...</th>\n",
              "      <td>...</td>\n",
              "      <td>...</td>\n",
              "      <td>...</td>\n",
              "      <td>...</td>\n",
              "    </tr>\n",
              "    <tr>\n",
              "      <th>10184</th>\n",
              "      <td>Is there a first- or second-degree polynomial ...</td>\n",
              "      <td>0</td>\n",
              "      <td>first seconddegre polynomi take valu variabl v...</td>\n",
              "      <td>first- second-degre polynomi take valu &lt;num&gt; &lt;...</td>\n",
              "    </tr>\n",
              "    <tr>\n",
              "      <th>10185</th>\n",
              "      <td>4. Let the side lengths of $\\triangle A B C$ b...</td>\n",
              "      <td>1</td>\n",
              "      <td>let side length triangl b c x x maximum valu a...</td>\n",
              "      <td>&lt;num&gt; let side length triangl b c &lt;num&gt; x &lt;num...</td>\n",
              "    </tr>\n",
              "    <tr>\n",
              "      <th>10186</th>\n",
              "      <td>A triangular array of squares has one square i...</td>\n",
              "      <td>5</td>\n",
              "      <td>triangular array squar one squar first row two...</td>\n",
              "      <td>triangular array squar one squar first row two...</td>\n",
              "    </tr>\n",
              "    <tr>\n",
              "      <th>10187</th>\n",
              "      <td>Suppose we are given seven points that are equ...</td>\n",
              "      <td>1</td>\n",
              "      <td>suppos given seven point equal space around ci...</td>\n",
              "      <td>suppos given seven point equal space around ci...</td>\n",
              "    </tr>\n",
              "    <tr>\n",
              "      <th>10188</th>\n",
              "      <td>4. In a football tournament, only teams from S...</td>\n",
              "      <td>5</td>\n",
              "      <td>footbal tournament team small town big citi pa...</td>\n",
              "      <td>&lt;num&gt; footbal tournament team small town big c...</td>\n",
              "    </tr>\n",
              "  </tbody>\n",
              "</table>\n",
              "<p>10189 rows × 4 columns</p>\n",
              "</div>\n",
              "    <div class=\"colab-df-buttons\">\n",
              "\n",
              "  <div class=\"colab-df-container\">\n",
              "    <button class=\"colab-df-convert\" onclick=\"convertToInteractive('df-84a2703c-edd7-45f8-8c47-6d9807e62434')\"\n",
              "            title=\"Convert this dataframe to an interactive table.\"\n",
              "            style=\"display:none;\">\n",
              "\n",
              "  <svg xmlns=\"http://www.w3.org/2000/svg\" height=\"24px\" viewBox=\"0 -960 960 960\">\n",
              "    <path d=\"M120-120v-720h720v720H120Zm60-500h600v-160H180v160Zm220 220h160v-160H400v160Zm0 220h160v-160H400v160ZM180-400h160v-160H180v160Zm440 0h160v-160H620v160ZM180-180h160v-160H180v160Zm440 0h160v-160H620v160Z\"/>\n",
              "  </svg>\n",
              "    </button>\n",
              "\n",
              "  <style>\n",
              "    .colab-df-container {\n",
              "      display:flex;\n",
              "      gap: 12px;\n",
              "    }\n",
              "\n",
              "    .colab-df-convert {\n",
              "      background-color: #E8F0FE;\n",
              "      border: none;\n",
              "      border-radius: 50%;\n",
              "      cursor: pointer;\n",
              "      display: none;\n",
              "      fill: #1967D2;\n",
              "      height: 32px;\n",
              "      padding: 0 0 0 0;\n",
              "      width: 32px;\n",
              "    }\n",
              "\n",
              "    .colab-df-convert:hover {\n",
              "      background-color: #E2EBFA;\n",
              "      box-shadow: 0px 1px 2px rgba(60, 64, 67, 0.3), 0px 1px 3px 1px rgba(60, 64, 67, 0.15);\n",
              "      fill: #174EA6;\n",
              "    }\n",
              "\n",
              "    .colab-df-buttons div {\n",
              "      margin-bottom: 4px;\n",
              "    }\n",
              "\n",
              "    [theme=dark] .colab-df-convert {\n",
              "      background-color: #3B4455;\n",
              "      fill: #D2E3FC;\n",
              "    }\n",
              "\n",
              "    [theme=dark] .colab-df-convert:hover {\n",
              "      background-color: #434B5C;\n",
              "      box-shadow: 0px 1px 3px 1px rgba(0, 0, 0, 0.15);\n",
              "      filter: drop-shadow(0px 1px 2px rgba(0, 0, 0, 0.3));\n",
              "      fill: #FFFFFF;\n",
              "    }\n",
              "  </style>\n",
              "\n",
              "    <script>\n",
              "      const buttonEl =\n",
              "        document.querySelector('#df-84a2703c-edd7-45f8-8c47-6d9807e62434 button.colab-df-convert');\n",
              "      buttonEl.style.display =\n",
              "        google.colab.kernel.accessAllowed ? 'block' : 'none';\n",
              "\n",
              "      async function convertToInteractive(key) {\n",
              "        const element = document.querySelector('#df-84a2703c-edd7-45f8-8c47-6d9807e62434');\n",
              "        const dataTable =\n",
              "          await google.colab.kernel.invokeFunction('convertToInteractive',\n",
              "                                                    [key], {});\n",
              "        if (!dataTable) return;\n",
              "\n",
              "        const docLinkHtml = 'Like what you see? Visit the ' +\n",
              "          '<a target=\"_blank\" href=https://colab.research.google.com/notebooks/data_table.ipynb>data table notebook</a>'\n",
              "          + ' to learn more about interactive tables.';\n",
              "        element.innerHTML = '';\n",
              "        dataTable['output_type'] = 'display_data';\n",
              "        await google.colab.output.renderOutput(dataTable, element);\n",
              "        const docLink = document.createElement('div');\n",
              "        docLink.innerHTML = docLinkHtml;\n",
              "        element.appendChild(docLink);\n",
              "      }\n",
              "    </script>\n",
              "  </div>\n",
              "\n",
              "\n",
              "    <div id=\"df-6114d77e-8246-4f0f-b73a-e70d1eeda68f\">\n",
              "      <button class=\"colab-df-quickchart\" onclick=\"quickchart('df-6114d77e-8246-4f0f-b73a-e70d1eeda68f')\"\n",
              "                title=\"Suggest charts\"\n",
              "                style=\"display:none;\">\n",
              "\n",
              "<svg xmlns=\"http://www.w3.org/2000/svg\" height=\"24px\"viewBox=\"0 0 24 24\"\n",
              "     width=\"24px\">\n",
              "    <g>\n",
              "        <path d=\"M19 3H5c-1.1 0-2 .9-2 2v14c0 1.1.9 2 2 2h14c1.1 0 2-.9 2-2V5c0-1.1-.9-2-2-2zM9 17H7v-7h2v7zm4 0h-2V7h2v10zm4 0h-2v-4h2v4z\"/>\n",
              "    </g>\n",
              "</svg>\n",
              "      </button>\n",
              "\n",
              "<style>\n",
              "  .colab-df-quickchart {\n",
              "      --bg-color: #E8F0FE;\n",
              "      --fill-color: #1967D2;\n",
              "      --hover-bg-color: #E2EBFA;\n",
              "      --hover-fill-color: #174EA6;\n",
              "      --disabled-fill-color: #AAA;\n",
              "      --disabled-bg-color: #DDD;\n",
              "  }\n",
              "\n",
              "  [theme=dark] .colab-df-quickchart {\n",
              "      --bg-color: #3B4455;\n",
              "      --fill-color: #D2E3FC;\n",
              "      --hover-bg-color: #434B5C;\n",
              "      --hover-fill-color: #FFFFFF;\n",
              "      --disabled-bg-color: #3B4455;\n",
              "      --disabled-fill-color: #666;\n",
              "  }\n",
              "\n",
              "  .colab-df-quickchart {\n",
              "    background-color: var(--bg-color);\n",
              "    border: none;\n",
              "    border-radius: 50%;\n",
              "    cursor: pointer;\n",
              "    display: none;\n",
              "    fill: var(--fill-color);\n",
              "    height: 32px;\n",
              "    padding: 0;\n",
              "    width: 32px;\n",
              "  }\n",
              "\n",
              "  .colab-df-quickchart:hover {\n",
              "    background-color: var(--hover-bg-color);\n",
              "    box-shadow: 0 1px 2px rgba(60, 64, 67, 0.3), 0 1px 3px 1px rgba(60, 64, 67, 0.15);\n",
              "    fill: var(--button-hover-fill-color);\n",
              "  }\n",
              "\n",
              "  .colab-df-quickchart-complete:disabled,\n",
              "  .colab-df-quickchart-complete:disabled:hover {\n",
              "    background-color: var(--disabled-bg-color);\n",
              "    fill: var(--disabled-fill-color);\n",
              "    box-shadow: none;\n",
              "  }\n",
              "\n",
              "  .colab-df-spinner {\n",
              "    border: 2px solid var(--fill-color);\n",
              "    border-color: transparent;\n",
              "    border-bottom-color: var(--fill-color);\n",
              "    animation:\n",
              "      spin 1s steps(1) infinite;\n",
              "  }\n",
              "\n",
              "  @keyframes spin {\n",
              "    0% {\n",
              "      border-color: transparent;\n",
              "      border-bottom-color: var(--fill-color);\n",
              "      border-left-color: var(--fill-color);\n",
              "    }\n",
              "    20% {\n",
              "      border-color: transparent;\n",
              "      border-left-color: var(--fill-color);\n",
              "      border-top-color: var(--fill-color);\n",
              "    }\n",
              "    30% {\n",
              "      border-color: transparent;\n",
              "      border-left-color: var(--fill-color);\n",
              "      border-top-color: var(--fill-color);\n",
              "      border-right-color: var(--fill-color);\n",
              "    }\n",
              "    40% {\n",
              "      border-color: transparent;\n",
              "      border-right-color: var(--fill-color);\n",
              "      border-top-color: var(--fill-color);\n",
              "    }\n",
              "    60% {\n",
              "      border-color: transparent;\n",
              "      border-right-color: var(--fill-color);\n",
              "    }\n",
              "    80% {\n",
              "      border-color: transparent;\n",
              "      border-right-color: var(--fill-color);\n",
              "      border-bottom-color: var(--fill-color);\n",
              "    }\n",
              "    90% {\n",
              "      border-color: transparent;\n",
              "      border-bottom-color: var(--fill-color);\n",
              "    }\n",
              "  }\n",
              "</style>\n",
              "\n",
              "      <script>\n",
              "        async function quickchart(key) {\n",
              "          const quickchartButtonEl =\n",
              "            document.querySelector('#' + key + ' button');\n",
              "          quickchartButtonEl.disabled = true;  // To prevent multiple clicks.\n",
              "          quickchartButtonEl.classList.add('colab-df-spinner');\n",
              "          try {\n",
              "            const charts = await google.colab.kernel.invokeFunction(\n",
              "                'suggestCharts', [key], {});\n",
              "          } catch (error) {\n",
              "            console.error('Error during call to suggestCharts:', error);\n",
              "          }\n",
              "          quickchartButtonEl.classList.remove('colab-df-spinner');\n",
              "          quickchartButtonEl.classList.add('colab-df-quickchart-complete');\n",
              "        }\n",
              "        (() => {\n",
              "          let quickchartButtonEl =\n",
              "            document.querySelector('#df-6114d77e-8246-4f0f-b73a-e70d1eeda68f button');\n",
              "          quickchartButtonEl.style.display =\n",
              "            google.colab.kernel.accessAllowed ? 'block' : 'none';\n",
              "        })();\n",
              "      </script>\n",
              "    </div>\n",
              "\n",
              "  <div id=\"id_d7b2c3a8-d23c-4854-bb3f-1edda6fb9d0e\">\n",
              "    <style>\n",
              "      .colab-df-generate {\n",
              "        background-color: #E8F0FE;\n",
              "        border: none;\n",
              "        border-radius: 50%;\n",
              "        cursor: pointer;\n",
              "        display: none;\n",
              "        fill: #1967D2;\n",
              "        height: 32px;\n",
              "        padding: 0 0 0 0;\n",
              "        width: 32px;\n",
              "      }\n",
              "\n",
              "      .colab-df-generate:hover {\n",
              "        background-color: #E2EBFA;\n",
              "        box-shadow: 0px 1px 2px rgba(60, 64, 67, 0.3), 0px 1px 3px 1px rgba(60, 64, 67, 0.15);\n",
              "        fill: #174EA6;\n",
              "      }\n",
              "\n",
              "      [theme=dark] .colab-df-generate {\n",
              "        background-color: #3B4455;\n",
              "        fill: #D2E3FC;\n",
              "      }\n",
              "\n",
              "      [theme=dark] .colab-df-generate:hover {\n",
              "        background-color: #434B5C;\n",
              "        box-shadow: 0px 1px 3px 1px rgba(0, 0, 0, 0.15);\n",
              "        filter: drop-shadow(0px 1px 2px rgba(0, 0, 0, 0.3));\n",
              "        fill: #FFFFFF;\n",
              "      }\n",
              "    </style>\n",
              "    <button class=\"colab-df-generate\" onclick=\"generateWithVariable('train')\"\n",
              "            title=\"Generate code using this dataframe.\"\n",
              "            style=\"display:none;\">\n",
              "\n",
              "  <svg xmlns=\"http://www.w3.org/2000/svg\" height=\"24px\"viewBox=\"0 0 24 24\"\n",
              "       width=\"24px\">\n",
              "    <path d=\"M7,19H8.4L18.45,9,17,7.55,7,17.6ZM5,21V16.75L18.45,3.32a2,2,0,0,1,2.83,0l1.4,1.43a1.91,1.91,0,0,1,.58,1.4,1.91,1.91,0,0,1-.58,1.4L9.25,21ZM18.45,9,17,7.55Zm-12,3A5.31,5.31,0,0,0,4.9,8.1,5.31,5.31,0,0,0,1,6.5,5.31,5.31,0,0,0,4.9,4.9,5.31,5.31,0,0,0,6.5,1,5.31,5.31,0,0,0,8.1,4.9,5.31,5.31,0,0,0,12,6.5,5.46,5.46,0,0,0,6.5,12Z\"/>\n",
              "  </svg>\n",
              "    </button>\n",
              "    <script>\n",
              "      (() => {\n",
              "      const buttonEl =\n",
              "        document.querySelector('#id_d7b2c3a8-d23c-4854-bb3f-1edda6fb9d0e button.colab-df-generate');\n",
              "      buttonEl.style.display =\n",
              "        google.colab.kernel.accessAllowed ? 'block' : 'none';\n",
              "\n",
              "      buttonEl.onclick = () => {\n",
              "        google.colab.notebook.generateWithVariable('train');\n",
              "      }\n",
              "      })();\n",
              "    </script>\n",
              "  </div>\n",
              "\n",
              "    </div>\n",
              "  </div>\n"
            ],
            "application/vnd.google.colaboratory.intrinsic+json": {
              "type": "dataframe",
              "variable_name": "train",
              "summary": "{\n  \"name\": \"train\",\n  \"rows\": 10189,\n  \"fields\": [\n    {\n      \"column\": \"Question\",\n      \"properties\": {\n        \"dtype\": \"string\",\n        \"num_unique_values\": 10189,\n        \"samples\": [\n          \"4\\u30fb142 Solve the system of equations\\n$$\\\\left\\\\{\\\\begin{array}{l}\\nx_{1} \\\\cdot x_{2} \\\\cdot x_{3}=x_{1}+x_{2}+x_{3}, \\\\\\\\\\nx_{2} \\\\cdot x_{3} \\\\cdot x_{4}=x_{2}+x_{3}+x_{4}, \\\\\\\\\\nx_{3} \\\\cdot x_{4} \\\\cdot x_{5}=x_{3}+x_{4}+x_{5}, \\\\\\\\\\n\\\\cdots \\\\cdots \\\\cdots \\\\cdots \\\\cdots \\\\cdots \\\\cdots \\\\cdots \\\\cdots \\\\cdots \\\\\\\\\\nx_{1985} \\\\cdot x_{1986} \\\\cdot x_{1987}=x_{1985}+x_{1986}+x_{1987}, \\\\\\\\\\nx_{1986} \\\\cdot x_{1987} \\\\cdot x_{1}=x_{1986}+x_{1987}+x_{1}, \\\\\\\\\\nx_{1987} \\\\cdot x_{1} \\\\cdot x_{2}=x_{1987}+x_{1}+x_{2} .\\n\\\\end{array}\\\\right.$$\",\n          \"4. The arithmetic sequence $\\\\left\\\\{a_{n}\\\\right\\\\}$ satisfies $a_{1}^{2}+a_{10}^{2} \\\\leqslant 10$. Then the range of values for $S=a_{10}+a_{11}+\\\\cdots+a_{19}$ is $\\\\qquad$\",\n          \"10. The sum $\\\\sum_{k=1}^{2020} k \\\\cos \\\\left(\\\\frac{4 k \\\\pi}{4041}\\\\right)$ can be written in the form\\n\\n$$\\n\\\\frac{a \\\\cos \\\\left(\\\\frac{p \\\\pi}{q}\\\\right)-b}{c \\\\sin ^{2}\\\\left(\\\\frac{p \\\\pi}{q}\\\\right)}\\n$$\\n\\nwhere $a, b, c$ are relatively prime positive integers and $p, q$ are relatively prime positive integers where $p<q$. Determine $a+b+c+p+q$.\"\n        ],\n        \"semantic_type\": \"\",\n        \"description\": \"\"\n      }\n    },\n    {\n      \"column\": \"label\",\n      \"properties\": {\n        \"dtype\": \"number\",\n        \"std\": 1,\n        \"min\": 0,\n        \"max\": 7,\n        \"num_unique_values\": 8,\n        \"samples\": [\n          5,\n          4,\n          3\n        ],\n        \"semantic_type\": \"\",\n        \"description\": \"\"\n      }\n    },\n    {\n      \"column\": \"newQuestion\",\n      \"properties\": {\n        \"dtype\": \"string\",\n        \"num_unique_values\": 9962,\n        \"samples\": [\n          \"numer inequ compar numberstop student polikarp underachiev kolya form largest fivedigit number consist differ odd digit polikarp form number correctli kolya made mistak notic word differ condit pleas number turn larger polikarp number polikarp kolya form\",\n          \"find maximum number natur number x_x_ x_m satisfi conditionsa x_i x_j le j le divis andb sum x_x_ x_m x_x_ x_m cdot cdot cdot x_x_ x_m divis\",\n          \"everi posit integ n let textmod_ n remaind obtain n divid defin function f dot time recurs followsfij begincasestextmod_ j text text le j le text fi text ge text j text fi fij text ge text le j le endcaseswhat f\"\n        ],\n        \"semantic_type\": \"\",\n        \"description\": \"\"\n      }\n    },\n    {\n      \"column\": \"transformed\",\n      \"properties\": {\n        \"dtype\": \"string\",\n        \"num_unique_values\": 10106,\n        \"samples\": [\n          \"<num> write degre measur angl pi / <num> b pi / <num> c <num> pi / <num>\",\n          \"<num> let f n function satisfi follow three condit posit integ n f n posit integ b f n+<num> >f n c f f n =<num> n find f <num> present two solut first one present problem propos method use essenti student one second solut bamo <num> brillianc prize due andrew dudzik lynbrook hs andrew solut sketch shorter use ingeni mathemat trick superior solut illumin natur f n simpl way\",\n          \"exampl <num> contain fill <num> liter pure alcohol <num> liter pour refil water pour <num> liter mix solut refil water process continu k -th pour k geq <num> total x liter pure alcohol pour k+<num> -th pour total f x liter pure alcohol pour express function f x qquad\"\n        ],\n        \"semantic_type\": \"\",\n        \"description\": \"\"\n      }\n    }\n  ]\n}"
            }
          },
          "metadata": {},
          "execution_count": 27
        }
      ],
      "source": [
        "train"
      ]
    },
    {
      "cell_type": "markdown",
      "metadata": {
        "id": "Wjo3FropAuri"
      },
      "source": [
        "# **VECTORIZATION AND SMOTE**"
      ]
    },
    {
      "cell_type": "code",
      "execution_count": null,
      "metadata": {
        "id": "bPdZY0ZThmpV"
      },
      "outputs": [],
      "source": [
        "X = train['transformed']\n",
        "y = train['label']\n",
        "\n",
        "xtrain, xtest, ytrain, ytest = train_test_split(X,y, random_state=42, test_size=0.2)\n",
        "\n",
        "tfidf = TfidfVectorizer()\n",
        "x_train = tfidf.fit_transform(xtrain).toarray()\n",
        "x_test = tfidf.transform(xtest).toarray()\n",
        "\n",
        "smote = SMOTE()\n",
        "x_train, y_train = smote.fit_resample(x_train, ytrain)"
      ]
    },
    {
      "cell_type": "markdown",
      "metadata": {
        "id": "XKaiVpT0BUio"
      },
      "source": [
        "# **MODEL BUILDING**"
      ]
    },
    {
      "cell_type": "code",
      "execution_count": null,
      "metadata": {
        "colab": {
          "base_uri": "https://localhost:8080/"
        },
        "id": "QzEn5bbcryiW",
        "outputId": "eabfcafb-572b-4928-b91d-2024e9267c6a"
      },
      "outputs": [
        {
          "output_type": "stream",
          "name": "stdout",
          "text": [
            "              precision    recall  f1-score   support\n",
            "\n",
            "           0       0.76      0.43      0.54       522\n",
            "           1       0.87      0.87      0.87       500\n",
            "           2       0.51      0.81      0.62       221\n",
            "           3       0.49      0.60      0.54        63\n",
            "           4       0.67      0.76      0.71       331\n",
            "           5       0.66      0.58      0.62       362\n",
            "           6       0.08      0.45      0.13        20\n",
            "           7       0.75      0.79      0.77        19\n",
            "\n",
            "    accuracy                           0.66      2038\n",
            "   macro avg       0.60      0.66      0.60      2038\n",
            "weighted avg       0.71      0.66      0.67      2038\n",
            "\n"
          ]
        },
        {
          "output_type": "execute_result",
          "data": {
            "text/plain": [
              "0.6648675171736997"
            ]
          },
          "metadata": {},
          "execution_count": 29
        }
      ],
      "source": [
        "mnb = MultinomialNB(alpha = 0.01)\n",
        "mnb.fit(x_train, y_train)\n",
        "ypred = mnb.predict(x_test)\n",
        "print(classification_report(ytest, ypred))\n",
        "f1_score(ytest, ypred, average = 'micro')"
      ]
    },
    {
      "cell_type": "code",
      "execution_count": null,
      "metadata": {
        "colab": {
          "base_uri": "https://localhost:8080/"
        },
        "id": "6-ne41udtTW5",
        "outputId": "cc0e6081-b8db-4930-b68f-539b6faec84c"
      },
      "outputs": [
        {
          "output_type": "stream",
          "name": "stdout",
          "text": [
            "              precision    recall  f1-score   support\n",
            "\n",
            "           0       0.49      0.11      0.18       522\n",
            "           1       0.80      0.66      0.73       500\n",
            "           2       0.31      0.68      0.42       221\n",
            "           3       0.19      0.40      0.26        63\n",
            "           4       0.56      0.55      0.56       331\n",
            "           5       0.56      0.40      0.47       362\n",
            "           6       0.04      0.50      0.07        20\n",
            "           7       0.24      0.58      0.34        19\n",
            "\n",
            "    accuracy                           0.45      2038\n",
            "   macro avg       0.40      0.49      0.38      2038\n",
            "weighted avg       0.55      0.45      0.46      2038\n",
            "\n"
          ]
        },
        {
          "output_type": "execute_result",
          "data": {
            "text/plain": [
              "0.4479882237487733"
            ]
          },
          "metadata": {},
          "execution_count": 30
        }
      ],
      "source": [
        "mnb = GaussianNB()\n",
        "mnb.fit(x_train, y_train)\n",
        "ypred = mnb.predict(x_test)\n",
        "print(classification_report(ytest, ypred))\n",
        "f1_score(ytest, ypred, average = 'micro')"
      ]
    },
    {
      "cell_type": "code",
      "execution_count": null,
      "metadata": {
        "colab": {
          "base_uri": "https://localhost:8080/"
        },
        "id": "G0gZlKYlfBBl",
        "outputId": "661692e6-09da-49b2-9507-b4ce996a8dbb"
      },
      "outputs": [
        {
          "output_type": "stream",
          "name": "stdout",
          "text": [
            "              precision    recall  f1-score   support\n",
            "\n",
            "           0       0.79      0.68      0.73       522\n",
            "           1       0.88      0.86      0.87       500\n",
            "           2       0.57      0.77      0.66       221\n",
            "           3       0.85      0.46      0.60        63\n",
            "           4       0.61      0.76      0.68       331\n",
            "           5       0.68      0.58      0.63       362\n",
            "           6       0.24      0.35      0.29        20\n",
            "           7       0.75      0.63      0.69        19\n",
            "\n",
            "    accuracy                           0.72      2038\n",
            "   macro avg       0.67      0.64      0.64      2038\n",
            "weighted avg       0.73      0.72      0.72      2038\n",
            "\n"
          ]
        },
        {
          "output_type": "execute_result",
          "data": {
            "text/plain": [
              "0.7188420019627085"
            ]
          },
          "metadata": {},
          "execution_count": 31
        }
      ],
      "source": [
        "bnb = BernoulliNB(alpha = 0.01)\n",
        "bnb.fit(x_train, y_train)\n",
        "ypred = bnb.predict(x_test)\n",
        "print(classification_report(ytest, ypred))\n",
        "f1_score(ytest, ypred, average = 'micro')"
      ]
    },
    {
      "cell_type": "code",
      "source": [
        "from sklearn.ensemble import BaggingClassifier\n",
        "ada = BaggingClassifier(n_estimators = 50, estimator=LogisticRegression(max_iter=1000))\n",
        "ada.fit(x_train, y_train)\n",
        "ypred = ada.predict(x_test)\n",
        "print(classification_report(ytest, ypred))\n",
        "f1_score(ytest, ypred, average = 'micro')"
      ],
      "metadata": {
        "id": "R5R99xeeL6km"
      },
      "execution_count": null,
      "outputs": []
    },
    {
      "cell_type": "code",
      "execution_count": null,
      "metadata": {
        "colab": {
          "base_uri": "https://localhost:8080/"
        },
        "id": "CjH-vDrqMBqn",
        "outputId": "0e02361a-cb9c-4366-eb68-5b8c585d5518"
      },
      "outputs": [
        {
          "output_type": "stream",
          "name": "stdout",
          "text": [
            "              precision    recall  f1-score   support\n",
            "\n",
            "           0       0.68      0.64      0.66       522\n",
            "           1       0.81      0.80      0.81       500\n",
            "           2       0.53      0.55      0.54       221\n",
            "           3       0.86      0.87      0.87        63\n",
            "           4       0.63      0.67      0.65       331\n",
            "           5       0.60      0.58      0.59       362\n",
            "           6       0.27      0.45      0.34        20\n",
            "           7       0.39      0.47      0.43        19\n",
            "\n",
            "    accuracy                           0.67      2038\n",
            "   macro avg       0.60      0.63      0.61      2038\n",
            "weighted avg       0.67      0.67      0.67      2038\n",
            "\n"
          ]
        },
        {
          "output_type": "execute_result",
          "data": {
            "text/plain": [
              "0.6678115799803729"
            ]
          },
          "metadata": {},
          "execution_count": 30
        }
      ],
      "source": [
        "dt = DecisionTreeClassifier(max_depth=64)\n",
        "dt.fit(x_train, y_train)\n",
        "dtpred = dt.predict(x_test)\n",
        "print(classification_report(ytest, dtpred))\n",
        "f1_score(ytest, dtpred, average=\"micro\")"
      ]
    },
    {
      "cell_type": "code",
      "execution_count": null,
      "metadata": {
        "colab": {
          "base_uri": "https://localhost:8080/"
        },
        "id": "e-hxUVIOufwo",
        "outputId": "846d155c-8600-4413-968d-775db064ef3c"
      },
      "outputs": [
        {
          "output_type": "stream",
          "name": "stdout",
          "text": [
            "              precision    recall  f1-score   support\n",
            "\n",
            "           0       0.81      0.64      0.71       522\n",
            "           1       0.87      0.92      0.90       500\n",
            "           2       0.67      0.71      0.69       221\n",
            "           3       0.85      0.84      0.85        63\n",
            "           4       0.69      0.83      0.75       331\n",
            "           5       0.68      0.65      0.67       362\n",
            "           6       0.16      0.30      0.21        20\n",
            "           7       0.71      0.79      0.75        19\n",
            "\n",
            "    accuracy                           0.75      2038\n",
            "   macro avg       0.68      0.71      0.69      2038\n",
            "weighted avg       0.76      0.75      0.75      2038\n",
            "\n"
          ]
        },
        {
          "output_type": "execute_result",
          "data": {
            "text/plain": [
              "0.7526987242394504"
            ]
          },
          "metadata": {},
          "execution_count": 31
        }
      ],
      "source": [
        "rf = RandomForestClassifier(n_estimators=200, max_depth=48)\n",
        "rf.fit(x_train, y_train)\n",
        "rfpred = rf.predict(x_test)\n",
        "print(classification_report(ytest, rfpred))\n",
        "f1_score(ytest, rfpred, average=\"micro\")"
      ]
    },
    {
      "cell_type": "code",
      "execution_count": null,
      "metadata": {
        "colab": {
          "base_uri": "https://localhost:8080/"
        },
        "id": "99kbkDSWSCzs",
        "outputId": "deb6bfc4-fd6f-4ad7-a508-f9c71d0d61ce"
      },
      "outputs": [
        {
          "output_type": "stream",
          "name": "stdout",
          "text": [
            "              precision    recall  f1-score   support\n",
            "\n",
            "           0       0.80      0.59      0.68       522\n",
            "           1       0.90      0.89      0.89       500\n",
            "           2       0.65      0.73      0.69       221\n",
            "           3       0.70      0.83      0.76        63\n",
            "           4       0.72      0.76      0.74       331\n",
            "           5       0.68      0.69      0.68       362\n",
            "           6       0.10      0.45      0.16        20\n",
            "           7       0.59      0.89      0.71        19\n",
            "\n",
            "    accuracy                           0.73      2038\n",
            "   macro avg       0.64      0.73      0.66      2038\n",
            "weighted avg       0.76      0.73      0.74      2038\n",
            "\n"
          ]
        },
        {
          "output_type": "execute_result",
          "data": {
            "text/plain": [
              "0.7325809617271836"
            ]
          },
          "metadata": {},
          "execution_count": 32
        }
      ],
      "source": [
        "lr = LogisticRegression(max_iter=1000)\n",
        "lr.fit(x_train, y_train)\n",
        "lrpred = lr.predict(x_test)\n",
        "print(classification_report(ytest, lrpred))\n",
        "f1_score(ytest, lrpred, average=\"micro\")"
      ]
    },
    {
      "cell_type": "code",
      "execution_count": null,
      "metadata": {
        "id": "k6zAqcmVWHMn"
      },
      "outputs": [],
      "source": [
        "# xg = XGBClassifier(n_estimators = 200, max_depth = 48)\n",
        "# xg.fit(x_train, y_train)\n",
        "# xgpred = xg.predict(x_test)\n",
        "# print(classification_report(ytest, xgpred))\n",
        "# f1_score(ytest, xgpred, average=\"micro\")"
      ]
    },
    {
      "cell_type": "code",
      "execution_count": null,
      "metadata": {
        "colab": {
          "base_uri": "https://localhost:8080/"
        },
        "id": "ykjMjWuh_xzt",
        "outputId": "caa7cfe2-99d8-4595-9960-c5d62f9724b3"
      },
      "outputs": [
        {
          "output_type": "stream",
          "name": "stdout",
          "text": [
            "              precision    recall  f1-score   support\n",
            "\n",
            "           0       0.74      0.70      0.72       522\n",
            "           1       0.89      0.89      0.89       500\n",
            "           2       0.68      0.67      0.67       221\n",
            "           3       0.95      0.57      0.71        63\n",
            "           4       0.74      0.76      0.75       331\n",
            "           5       0.68      0.72      0.70       362\n",
            "           6       0.10      0.25      0.14        20\n",
            "           7       0.92      0.63      0.75        19\n",
            "\n",
            "    accuracy                           0.75      2038\n",
            "   macro avg       0.71      0.65      0.67      2038\n",
            "weighted avg       0.76      0.75      0.75      2038\n",
            "\n"
          ]
        },
        {
          "output_type": "execute_result",
          "data": {
            "text/plain": [
              "0.7477919528949951"
            ]
          },
          "metadata": {},
          "execution_count": 34
        }
      ],
      "source": [
        "sv = SVC()\n",
        "sv.fit(x_train, y_train)\n",
        "svpred = sv.predict(x_test)\n",
        "print(classification_report(ytest, svpred))\n",
        "f1_score(ytest, svpred, average=\"micro\")"
      ]
    },
    {
      "cell_type": "code",
      "execution_count": null,
      "metadata": {
        "colab": {
          "base_uri": "https://localhost:8080/"
        },
        "id": "xHfQ83hsqgOG",
        "outputId": "58a7d072-8ab8-4f29-bbe5-f6550cac60b3"
      },
      "outputs": [
        {
          "name": "stdout",
          "output_type": "stream",
          "text": [
            "              precision    recall  f1-score   support\n",
            "\n",
            "           0       0.76      0.71      0.73       522\n",
            "           1       0.88      0.92      0.90       500\n",
            "           2       0.69      0.69      0.69       221\n",
            "           3       0.85      0.73      0.79        63\n",
            "           4       0.71      0.82      0.76       331\n",
            "           5       0.75      0.65      0.70       362\n",
            "           6       0.16      0.30      0.21        20\n",
            "           7       0.79      0.79      0.79        19\n",
            "\n",
            "    accuracy                           0.76      2038\n",
            "   macro avg       0.70      0.70      0.70      2038\n",
            "weighted avg       0.77      0.76      0.76      2038\n",
            "\n"
          ]
        },
        {
          "data": {
            "text/plain": [
              "0.7639842983316978"
            ]
          },
          "execution_count": 40,
          "metadata": {},
          "output_type": "execute_result"
        }
      ],
      "source": [
        "estimators = [('rf', rf), ('bnb', bnb), ('sv', sv), ('lr', lr)]\n",
        "vc = VotingClassifier(estimators=estimators)\n",
        "vc.fit(x_train, y_train)\n",
        "vcpred = vc.predict(x_test)\n",
        "print(classification_report(ytest, vcpred))\n",
        "f1_score(ytest, vcpred, average=\"micro\")"
      ]
    },
    {
      "cell_type": "code",
      "execution_count": null,
      "metadata": {
        "colab": {
          "background_save": true
        },
        "id": "SpsbtdOLqgLM",
        "outputId": "b5018e63-63df-40ab-d9a7-ef5114e4ee2c"
      },
      "outputs": [
        {
          "name": "stdout",
          "output_type": "stream",
          "text": [
            "              precision    recall  f1-score   support\n",
            "\n",
            "           0       0.77      0.70      0.74       522\n",
            "           1       0.88      0.93      0.91       500\n",
            "           2       0.73      0.70      0.71       221\n",
            "           3       0.83      0.71      0.77        63\n",
            "           4       0.71      0.78      0.74       331\n",
            "           5       0.72      0.73      0.73       362\n",
            "           6       0.12      0.20      0.15        20\n",
            "           7       0.93      0.68      0.79        19\n",
            "\n",
            "    accuracy                           0.77      2038\n",
            "   macro avg       0.71      0.68      0.69      2038\n",
            "weighted avg       0.77      0.77      0.77      2038\n",
            "\n"
          ]
        },
        {
          "data": {
            "text/plain": [
              "0.7693817468105987"
            ]
          },
          "execution_count": 46,
          "metadata": {},
          "output_type": "execute_result"
        }
      ],
      "source": [
        "estim = [('rf', rf), ('bnb', bnb), ('lr', lr)]\n",
        "stack = StackingClassifier(estimators=estim, final_estimator=rf)\n",
        "stack.fit(x_train, y_train)\n",
        "preds = stack.predict(x_test)\n",
        "print(classification_report(ytest, preds))\n",
        "f1_score(ytest, preds, average='micro')"
      ]
    },
    {
      "cell_type": "code",
      "execution_count": null,
      "metadata": {
        "id": "h8nr7du9qeYc"
      },
      "outputs": [],
      "source": []
    }
  ],
  "metadata": {
    "accelerator": "GPU",
    "colab": {
      "gpuType": "T4",
      "toc_visible": true,
      "provenance": [],
      "mount_file_id": "1yd2yLyvSZH8f7NpajQS2mn40N5_WYeUD",
      "authorship_tag": "ABX9TyMwkLwCp9bq2ACVrX+9LcFN",
      "include_colab_link": true
    },
    "kernelspec": {
      "display_name": "Python 3",
      "name": "python3"
    },
    "language_info": {
      "name": "python"
    }
  },
  "nbformat": 4,
  "nbformat_minor": 0
}